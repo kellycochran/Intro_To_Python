{
 "cells": [
  {
   "cell_type": "markdown",
   "metadata": {},
   "source": [
    "# BIOS-274 : November 21 : Class 4\n",
    "\n",
    "Loops:  for, while, break, continue<br>\n",
    "Reading and writing files<br>\n",
    "formating output<br>\n",
    "range(), enumerate(), zip()"
   ]
  },
  {
   "cell_type": "code",
   "execution_count": null,
   "metadata": {},
   "outputs": [],
   "source": []
  },
  {
   "cell_type": "code",
   "execution_count": 1,
   "metadata": {},
   "outputs": [],
   "source": [
    "# using set to find the unique letters in a string\n",
    "\n",
    "# create a new empty dictionary\n",
    "nt_count = {}\n",
    "\n",
    "# get a set of unique characters in our DNA string\n",
    "\n",
    "dna = 'GTACCNTTGATTTCGTATTCTGAGAGGCTGCTGCTTAGCGGTAGCCCCTTGGTTTCCGTGGCAACGGAAAA'\n",
    "unique = set(dna)\n",
    "\n",
    "print('unique nt: ', unique) ## {'C', 'A', 'G', 'T', 'N'}\n",
    "\n",
    "# iterate through each unique nucleotide\n",
    "for nt in unique:\n",
    "  # count the number of this unique nt in dna\n",
    "  count = dna.count(nt)\n",
    "\n",
    "  # add our count to our dict\n",
    "  nt_count[nt] = count\n",
    "\n",
    "print('nt count:', nt_count)"
   ]
  },
  {
   "cell_type": "code",
   "execution_count": 2,
   "metadata": {},
   "outputs": [],
   "source": [
    "# Common question.\n",
    "# You have a method to identify genes that are significantly different quanification\n",
    "# values from the average in RNA-seq results.\n",
    "# Which genes are unique between experiments? \n",
    "# Which set of genes are unique between a large set of results and a new tissue sample?"
   ]
  },
  {
   "cell_type": "code",
   "execution_count": null,
   "metadata": {},
   "outputs": [],
   "source": []
  },
  {
   "cell_type": "code",
   "execution_count": 3,
   "metadata": {},
   "outputs": [],
   "source": [
    "# for loop using range()"
   ]
  },
  {
   "cell_type": "code",
   "execution_count": 4,
   "metadata": {},
   "outputs": [],
   "source": [
    "animal_list = ['ewe', 'cat', 'dog', 'pig', 'hog', 'bat', 'cow', \n",
    "               'ant', 'fox', 'rat', 'yak', 'ram', 'ape']"
   ]
  },
  {
   "cell_type": "code",
   "execution_count": 5,
   "metadata": {},
   "outputs": [],
   "source": [
    "print('Number of items in list:', len(animal_list))"
   ]
  },
  {
   "cell_type": "code",
   "execution_count": 6,
   "metadata": {},
   "outputs": [
    {
     "name": "stdout",
     "output_type": "stream",
     "text": [
      "0 ewe\n",
      "1 cat\n",
      "2 dog\n",
      "3 pig\n",
      "4 hog\n",
      "5 bat\n",
      "6 cow\n",
      "7 ant\n",
      "8 fox\n",
      "9 rat\n",
      "10 yak\n",
      "11 ram\n",
      "12 ape\n"
     ]
    }
   ],
   "source": [
    "# typical generator of integers for loop operation\n",
    "for animal_i in range(len(animal_list)):\n",
    "    print(animal_i, animal_list[animal_i])"
   ]
  },
  {
   "cell_type": "code",
   "execution_count": 7,
   "metadata": {},
   "outputs": [
    {
     "name": "stdout",
     "output_type": "stream",
     "text": [
      "12 ape\n",
      "11 ram\n",
      "10 yak\n",
      "9 rat\n",
      "8 fox\n",
      "7 ant\n",
      "6 cow\n",
      "5 bat\n",
      "4 hog\n",
      "3 pig\n",
      "2 dog\n",
      "1 cat\n",
      "0 ewe\n"
     ]
    }
   ],
   "source": [
    "# can use in many variations : range(start, stop, step)\n",
    "for animal_i in range(len(animal_list)-1, -1, -1):\n",
    "    print(animal_i, animal_list[animal_i])"
   ]
  },
  {
   "cell_type": "code",
   "execution_count": 8,
   "metadata": {},
   "outputs": [
    {
     "name": "stdout",
     "output_type": "stream",
     "text": [
      "0 ewe\n",
      "2 dog\n",
      "4 hog\n",
      "6 cow\n",
      "8 fox\n",
      "10 yak\n",
      "12 ape\n"
     ]
    }
   ],
   "source": [
    "# jumping through with a defined step\n",
    "for animal_i in range(0, len(animal_list), 2):\n",
    "    print(animal_i, animal_list[animal_i])"
   ]
  },
  {
   "cell_type": "code",
   "execution_count": 9,
   "metadata": {},
   "outputs": [
    {
     "name": "stdout",
     "output_type": "stream",
     "text": [
      "0 ewe\n",
      "1 cat\n",
      "2 dog\n",
      "3 pig\n"
     ]
    }
   ],
   "source": [
    "# slice of list before len()\n",
    "for animal_i in range(len(animal_list[3:7])):\n",
    "    print(animal_i, animal_list[animal_i])"
   ]
  },
  {
   "cell_type": "code",
   "execution_count": 10,
   "metadata": {},
   "outputs": [],
   "source": [
    "# typical ways to obtain sequence of numbers, used in for loops\n",
    "# calculate the differences between numbers using range() or enumerate()"
   ]
  },
  {
   "cell_type": "code",
   "execution_count": 11,
   "metadata": {},
   "outputs": [],
   "source": [
    "# enumerate(), generate an integer for each value in a list"
   ]
  },
  {
   "cell_type": "code",
   "execution_count": 12,
   "metadata": {},
   "outputs": [
    {
     "name": "stdout",
     "output_type": "stream",
     "text": [
      "[(0, 'ewe'), (1, 'cat'), (2, 'dog'), (3, 'pig'), (4, 'hog'), (5, 'bat'), (6, 'cow'), (7, 'ant'), (8, 'fox'), (9, 'rat'), (10, 'yak'), (11, 'ram'), (12, 'ape')]\n"
     ]
    }
   ],
   "source": [
    "print(list(enumerate(animal_list)))"
   ]
  },
  {
   "cell_type": "code",
   "execution_count": 13,
   "metadata": {},
   "outputs": [],
   "source": [
    "# define list of numbers\n",
    "numbers = [5, 7, 6, 5, 0, 1, 2, 9, 5, 6, 2, 8, 8, 7, 8, 9, 3, 3, 8]\n",
    "deltas = []"
   ]
  },
  {
   "cell_type": "code",
   "execution_count": 14,
   "metadata": {},
   "outputs": [
    {
     "name": "stdout",
     "output_type": "stream",
     "text": [
      "number of items in the list numbers = 19 \n",
      "range output = [1, 2, 3, 4, 5, 6, 7, 8, 9, 10, 11, 12, 13, 14, 15, 16, 17, 18]\n"
     ]
    }
   ],
   "source": [
    "# start at 1 so the second part of the delta calculation is 0\n",
    "# range is like slicing, the end number is one more than what it generates.\n",
    "# Said another way, range does not include the *end* number\n",
    "\n",
    "print('number of items in the list numbers =', len(numbers), \n",
    "      '\\nrange output =', list(range(1,len(numbers))))"
   ]
  },
  {
   "cell_type": "code",
   "execution_count": 15,
   "metadata": {},
   "outputs": [
    {
     "name": "stdout",
     "output_type": "stream",
     "text": [
      "[5, 7, 6, 5, 0, 1, 2, 9, 5, 6, 2, 8, 8, 7, 8, 9, 3, 3, 8] \n",
      "\n",
      "<enumerate object at 0x106cfdcf0>\n",
      "\n",
      "[(0, 5), (1, 7), (2, 6), (3, 5), (4, 0), (5, 1), (6, 2), (7, 9), (8, 5), (9, 6), (10, 2), (11, 8), (12, 8), (13, 7), (14, 8), (15, 9), (16, 3), (17, 3), (18, 8)]\n",
      "0 5\n",
      "1 7\n",
      "2 6\n",
      "3 5\n",
      "4 0\n",
      "5 1\n",
      "6 2\n",
      "7 9\n",
      "8 5\n",
      "9 6\n",
      "10 2\n",
      "11 8\n",
      "12 8\n",
      "13 7\n",
      "14 8\n",
      "15 9\n",
      "16 3\n",
      "17 3\n",
      "18 8\n"
     ]
    }
   ],
   "source": [
    "# enumerate() example\n",
    "print(numbers, '\\n')\n",
    "\n",
    "print(enumerate(numbers), end='\\n\\n')\n",
    "print(list(enumerate(numbers)))\n",
    "\n",
    "for i, number in enumerate(numbers):\n",
    "    print(i, number)"
   ]
  },
  {
   "cell_type": "code",
   "execution_count": 16,
   "metadata": {},
   "outputs": [
    {
     "name": "stdout",
     "output_type": "stream",
     "text": [
      "numbers  : [5, 7, 6, 5, 0, 1, 2, 9, 5, 6, 2, 8, 8, 7, 8, 9, 3, 3, 8]\n",
      "range    : [2, -1, -1, -5, 1, 1, 7, -4, 1, -4, 6, 0, -1, 1, 1, -6, 0, 5]\n"
     ]
    }
   ],
   "source": [
    "# calculate difference by defining index\n",
    "print('numbers  :', numbers)\n",
    "\n",
    "for i in range(1, len(numbers)):\n",
    "    delta = numbers[i] - numbers[i - 1]\n",
    "    deltas.append(delta)\n",
    "print('range    :', deltas)"
   ]
  },
  {
   "cell_type": "code",
   "execution_count": 17,
   "metadata": {},
   "outputs": [
    {
     "name": "stdout",
     "output_type": "stream",
     "text": [
      "enumerate: [2, -1, -1, -5, 1, 1, 7, -4, 1, -4, 6, 0, -1, 1, 1, -6, 0, 5]\n"
     ]
    }
   ],
   "source": [
    "# calculate difference by using result of enumerate()\n",
    "deltas = []\n",
    "\n",
    "for i, number in enumerate(numbers[1:]):\n",
    "    delta = number - numbers[i]\n",
    "    deltas.append(delta)\n",
    "print('enumerate:', deltas)"
   ]
  },
  {
   "cell_type": "code",
   "execution_count": null,
   "metadata": {},
   "outputs": [],
   "source": []
  },
  {
   "cell_type": "code",
   "execution_count": 18,
   "metadata": {},
   "outputs": [
    {
     "name": "stdout",
     "output_type": "stream",
     "text": [
      "After def\n",
      "x= 100\n",
      "y= 100\n",
      "Inside def\n",
      "x = 5\n",
      "y = 5\n",
      "After function call\n",
      "x= 100\n",
      "y= 100\n"
     ]
    }
   ],
   "source": [
    "# global vs local variables\n",
    "\n",
    "def set_local_x_to_five():\n",
    "  print('Inside def')\n",
    "  x = 5 # local to set_local_x_to_five()\n",
    "  y = 5\n",
    "  print(\"x =\", x)\n",
    "  print(\"y =\", y)\n",
    "\n",
    "print('After def')\n",
    "x = 100 # global x\n",
    "y = 100 # global\n",
    "print('x=', x)\n",
    "print('y=', y)\n",
    "\n",
    "set_local_x_to_five()\n",
    "print('After function call')\n",
    "print('x=', x)\n",
    "print('y=', y)"
   ]
  },
  {
   "cell_type": "code",
   "execution_count": null,
   "metadata": {},
   "outputs": [],
   "source": []
  },
  {
   "cell_type": "code",
   "execution_count": 19,
   "metadata": {},
   "outputs": [
    {
     "name": "stdout",
     "output_type": "stream",
     "text": [
      "1\n",
      "2\n",
      "Fizz\n",
      "4\n",
      "Buzz\n",
      "Fizz\n",
      "7\n",
      "8\n",
      "Fizz\n",
      "Buzz\n",
      "11\n",
      "Fizz\n",
      "13\n",
      "14\n",
      "FizzBuzz\n",
      "16\n",
      "17\n",
      "Fizz\n",
      "19\n",
      "Buzz\n",
      "Fizz\n",
      "22\n",
      "23\n",
      "Fizz\n",
      "Buzz\n",
      "26\n",
      "Fizz\n",
      "28\n",
      "29\n",
      "FizzBuzz\n",
      "31\n",
      "32\n",
      "Fizz\n",
      "34\n",
      "Buzz\n",
      "Fizz\n",
      "37\n",
      "38\n",
      "Fizz\n",
      "Buzz\n",
      "41\n",
      "Fizz\n",
      "43\n",
      "44\n",
      "FizzBuzz\n",
      "46\n",
      "47\n",
      "Fizz\n",
      "49\n",
      "Buzz\n"
     ]
    }
   ],
   "source": [
    "# if, elif, else\n",
    "\n",
    "for x in range(1, 51):\n",
    "    if (x % 3 == 0) and (x % 5 == 0):\n",
    "        print('FizzBuzz')\n",
    "    elif x % 3 == 0:\n",
    "        print('Fizz')\n",
    "    elif x % 5 == 0:\n",
    "        print('Buzz')\n",
    "    else:\n",
    "        print(x)\n"
   ]
  },
  {
   "cell_type": "code",
   "execution_count": null,
   "metadata": {},
   "outputs": [],
   "source": []
  },
  {
   "cell_type": "code",
   "execution_count": 20,
   "metadata": {},
   "outputs": [
    {
     "name": "stdout",
     "output_type": "stream",
     "text": [
      "new_d {1: 'a', 2: 'b', 3: 'c'}\n",
      "new_l [(1, 'a'), (2, 'b'), (3, 'c')]\n"
     ]
    }
   ],
   "source": [
    "# zip two lists together to make a dictionary or array of tuples\n",
    "\n",
    "numbers = [1, 2, 3]\n",
    "letters = ['a', 'b', 'c']\n",
    "new_d = dict(zip(numbers, letters))\n",
    "print('new_d', new_d)\n",
    "new_l = list(zip(numbers, letters))\n",
    "print('new_l', new_l)"
   ]
  },
  {
   "cell_type": "code",
   "execution_count": 21,
   "metadata": {},
   "outputs": [
    {
     "name": "stdout",
     "output_type": "stream",
     "text": [
      "{0: 'ewe', 1: 'cat', 2: 'dog', 3: 'pig', 4: 'hog', 5: 'bat', 6: 'cow', 7: 'ant', 8: 'fox', 9: 'rat', 10: 'yak', 11: 'ram', 12: 'ape'}\n"
     ]
    }
   ],
   "source": [
    "# can use range, as its just making a list of integers\n",
    "\n",
    "animal_dict = dict(zip(range(len(animal_list)), animal_list))\n",
    "print(animal_dict)"
   ]
  },
  {
   "cell_type": "code",
   "execution_count": null,
   "metadata": {},
   "outputs": [],
   "source": []
  },
  {
   "cell_type": "code",
   "execution_count": 22,
   "metadata": {},
   "outputs": [],
   "source": [
    "# str.format\n",
    "\n",
    "# Type\tMeaning\n",
    "# d\tDecimal integer\n",
    "# c\tCorresponding Unicode character\n",
    "# b\tBinary format\n",
    "# o\tOctal format\n",
    "# x\tHexadecimal format (lower case)\n",
    "# X\tHexadecimal format (upper case)\n",
    "# n\tSame as 'd'. Except it uses current locale setting for number separator\n",
    "# e\tExponential notation. (lowercase e)\n",
    "# E\tExponential notation (uppercase E)\n",
    "# f\tDisplays fixed point number (Default: 6)\n",
    "# F\tSame as 'f'. Except displays 'inf' as 'INF' and 'nan' as 'NAN'\n",
    "# g\tGeneral format. Rounds number to p significant digits. (Default precision: 6)\n",
    "# G\tSame as 'g'. Except switches to 'E' if the number is large.\n",
    "# %\tPercentage. Multiples by 100 and puts % at the end."
   ]
  },
  {
   "cell_type": "code",
   "execution_count": 23,
   "metadata": {},
   "outputs": [],
   "source": [
    "# writing a file with FizzBuzz results\n",
    "\n",
    "with open('test_file.txt', mode='w') as test_fh:\n",
    "    for x in range(1, 101):\n",
    "        if (x % 3 == 0) and (x % 5 == 0):\n",
    "            test_fh.write('{0:3d}\\t{1:s}\\n'.format(x, 'FizzBuzz'))\n",
    "        elif x % 3 == 0:\n",
    "            test_fh.write('{0:3d}\\t{1:s}\\n'.format(x, 'Fizz'))\n",
    "        elif x % 5 == 0:\n",
    "            test_fh.write('{0:3d}\\t{1:s}\\n'.format(x, 'Buzz'))\n",
    "        else:\n",
    "            test_fh.write('{0:3d}\\n'.format(x))"
   ]
  },
  {
   "cell_type": "code",
   "execution_count": 24,
   "metadata": {},
   "outputs": [],
   "source": [
    "# writing a file with FizzBuzz results\n",
    "\n",
    "with open('test_file2.txt', mode='w') as test_fh:\n",
    "    for x in range(1, 101):\n",
    "        if (x % 3 == 0) and (x % 5 == 0):\n",
    "            test_fh.write('{0:3d},{1:s},{1:s}\\n'.format(x, 'FizzBuzz'))\n",
    "        elif x % 3 == 0:\n",
    "            test_fh.write('{0:6.2f},{1:s}\\n'.format(float(x), 'Fizz'))\n",
    "        elif x % 5 == 0:\n",
    "            test_fh.write('{},{}\\n'.format(x, 'Buzz'))\n",
    "        else:\n",
    "            test_fh.write('{0:3d},\\n'.format(x))"
   ]
  },
  {
   "cell_type": "code",
   "execution_count": null,
   "metadata": {},
   "outputs": [],
   "source": []
  },
  {
   "cell_type": "code",
   "execution_count": 25,
   "metadata": {},
   "outputs": [
    {
     "name": "stdout",
     "output_type": "stream",
     "text": [
      "Size of shakespeare.txt is 5,289,941\n",
      "ess\n",
      "Biggles: I confess!\n",
      "Ximinez: Not you!\n"
     ]
    }
   ],
   "source": [
    "# Find most common letter used by Skakespeare\n",
    "# load the complete file into a string\n",
    "\n",
    "FILENAME = 'shakespeare.txt'\n",
    "\n",
    "with open(FILENAME, mode='r') as Shake_File:\n",
    "    ShakespeareFileText = Shake_File.read()\n",
    "#    ShakespeareFileText = Shake_File.read().upper()\n",
    "\n",
    "print('Size of {0:s} is {1:,d}'.format(FILENAME, len(ShakespeareFileText)))\n",
    "\n",
    "print(ShakespeareFileText[5289900:])\n",
    "\n",
    "## ShakespeareFileText will be a single string holding the full text of\n",
    "## the file (\"shakespeare.txt\")"
   ]
  },
  {
   "cell_type": "code",
   "execution_count": 26,
   "metadata": {},
   "outputs": [
    {
     "name": "stdout",
     "output_type": "stream",
     "text": [
      "['A', 'B', 'C', 'D', 'E', 'F', 'G', 'H', 'I', 'J', 'K', 'L', 'M', 'N', 'O', 'P', 'Q', 'R', 'S', 'T', 'U', 'V', 'W', 'X', 'Y', 'Z', 'a', 'b', 'c', 'd', 'e', 'f', 'g', 'h', 'i', 'g', 'k', 'l', 'm', 'n', 'o', 'p', 'q', 'r', 's', 't', 'u', 'v', 'w', 'x', 'y', 'z']\n"
     ]
    }
   ],
   "source": [
    "# the characters to search for in the text\n",
    "ALPHABET = 'ABCDEFGHIJKLMNOPQRSTUVWXYZabcdefghigklmnopqrstuvwxyz'\n",
    "\n",
    "## Convert the ALPHABET string 'ABC...' into a list of characters \n",
    "## ['A', 'B', 'C', ...]\n",
    "AlphList = list(ALPHABET)\n",
    "\n",
    "print(AlphList)"
   ]
  },
  {
   "cell_type": "code",
   "execution_count": 27,
   "metadata": {},
   "outputs": [
    {
     "name": "stdout",
     "output_type": "stream",
     "text": [
      "[45662, 13002, 19273, 13158, 35564, 11119, 10393, 16370, 54693, 1963, 5819, 22420, 14384, 26077, 28582, 9623, 1046, 24686, 30247, 36551, 14715, 4231, 14892, 679, 7974, 423, 257845, 49635, 71196, 143414, 436544, 73045, 61319, 233261, 212296, 61319, 31755, 155082, 100772, 229561, 296911, 49830, 2944, 223011, 230622, 309155, 120751, 36427, 78436, 4808, 89712, 1429]\n"
     ]
    }
   ],
   "source": [
    "## Start with an empty list of counts\n",
    "IncidenceList = []\n",
    "\n",
    "for char in AlphList:\n",
    "    # Do the this code block for every item in AlphList\n",
    "    # Count number of occurrences of character in ShakespeareFileText.\n",
    "    #\n",
    "    # Append count to IncidenceList\n",
    "    IncidenceList.append(ShakespeareFileText.count(char))\n",
    "\n",
    "# how else could this have been done?\n",
    "# make a dictionary with char:count\n",
    "\n",
    "print(IncidenceList)"
   ]
  },
  {
   "cell_type": "code",
   "execution_count": 28,
   "metadata": {},
   "outputs": [
    {
     "name": "stdout",
     "output_type": "stream",
     "text": [
      "The character found most often is 'e' with 436,544 occurances\n",
      "The character found most often is 'e' with 436,544 occurances\n"
     ]
    }
   ],
   "source": [
    "# Useful function: For any list of numbers max(List) is the largest\n",
    "# value in the list\n",
    "MaxAlpha = max(IncidenceList)\n",
    "\n",
    "# two possible ways to find the character associated with MaxAlpha\n",
    "# initialize counter for the number of times through the for loop\n",
    "char_count = 0\n",
    "if MaxAlpha in IncidenceList:\n",
    "    for list_item in IncidenceList:\n",
    "        if MaxAlpha == list_item:\n",
    "            print('The character found most often is \\'{0:s}\\' with {1:,d} occurances'\n",
    "                  .format(ALPHABET[char_count], list_item))\n",
    "        char_count += 1\n",
    "else:\n",
    "    print('Error MaxAlpha not found in IncidenceList!')\n",
    "\n",
    "print('The character found most often is \\'{0:s}\\' with {1:,d} occurances'\n",
    "      .format(ALPHABET[IncidenceList.index(MaxAlpha)], MaxAlpha))"
   ]
  },
  {
   "cell_type": "code",
   "execution_count": null,
   "metadata": {},
   "outputs": [],
   "source": [
    "\n"
   ]
  },
  {
   "cell_type": "code",
   "execution_count": 29,
   "metadata": {},
   "outputs": [
    {
     "name": "stdout",
     "output_type": "stream",
     "text": [
      "Read rebase_gcgenz.txt. Loaded 257 enzymes.\n",
      "\n",
      "\n",
      "Enzyme: EcoRI\n",
      "\tCut 1\tSeq GAATTC\tOverhang 4\tSummary G'AATT_C\n",
      "Enzyme: HaeIII\n",
      "\tCut 2\tSeq GGCC\tOverhang 0\tSummary GG'CC\n",
      "Enzyme: HindIII\n",
      "\tCut 1\tSeq AAGCTT\tOverhang 4\tSummary A'AGCT_T\n"
     ]
    }
   ],
   "source": [
    "# Parse bionet restriction enzyme data file\n",
    "#\n",
    "\n",
    "# *** FORMAT of file ***\n",
    "#\n",
    "# last line of header starts with '..'\n",
    "\n",
    "# EXAMPLE of enzyme file:\n",
    "# enz  cut rec seq  overhang  isoscizomers         commer            refs\n",
    "\n",
    "'''\n",
    ";AanI\t3\tTTA'TAA\t0\t!\tPsiI\t>B\t1089\n",
    "AarI\t11\tCACCTGCnnnn'nnnn_\t4\t!\t>B\t368,662\n",
    ";AasI\t7\tGACnn_nn'nnGTC\t-2\t!\tDrdI,DseDI\t>B\t495\n",
    "AatII\t5\tG_ACGT'C\t-4\t!\tZraI\t>BIKMNV\t293,294,1002\n",
    ";Aba6411II\t3\tCrrTAAG\t0\t?\t!\t>\t680\n",
    "'''\n",
    "\n",
    "FILENAME = 'rebase_gcgenz.txt'\n",
    "\n",
    "header_flag = False\n",
    "end_of_header_start = '..'\n",
    "enz_count = 0\n",
    "enz_dict = {}\n",
    "\n",
    "with open(FILENAME, 'r') as rebase_f:\n",
    "    for line in rebase_f:\n",
    "        if header_flag and len(line) > 30 and ';' not in line[0:10]:\n",
    "            cols = line.rstrip('\\n').split('\\t')\n",
    "            # data line\n",
    "            enz_name = cols[0]\n",
    "            enz_cut = cols[1]\n",
    "            enz_seq = cols[2].replace('\\'', '').replace('_','')\n",
    "            enz_overhang = int(cols[3])\n",
    "            enz_dict[enz_name] = [enz_cut, enz_seq, enz_overhang, cols[2]]\n",
    "            enz_count += 1\n",
    "        if line.startswith(end_of_header_start):\n",
    "            # found last line of header\n",
    "            header_flag = True\n",
    "\n",
    "print('Read rebase_gcgenz.txt. Loaded', enz_count, 'enzymes.\\n')\n",
    "\n",
    "find_these = ['EcoRI', 'HindIII', 'HaeIII']\n",
    "\n",
    "\n",
    "output_str = ''\n",
    "#output_str = 'Enzyme\\tCut\\tSeq\\tOver\\tSummary\\n'\n",
    "\n",
    "for enz in enz_dict:\n",
    "    if enz in find_these:\n",
    "        output_str += ('\\nEnzyme: {0:s}\\n\\tCut {1:d}\\tSeq {2:s}\\tOverhang {3:d}\\tSummary {4:s}'\n",
    "                        .format(enz, int(enz_dict[enz][0]), enz_dict[enz][1], \n",
    "                         enz_dict[enz][2], enz_dict[enz][3]))\n",
    "#        output_str += ('{0:s}\\t{1:d}\\t{2:s}\\t{3:d}\\t{4:s}\\n'\n",
    "#                        .format(enz, int(enz_dict[enz][0]), enz_dict[enz][1], \n",
    "#                         enz_dict[enz][2], enz_dict[enz][3]))\n",
    "\n",
    "\n",
    "print(output_str)"
   ]
  },
  {
   "cell_type": "code",
   "execution_count": 30,
   "metadata": {},
   "outputs": [],
   "source": [
    "# Type\tMeaning<br>\n",
    "# <\tLeft aligned to the remaining space<br>\n",
    "# ^\tCenter aligned to the remaining space<br>\n",
    "# >\tRight aligned to the remaining space<br>\n",
    "# =\tForces the signed (+) (-) to the leftmost position\n",
    "\n",
    "# https://www.programiz.com/python-programming/methods/string/format"
   ]
  },
  {
   "cell_type": "code",
   "execution_count": 31,
   "metadata": {},
   "outputs": [
    {
     "name": "stdout",
     "output_type": "stream",
     "text": [
      "Enzyme:\n",
      "AarI    \t11\t     CACCTGCnnnnnnnn     \t 4\tCACCTGCnnnn'nnnn_\n",
      "AatII   \t 5\t         GACGTC          \t-4\tG_ACGT'C\n",
      "AbaSI   \t12\t      Cnnnnnnnnnnn       \t-2\tCnnnnnnnnn_nn'\n",
      "AccI    \t 2\t         GTmkAC          \t 2\tGT'mk_AC\n",
      "Acc65I  \t 1\t         GGTACC          \t 4\tG'GTAC_C\n",
      "AciI    \t 1\t          CCGC           \t 2\tC'CG_C\n",
      "AclI    \t 2\t         AACGTT          \t 2\tAA'CG_TT\n",
      "AcuI    \t22\t CTGAAGnnnnnnnnnnnnnnnn  \t-2\tCTGAAGnnnnnnnnnnnnnn_nn'\n",
      "AfeI    \t 3\t         AGCGCT          \t 0\tAGC'GCT\n",
      "AflII   \t 1\t         CTTAAG          \t 4\tC'TTAA_G\n",
      "AflIII  \t 1\t         ACryGT          \t 4\tA'CryG_T\n",
      "AgeI    \t 1\t         ACCGGT          \t 4\tA'CCGG_T\n",
      "AhdI    \t 6\t       GACnnnnnGTC       \t-1\tGACnn_n'nnGTC\n",
      "AjuI    \t26\tCCAAnnnnnnnTTCnnnnnnnnnnnn\t-5\tCCAAnnnnnnnTTCnnnnnnn_nnnnn'\n",
      "AleI    \t 5\t       CACnnnnGTG        \t 0\tCACnn'nnGTG\n",
      "AloI    \t25\tGGAnnnnnnGTTCnnnnnnnnnnnn\t-5\tGGAnnnnnnGTTCnnnnnnn_nnnnn'\n",
      "AluI    \t 2\t          AGCT           \t 0\tAG'CT\n",
      "AlwI    \t 9\t       GGATCnnnnn        \t 1\tGGATCnnnn'n_\n",
      "AlwNI   \t 6\t        CAGnnnCTG        \t-3\tCAG_nnn'CTG\n",
      "ApaI    \t 5\t         GGGCCC          \t-4\tG_GGCC'C\n",
      "ApaLI   \t 1\t         GTGCAC          \t 4\tG'TGCA_C\n",
      "ApoI    \t 1\t         rAATTy          \t 4\tr'AATT_y\n",
      "ArsI    \t26\tCrAAnnnnnnGTCnnnnnnnnnnnnn\t-5\tCrAAnnnnnnGTCnnnnnnnn_nnnnn'\n",
      "AscI    \t 2\t        GGCGCGCC         \t 4\tGG'CGCG_CC\n",
      "AseI    \t 2\t         ATTAAT          \t 2\tAT'TA_AT\n",
      "AsiSI   \t 5\t        GCGATCGC         \t-2\tGCG_AT'CGC\n",
      "AvaI    \t 1\t         CyCGrG          \t 4\tC'yCGr_G\n",
      "AvaII   \t 1\t          GGwCC          \t 3\tG'GwC_C\n",
      "AvrII   \t 1\t         CCTAGG          \t 4\tC'CTAG_G\n",
      "BaeI    \t26\tGrTACnnnnGTnnnnnnnnnnnnnnn\t-5\tGrTACnnnnGTnnnnnnnnnn_nnnnn'\n",
      "BaeGI   \t 5\t         GkGCmC          \t-4\tG_kGCm'C\n",
      "BamHI   \t 1\t         GGATCC          \t 4\tG'GATC_C\n",
      "BanI    \t 1\t         GGyrCC          \t 4\tG'GyrC_C\n",
      "BanII   \t 5\t         GrGCyC          \t-4\tG_rGCy'C\n",
      "BarI    \t25\tGTAnnnnnnCTTCnnnnnnnnnnnn\t-5\tGTAnnnnnnCTTCnnnnnnn_nnnnn'\n",
      "BbsI    \t 8\t      GAAGACnnnnnn       \t 4\tGAAGACnn'nnnn_\n",
      "BbvI    \t13\t    GCAGCnnnnnnnnnnnn    \t 4\tGCAGCnnnnnnnn'nnnn_\n",
      "BbvCI   \t 2\t         CCTCAGC         \t 3\tCC'TCA_GC\n",
      "BccI    \t 9\t       CCATCnnnnn        \t 1\tCCATCnnnn'n_\n",
      "BceAI   \t17\t   ACGGCnnnnnnnnnnnnnn   \t 2\tACGGCnnnnnnnnnnnn'nn_\n",
      "BcgI    \t24\tGCAnnnnnnTCGnnnnnnnnnnnn \t-2\tGCAnnnnnnTCGnnnnnnnnnn_nn'\n",
      "BciVI   \t12\t      GTATCCnnnnnn       \t-1\tGTATCCnnnnn_n'\n",
      "BclI    \t 1\t         TGATCA          \t 4\tT'GATC_A\n",
      "BfaI    \t 1\t          CTAG           \t 2\tC'TA_G\n",
      "BglI    \t 7\t       GCCnnnnnGGC       \t-3\tGCCn_nnn'nGGC\n",
      "BglII   \t 1\t         AGATCT          \t 4\tA'GATC_T\n",
      "BisI    \t 2\t          GCnGC          \t 1\tGC'n_GC\n",
      "BlpI    \t 2\t         GCTnAGC         \t 3\tGC'TnA_GC\n",
      "BlsI    \t 3\t          GCnGC          \t-1\tGC_n'GC\n",
      "BmgBI   \t 3\t         CACGTC          \t 0\tCAC'GTC\n",
      "BmrI    \t11\t       ACTGGGnnnnn       \t-1\tACTGGGnnnn_n'\n",
      "BmtI    \t 5\t         GCTAGC          \t-4\tG_CTAG'C\n",
      "BplI    \t24\tGAGnnnnnCTCnnnnnnnnnnnnn \t-5\tGAGnnnnnCTCnnnnnnnn_nnnnn'\n",
      "BpmI    \t22\t CTGGAGnnnnnnnnnnnnnnnn  \t-2\tCTGGAGnnnnnnnnnnnnnn_nn'\n",
      "Bpu10I  \t 2\t         CCTnAGC         \t 3\tCC'TnA_GC\n",
      "BpuEI   \t22\t CTTGAGnnnnnnnnnnnnnnnn  \t-2\tCTTGAGnnnnnnnnnnnnnn_nn'\n",
      "BsaI    \t 7\t       GGTCTCnnnnn       \t 4\tGGTCTCn'nnnn_\n",
      "BsaAI   \t 3\t         yACGTr          \t 0\tyAC'GTr\n",
      "BsaBI   \t 5\t       GATnnnnATC        \t 0\tGATnn'nnATC\n",
      "BsaHI   \t 2\t         GrCGyC          \t 2\tGr'CG_yC\n",
      "BsaJI   \t 1\t         CCnnGG          \t 4\tC'CnnG_G\n",
      "BsaWI   \t 1\t         wCCGGw          \t 4\tw'CCGG_w\n",
      "BsaXI   \t23\t GGAGnnnnnGTnnnnnnnnnnnn \t-3\tGGAGnnnnnGTnnnnnnnnn_nnn'\n",
      "BseMII  \t15\t     CTCAGnnnnnnnnnn     \t-2\tCTCAGnnnnnnnn_nn'\n",
      "BseRI   \t16\t    GAGGAGnnnnnnnnnn     \t-2\tGAGGAGnnnnnnnn_nn'\n",
      "BseYI   \t 1\t         CCCAGC          \t 4\tC'CCAG_C\n",
      "BsgI    \t22\t GTGCAGnnnnnnnnnnnnnnnn  \t-2\tGTGCAGnnnnnnnnnnnnnn_nn'\n",
      "BsiEI   \t 4\t         CGryCG          \t-2\tCG_ry'CG\n",
      "BsiHKAI \t 5\t         GwGCwC          \t-4\tG_wGCw'C\n",
      "BsiWI   \t 1\t         CGTACG          \t 4\tC'GTAC_G\n",
      "BslI    \t 7\t       CCnnnnnnnGG       \t-3\tCCnn_nnn'nnGG\n",
      "BsmI    \t 7\t         GAATGCn         \t-2\tGAATG_Cn'\n",
      "BsmAI   \t 6\t       GTCTCnnnnn        \t 4\tGTCTCn'nnnn_\n",
      "BsmFI   \t15\t   GGGACnnnnnnnnnnnnnn   \t 4\tGGGACnnnnnnnnnn'nnnn_\n",
      "Bsp1286I\t 5\t         GdGChC          \t-4\tG_dGCh'C\n",
      "BspCNI  \t14\t     CTCAGnnnnnnnnn      \t-2\tCTCAGnnnnnnn_nn'\n",
      "BspEI   \t 1\t         TCCGGA          \t 4\tT'CCGG_A\n",
      "BspHI   \t 1\t         TCATGA          \t 4\tT'CATG_A\n",
      "BspMI   \t10\t     ACCTGCnnnnnnnn      \t 4\tACCTGCnnnn'nnnn_\n",
      "BsrI    \t 6\t         ACTGGn          \t-2\tACTG_Gn'\n",
      "BsrBI   \t 3\t         CCGCTC          \t 0\tCCG'CTC\n",
      "BsrDI   \t 8\t        GCAATGnn         \t-2\tGCAATG_nn'\n",
      "BsrFI   \t 1\t         rCCGGy          \t 4\tr'CCGG_y\n",
      "BsrGI   \t 1\t         TGTACA          \t 4\tT'GTAC_A\n",
      "BssHII  \t 1\t         GCGCGC          \t 4\tG'CGCG_C\n",
      "BssSI   \t 1\t         CACGAG          \t 4\tC'ACGA_G\n",
      "BstAPI  \t 7\t       GCAnnnnnTGC       \t-3\tGCAn_nnn'nTGC\n",
      "BstBI   \t 2\t         TTCGAA          \t 2\tTT'CG_AA\n",
      "BstEII  \t 1\t         GGTnACC         \t 5\tG'GTnAC_C\n",
      "BstKTI  \t 3\t          GATC           \t-2\tG_AT'C\n",
      "BstNI   \t 2\t          CCwGG          \t 1\tCC'w_GG\n",
      "BstUI   \t 2\t          CGCG           \t 0\tCG'CG\n",
      "BstXI   \t 8\t      CCAnnnnnnTGG       \t-4\tCCAn_nnnn'nTGG\n",
      "BstYI   \t 1\t         rGATCy          \t 4\tr'GATC_y\n",
      "BstZ17I \t 3\t         GTATAC          \t 0\tGTA'TAC\n",
      "Bsu36I  \t 2\t         CCTnAGG         \t 3\tCC'TnA_GG\n",
      "BtgI    \t 1\t         CCryGG          \t 4\tC'CryG_G\n",
      "BtgZI   \t16\t  GCGATGnnnnnnnnnnnnnn   \t 4\tGCGATGnnnnnnnnnn'nnnn_\n",
      "BtsI    \t 8\t        GCAGTGnn         \t-2\tGCAGTG_nn'\n",
      "BtsIMutI\t 7\t         CAGTGnn         \t-2\tCAGTG_nn'\n",
      "BtsCI   \t 7\t         GGATGnn         \t-2\tGGATG_nn'\n",
      "Cac8I   \t 3\t         GCnnGC          \t 0\tGCn'nGC\n",
      "ClaI    \t 2\t         ATCGAT          \t 2\tAT'CG_AT\n",
      "CspCI   \t25\tCCACnnnnnTTGnnnnnnnnnnnnn\t-2\tCCACnnnnnTTGnnnnnnnnnnn_nn'\n",
      "CviAII  \t 1\t          CATG           \t 2\tC'AT_G\n",
      "CviKI-1 \t 2\t          rGCy           \t 0\trG'Cy\n",
      "CviQI   \t 1\t          GTAC           \t 2\tG'TA_C\n",
      "DdeI    \t 1\t          CTnAG          \t 3\tC'TnA_G\n",
      "DpnI    \t 2\t          GATC           \t 0\tGA'TC\n",
      "DraI    \t 3\t         TTTAAA          \t 0\tTTT'AAA\n",
      "DraIII  \t 6\t        CACnnnGTG        \t-3\tCAC_nnn'GTG\n",
      "DrdI    \t 7\t      GACnnnnnnGTC       \t-2\tGACnn_nn'nnGTC\n",
      "EaeI    \t 1\t         yGGCCr          \t 4\ty'GGCC_r\n",
      "EagI    \t 1\t         CGGCCG          \t 4\tC'GGCC_G\n",
      "EarI    \t 7\t       CTCTTCnnnn        \t 3\tCTCTTCn'nnn_\n",
      "EciI    \t17\t    GGCGGAnnnnnnnnnnn    \t-2\tGGCGGAnnnnnnnnn_nn'\n",
      "EcoNI   \t 5\t       CCTnnnnnAGG       \t 1\tCCTnn'n_nnAGG\n",
      "EcoO109I\t 2\t         rGGnCCy         \t 3\trG'GnC_Cy\n",
      "EcoRI   \t 1\t         GAATTC          \t 4\tG'AATT_C\n",
      "EcoRV   \t 3\t         GATATC          \t 0\tGAT'ATC\n",
      "Eco53kI \t 3\t         GAGCTC          \t 0\tGAG'CTC\n",
      "Esp3I   \t 7\t       CGTCTCnnnnn       \t 4\tCGTCTCn'nnnn_\n",
      "FalI    \t24\tAAGnnnnnCTTnnnnnnnnnnnnn \t-5\tAAGnnnnnCTTnnnnnnnn_nnnnn'\n",
      "FatI    \t 0\t          CATG           \t 4\t'CATG_\n",
      "FauI    \t 9\t       CCCGCnnnnnn       \t 2\tCCCGCnnnn'nn_\n",
      "Fnu4HI  \t 2\t          GCnGC          \t 1\tGC'n_GC\n",
      "FokI    \t14\t   GGATGnnnnnnnnnnnnn    \t 4\tGGATGnnnnnnnnn'nnnn_\n",
      "FseI    \t 6\t        GGCCGGCC         \t-4\tGG_CCGG'CC\n",
      "FspI    \t 3\t         TGCGCA          \t 0\tTGC'GCA\n",
      "FspEI   \t14\t   CCnnnnnnnnnnnnnnnn    \t 4\tCCnnnnnnnnnnnn'nnnn_\n",
      "GsaI    \t 5\t         CCCAGC          \t-4\tC_CCAG'C\n",
      "HaeII   \t 5\t         rGCGCy          \t-4\tr_GCGC'y\n",
      "HaeIII  \t 2\t          GGCC           \t 0\tGG'CC\n",
      "HgaI    \t10\t     GACGCnnnnnnnnnn     \t 5\tGACGCnnnnn'nnnnn_\n",
      "HhaI    \t 3\t          GCGC           \t-2\tG_CG'C\n",
      "HinP1I  \t 1\t          GCGC           \t 2\tG'CG_C\n",
      "HincII  \t 3\t         GTyrAC          \t 0\tGTy'rAC\n",
      "HindIII \t 1\t         AAGCTT          \t 4\tA'AGCT_T\n",
      "HinfI   \t 1\t          GAnTC          \t 3\tG'AnT_C\n",
      "HpaI    \t 3\t         GTTAAC          \t 0\tGTT'AAC\n",
      "HpaII   \t 1\t          CCGG           \t 2\tC'CG_G\n",
      "HphI    \t13\t      GGTGAnnnnnnnn      \t-1\tGGTGAnnnnnnn_n'\n",
      "Hpy99I  \t 5\t          CGwCG          \t-5\t_CGwCG'\n",
      "Hpy166II\t 3\t         GTnnAC          \t 0\tGTn'nAC\n",
      "Hpy188I \t 3\t          TCnGA          \t-1\tTC_n'GA\n",
      "Hpy188III\t 2\t         TCnnGA          \t 2\tTC'nn_GA\n",
      "HpyAV   \t11\t       CCTTCnnnnnn       \t-1\tCCTTCnnnnn_n'\n",
      "HpyCH4III\t 3\t          ACnGT          \t-1\tAC_n'GT\n",
      "HpyCH4IV\t 1\t          ACGT           \t 2\tA'CG_T\n",
      "HpyCH4V \t 2\t          TGCA           \t 0\tTG'CA\n",
      "KasI    \t 1\t         GGCGCC          \t 4\tG'GCGC_C\n",
      "KflI    \t 2\t         GGGwCCC         \t 3\tGG'GwC_CC\n",
      "KpnI    \t 5\t         GGTACC          \t-4\tG_GTAC'C\n",
      "LpnPI   \t14\t   CCdGnnnnnnnnnnnnnn    \t 4\tCCdGnnnnnnnnnn'nnnn_\n",
      "MauBI   \t 2\t        CGCGCGCG         \t 4\tCG'CGCG_CG\n",
      "MboI    \t 0\t          GATC           \t 4\t'GATC_\n",
      "MboII   \t13\t      GAAGAnnnnnnnn      \t-1\tGAAGAnnnnnnn_n'\n",
      "MfeI    \t 1\t         CAATTG          \t 4\tC'AATT_G\n",
      "MluI    \t 1\t         ACGCGT          \t 4\tA'CGCG_T\n",
      "MluCI   \t 0\t          AATT           \t 4\t'AATT_\n",
      "MlyI    \t10\t       GAGTCnnnnn        \t 0\tGAGTCnnnnn'\n",
      "MmeI    \t26\tTCCrACnnnnnnnnnnnnnnnnnnnn\t-2\tTCCrACnnnnnnnnnnnnnnnnnn_nn'\n",
      "MnlI    \t11\t       CCTCnnnnnnn       \t-1\tCCTCnnnnnn_n'\n",
      "MreI    \t 2\t        CGCCGGCG         \t 4\tCG'CCGG_CG\n",
      "MscI    \t 3\t         TGGCCA          \t 0\tTGG'CCA\n",
      "MseI    \t 1\t          TTAA           \t 2\tT'TA_A\n",
      "MslI    \t 5\t       CAynnnnrTG        \t 0\tCAynn'nnrTG\n",
      "MspA1I  \t 3\t         CmGCkG          \t 0\tCmG'CkG\n",
      "MspJI   \t13\t    Cnnrnnnnnnnnnnnnn    \t 4\tCnnrnnnnnnnnn'nnnn_\n",
      "MwoI    \t 7\t       GCnnnnnnnGC       \t-3\tGCnn_nnn'nnGC\n",
      "NaeI    \t 3\t         GCCGGC          \t 0\tGCC'GGC\n",
      "NarI    \t 2\t         GGCGCC          \t 2\tGG'CG_CC\n",
      "NciI    \t 2\t          CCsGG          \t 1\tCC's_GG\n",
      "NcoI    \t 1\t         CCATGG          \t 4\tC'CATG_G\n",
      "NdeI    \t 2\t         CATATG          \t 2\tCA'TA_TG\n",
      "NgoMIV  \t 1\t         GCCGGC          \t 4\tG'CCGG_C\n",
      "NheI    \t 1\t         GCTAGC          \t 4\tG'CTAG_C\n",
      "NlaIII  \t 4\t          CATG           \t-4\t_CATG'\n",
      "NlaIV   \t 3\t         GGnnCC          \t 0\tGGn'nCC\n",
      "NmeAIII \t27\tGCCGAGnnnnnnnnnnnnnnnnnnnnn\t-2\tGCCGAGnnnnnnnnnnnnnnnnnnn_nn'\n",
      "NotI    \t 2\t        GCGGCCGC         \t 4\tGC'GGCC_GC\n",
      "NruI    \t 3\t         TCGCGA          \t 0\tTCG'CGA\n",
      "NsiI    \t 5\t         ATGCAT          \t-4\tA_TGCA'T\n",
      "NspI    \t 5\t         rCATGy          \t-4\tr_CATG'y\n",
      "PacI    \t 5\t        TTAATTAA         \t-2\tTTA_AT'TAA\n",
      "PasI    \t 2\t         CCCwGGG         \t 3\tCC'CwG_GG\n",
      "PciI    \t 1\t         ACATGT          \t 4\tA'CATG_T\n",
      "PcsI    \t 7\t      wCGnnnnnnnCGw      \t-1\twCGnnn_n'nnnCGw\n",
      "PflMI   \t 7\t       CCAnnnnnTGG       \t-3\tCCAn_nnn'nTGG\n",
      "PleI    \t 9\t       GAGTCnnnnn        \t 1\tGAGTCnnnn'n_\n",
      "PluTI   \t 5\t         GGCGCC          \t-4\tG_GCGC'C\n",
      "PmeI    \t 4\t        GTTTAAAC         \t 0\tGTTT'AAAC\n",
      "PmlI    \t 3\t         CACGTG          \t 0\tCAC'GTG\n",
      "PpuMI   \t 2\t         rGGwCCy         \t 3\trG'GwC_Cy\n",
      "PshAI   \t 5\t       GACnnnnGTC        \t 0\tGACnn'nnGTC\n",
      "PsiI    \t 3\t         TTATAA          \t 0\tTTA'TAA\n",
      "PspGI   \t 0\t          CCwGG          \t 5\t'CCwGG_\n",
      "PspOMI  \t 1\t         GGGCCC          \t 4\tG'GGCC_C\n",
      "PspXI   \t 2\t        vCTCGAGb         \t 4\tvC'TCGA_Gb\n",
      "PsrI    \t25\tGTAnnnnnnGTTCnnnnnnnnnnnn\t-5\tGTAnnnnnnGTTCnnnnnnn_nnnnn'\n",
      "PstI    \t 5\t         CTGCAG          \t-4\tC_TGCA'G\n",
      "PvuI    \t 4\t         CGATCG          \t-2\tCG_AT'CG\n",
      "PvuII   \t 3\t         CAGCTG          \t 0\tCAG'CTG\n",
      "RsaI    \t 2\t          GTAC           \t 0\tGT'AC\n",
      "RsrII   \t 2\t         CGGwCCG         \t 3\tCG'GwC_CG\n",
      "SacI    \t 5\t         GAGCTC          \t-4\tG_AGCT'C\n",
      "SacII   \t 4\t         CCGCGG          \t-2\tCC_GC'GG\n",
      "SalI    \t 1\t         GTCGAC          \t 4\tG'TCGA_C\n",
      "SapI    \t 8\t       GCTCTTCnnnn       \t 3\tGCTCTTCn'nnn_\n",
      "Sau96I  \t 1\t          GGnCC          \t 3\tG'GnC_C\n",
      "SbfI    \t 6\t        CCTGCAGG         \t-4\tCC_TGCA'GG\n",
      "ScaI    \t 3\t         AGTACT          \t 0\tAGT'ACT\n",
      "ScrFI   \t 2\t          CCnGG          \t 1\tCC'n_GG\n",
      "SexAI   \t 1\t         ACCwGGT         \t 5\tA'CCwGG_T\n",
      "SfaNI   \t10\t     GCATCnnnnnnnnn      \t 4\tGCATCnnnnn'nnnn_\n",
      "SfcI    \t 1\t         CTryAG          \t 4\tC'TryA_G\n",
      "SfiI    \t 8\t      GGCCnnnnnGGCC      \t-3\tGGCCn_nnn'nGGCC\n",
      "SfoI    \t 3\t         GGCGCC          \t 0\tGGC'GCC\n",
      "SgeI    \t13\t    CnnGnnnnnnnnnnnnn    \t 4\tCnnGnnnnnnnnn'nnnn_\n",
      "SgrAI   \t 2\t        CrCCGGyG         \t 4\tCr'CCGG_yG\n",
      "SgrDI   \t 2\t        CGTCGACG         \t 4\tCG'TCGA_CG\n",
      "SmaI    \t 3\t         CCCGGG          \t 0\tCCC'GGG\n",
      "SmlI    \t 1\t         CTyrAG          \t 4\tC'TyrA_G\n",
      "SnaBI   \t 3\t         TACGTA          \t 0\tTAC'GTA\n",
      "SpeI    \t 1\t         ACTAGT          \t 4\tA'CTAG_T\n",
      "SphI    \t 5\t         GCATGC          \t-4\tG_CATG'C\n",
      "SrfI    \t 4\t        GCCCGGGC         \t 0\tGCCC'GGGC\n",
      "SspI    \t 3\t         AATATT          \t 0\tAAT'ATT\n",
      "StuI    \t 3\t         AGGCCT          \t 0\tAGG'CCT\n",
      "StyI    \t 1\t         CCwwGG          \t 4\tC'CwwG_G\n",
      "StyD4I  \t 0\t          CCnGG          \t 5\t'CCnGG_\n",
      "SwaI    \t 4\t        ATTTAAAT         \t 0\tATTT'AAAT\n",
      "TaiI    \t 4\t          ACGT           \t-4\t_ACGT'\n",
      "TaqI    \t 1\t          TCGA           \t 2\tT'CG_A\n",
      "TaqII   \t17\t    GACCGAnnnnnnnnnnn    \t-2\tGACCGAnnnnnnnnn_nn'\n",
      "TfiI    \t 1\t          GAwTC          \t 3\tG'AwT_C\n",
      "TseI    \t 1\t          GCwGC          \t 3\tG'CwG_C\n",
      "Tsp45I  \t 0\t          GTsAC          \t 5\t'GTsAC_\n",
      "TspDTI  \t16\t    ATGAAnnnnnnnnnnn     \t-2\tATGAAnnnnnnnnn_nn'\n",
      "TspGWI  \t16\t    ACGGAnnnnnnnnnnn     \t-2\tACGGAnnnnnnnnn_nn'\n",
      "TspRI   \t 9\t        nnCAsTGnn        \t-9\t_nnCAsTGnn'\n",
      "Tth111I \t 4\t        GACnnnGTC        \t 1\tGACn'n_nGTC\n",
      "XbaI    \t 1\t         TCTAGA          \t 4\tT'CTAG_A\n",
      "XcmI    \t 8\t     CCAnnnnnnnnnTGG     \t-1\tCCAnnnn_n'nnnnTGG\n",
      "XhoI    \t 1\t         CTCGAG          \t 4\tC'TCGA_G\n",
      "XmaI    \t 1\t         CCCGGG          \t 4\tC'CCGG_G\n",
      "XmnI    \t 5\t       GAAnnnnTTC        \t 0\tGAAnn'nnTTC\n",
      "ZraI    \t 3\t         GACGTC          \t 0\tGAC'GTC\n"
     ]
    }
   ],
   "source": [
    "print('Enzyme:')\n",
    "for item, value in enz_dict.items():\n",
    "    #print('{} ({})'.format(item, '\\t'.join(list(value) )))\n",
    "    print('{0:8s}\\t{1:>2s}\\t{2:^25s}\\t{3:>2d}\\t{4}\\n'\n",
    "          .format(item, value[0], value[1], value[2], value[3]), end='')"
   ]
  },
  {
   "cell_type": "code",
   "execution_count": 32,
   "metadata": {},
   "outputs": [],
   "source": [
    "# reverse complement a DNA sequence\n",
    "\n",
    "sequence_string = 'CGCGGGCGTAGTTAGTTCCTCACCAGAACGTCATTTGGTCCTCATCAATC'\n",
    "base_complement_dict = {'A': 'T', 'C': 'G', 'G': 'C', 'T': 'A'}"
   ]
  },
  {
   "cell_type": "code",
   "execution_count": 33,
   "metadata": {},
   "outputs": [
    {
     "name": "stdout",
     "output_type": "stream",
     "text": [
      "input   : 5'-CGCGGGCGTAGTTAGTTCCTCACCAGAACGTCATTTGGTCCTCATCAATC-3'\n",
      "\n",
      "revcomp : 5'-GATTGATGAGGACCAAATGACGTTCTGGTGAGGAACTAACTACGCCCGCG-3'\n"
     ]
    }
   ],
   "source": [
    "rev = []\n",
    "\n",
    "for i in range(len(sequence_string),0,-1):\n",
    "    rev.append(base_complement_dict[sequence_string[i-1]])\n",
    "\n",
    "revcomp = ''.join(rev)\n",
    "\n",
    "print ('input   : 5\\'-' + sequence_string + '-3\\'')\n",
    "print ()\n",
    "print ('revcomp : 5\\'-' + revcomp + '-3\\'')"
   ]
  },
  {
   "cell_type": "code",
   "execution_count": 34,
   "metadata": {},
   "outputs": [
    {
     "name": "stdout",
     "output_type": "stream",
     "text": [
      "input   : 5'-CGCGGGCGTAGTTAGTTCCTCACCAGAACGTCATTTGGTCCTCATCAATC-3'\n",
      "revcomp : 3'-GCGCCCGCATCAATCAAGGAGTGGTCTTGCAGTAAACCAGGAGTAGTTAG-5'\n"
     ]
    }
   ],
   "source": [
    "# print both strands\n",
    "\n",
    "print ('input   : 5\\'-' + sequence_string + '-3\\'')\n",
    "print ('revcomp : 3\\'-' + revcomp[::-1] + '-5\\'')"
   ]
  },
  {
   "cell_type": "code",
   "execution_count": null,
   "metadata": {},
   "outputs": [],
   "source": []
  },
  {
   "cell_type": "code",
   "execution_count": 35,
   "metadata": {},
   "outputs": [],
   "source": [
    "#from random import random\n",
    "import random"
   ]
  },
  {
   "cell_type": "code",
   "execution_count": 36,
   "metadata": {},
   "outputs": [
    {
     "name": "stdout",
     "output_type": "stream",
     "text": [
      "0.48788563377814853\n",
      "0.7919711426982192\n",
      "0.9665882226435057\n",
      "0.5809383963412003\n",
      "0.04146049670760277\n",
      "0.624526755837727\n",
      "0.7421211525898597\n",
      "0.9255391803538174\n",
      "0.5540744280589075\n",
      "0.5670551388279805\n"
     ]
    }
   ],
   "source": [
    "for x in range(10):\n",
    "    print(random.random())"
   ]
  },
  {
   "cell_type": "code",
   "execution_count": 37,
   "metadata": {},
   "outputs": [
    {
     "name": "stdout",
     "output_type": "stream",
     "text": [
      "h = 50490\tt = 49510\tcount = 100000\tt% = 50.00\n",
      "h = 50447\tt = 49553\tcount = 100000\tt% = 50.00\n",
      "h = 50703\tt = 49297\tcount = 100000\tt% = 49.00\n",
      "h = 50431\tt = 49569\tcount = 100000\tt% = 50.00\n",
      "h = 50461\tt = 49539\tcount = 100000\tt% = 50.00\n",
      "h = 50642\tt = 49358\tcount = 100000\tt% = 49.00\n",
      "h = 50868\tt = 49132\tcount = 100000\tt% = 49.00\n",
      "h = 50565\tt = 49435\tcount = 100000\tt% = 49.00\n",
      "h = 50567\tt = 49433\tcount = 100000\tt% = 49.00\n"
     ]
    }
   ],
   "source": [
    "# random.random, is it random\n",
    "\n",
    "flips = pow(10,5)\n",
    "\n",
    "for outer_loop in range(1, 10):\n",
    "    heads = 0\n",
    "    tails = 0\n",
    "    count = 0\n",
    "    round_head = 0\n",
    "    int_head = 0\n",
    "    for inner_loop in range(flips):\n",
    "        roll = random.random()\n",
    "        if round(roll,2) >= .5:\n",
    "            round_head += 1\n",
    "        if roll >= .5:\n",
    "            int_head += 1\n",
    "        if round(roll,2) >= .5:\n",
    "            heads += 1\n",
    "        else:\n",
    "            tails += 1\n",
    "        count += 1\n",
    "\n",
    "    #print('h = ' + str(heads), 't = ' + str(tails), 'count = ' + str(count),\n",
    "    #      't% = ' + str(round(tails/count, 4)), sep='\\t\\t')\n",
    "    \n",
    "    print('h = {0:4d}\\tt = {1:4d}\\tcount = {2:5d}\\tt% = {3:.2f}'\n",
    "          .format(heads, tails, count, round((tails/count)*100)))"
   ]
  },
  {
   "cell_type": "code",
   "execution_count": null,
   "metadata": {},
   "outputs": [],
   "source": []
  },
  {
   "cell_type": "code",
   "execution_count": 38,
   "metadata": {},
   "outputs": [
    {
     "name": "stdout",
     "output_type": "stream",
     "text": [
      "count: 0\n",
      "line after our continue\n",
      "count: 1\n",
      "line after our continue\n",
      "count: 2\n",
      "line after our continue\n",
      "count: 3\n",
      "count: 4\n",
      "line after our continue\n",
      "count: 5\n",
      "line after our continue\n",
      "count: 6\n",
      "Done\n"
     ]
    }
   ],
   "source": [
    "# continue & break\n",
    "count = -1\n",
    "while True:\n",
    "    count += 1\n",
    "    print(\"count:\", count)\n",
    "    if count == 3:\n",
    "        continue\n",
    "    if count == 6:\n",
    "        break\n",
    "    print(\"line after our continue\")\n",
    "print(\"Done\")"
   ]
  },
  {
   "cell_type": "code",
   "execution_count": null,
   "metadata": {},
   "outputs": [],
   "source": []
  },
  {
   "cell_type": "code",
   "execution_count": 39,
   "metadata": {},
   "outputs": [
    {
     "name": "stdout",
     "output_type": "stream",
     "text": [
      "\n",
      "5: exiting\t 3 4 True False\n"
     ]
    }
   ],
   "source": [
    "a = 3 # 3, 2, 2\n",
    "b = 4 # 4, 3, 5 \n",
    "c = True\n",
    "d = False\n",
    "\n",
    "while a == 2:\n",
    "    print('\\n0: begining\\t', a, b, c, d)\n",
    "    if b > 4:\n",
    "        print('1: break\\t', a, b, c, d)\n",
    "        break\n",
    "    if c:\n",
    "        print('2: Truth\\t', a, b, c, d)\n",
    "        c = False\n",
    "        continue\n",
    "    elif not d:\n",
    "        print('3: elif\\t\\t', a, b, c, d)\n",
    "        c = True\n",
    "        d = True\n",
    "    else:\n",
    "        b += 1\n",
    "        a += 1\n",
    "    print ('4: after if\\t', a, b, c, d)\n",
    "else:\n",
    "    print('\\n5: exiting\\t', a, b, c, d)"
   ]
  },
  {
   "cell_type": "code",
   "execution_count": null,
   "metadata": {},
   "outputs": [],
   "source": []
  },
  {
   "cell_type": "code",
   "execution_count": 40,
   "metadata": {},
   "outputs": [],
   "source": [
    "def read_fasta(fasta_filename):\n",
    "    '''\n",
    "    Go through file, reading one line at a time, using a\n",
    "    dictionary to store the DNA sequence for each of the FASTA\n",
    "    entries (Gavin Sherlock, November 28, 2019)\n",
    "    '''    \n",
    "    with open(fasta_filename, mode='r') as fasta_file:\n",
    "\n",
    "        sequences = {}\n",
    "\n",
    "        for line in fasta_file:\n",
    "            line = line.rstrip()\n",
    "            if line.startswith('>'): # it's a new fasta record\n",
    "                line = line.lstrip('>') #line = line[1:]\n",
    "                sequences[line] = '' # intialize dictionary for this entry\n",
    "                currSeqName = line\n",
    "            else:\n",
    "                sequences[currSeqName] += line\n",
    "\n",
    "    return(sequences)"
   ]
  },
  {
   "cell_type": "code",
   "execution_count": 41,
   "metadata": {},
   "outputs": [],
   "source": [
    "sequences = read_fasta('rosalind_dna.fsa')"
   ]
  },
  {
   "cell_type": "code",
   "execution_count": 42,
   "metadata": {},
   "outputs": [
    {
     "name": "stdout",
     "output_type": "stream",
     "text": [
      "found ATG in Rosalind_6820 at 74\n",
      "found ATG in Rosalind_6820 at 111\n",
      "found ATG in Rosalind_6820 at 166\n",
      "found ATG in Rosalind_6820 at 208\n",
      "found ATG in Rosalind_6820 at 266\n",
      "found ATG in Rosalind_6820 at 337\n",
      "found ATG in Rosalind_6820 at 345\n",
      "found ATG in Rosalind_6820 at 350\n",
      "found ATG in Rosalind_6820 at 355\n",
      "found ATG in Rosalind_6820 at 430\n",
      "found ATG in Rosalind_6820 at 445\n",
      "found ATG in Rosalind_6820 at 467\n",
      "found ATG in Rosalind_6820 at 533\n",
      "found ATG in Rosalind_6820 at 602\n",
      "found ATG in Rosalind_6820 at 677\n",
      "found ATG in Rosalind_6820 at 719\n",
      "found ATG in Rosalind_6820 at 777\n",
      "found ATG in Rosalind_6820 at 811\n",
      "found ATG in Rosalind_6820 at 842\n",
      "found ATG in Rosalind_6820 at 864\n",
      "found ATG in Rosalind_6820 at 958\n"
     ]
    }
   ],
   "source": [
    "# find all ATGs in sequence\n",
    "for seq in sequences:\n",
    "    atg_index = 0\n",
    "    last_index = 0\n",
    "    start_stop = []\n",
    "    if seq != 'Rosalind_6820':\n",
    "        continue\n",
    "    while(atg_index > -1):\n",
    "        atg_index = sequences[seq].find('ATG', atg_index + 1)\n",
    "        if (atg_index > -1):\n",
    "            print('found ATG in', seq, 'at', atg_index)        "
   ]
  },
  {
   "cell_type": "code",
   "execution_count": 43,
   "metadata": {},
   "outputs": [
    {
     "name": "stdout",
     "output_type": "stream",
     "text": [
      "Rosalind_6820 : start = 74 end = 137 nt length = 63 aa length = 20.0\n",
      "ATGCGTAGATCCTACATCCCTTATAAGTCTGCTTATTATGCGTTAACGATCACTATCTCCTGA \n",
      "\n",
      "Rosalind_6820 : start = 166 end = 301 nt length = 135 aa length = 44.0\n",
      "ATGCGCCCGCGTAGACACCTGTCACCAAGCATCCGTCACGTGATGTTAGTAAGGACATCCGCTACCCAGAATTTGATCTTTCCGATTGGTACTTTACAGCATGCTACTGGTTTTAGCCGGCGGTCCGGCATCTAG \n",
      "\n",
      "Rosalind_6820 : start = 337 end = 427 nt length = 90 aa length = 29.0\n",
      "ATGTGCTTATGCGATGTGATGCAAATATATTACTTTGGCGCAAGAGTAGGCAAAAAAACTACCGGACCACGAATTTTAAACTTGCTTTGA \n",
      "\n",
      "Rosalind_6820 : start = 430 end = 502 nt length = 72 aa length = 23.0\n",
      "ATGGACCAAACGACGATGACAAGGAAAGTAATCTGCCATGTGCAAGTGCCGTCAAACCCGTTTTTGATTTAG \n",
      "\n",
      "Rosalind_6820 : start = 533 end = 578 nt length = 45 aa length = 14.0\n",
      "ATGAGTGGTTCGGTGTCCTCCAGTGCGGGCGACTCAGTGCTCTAA \n",
      "\n",
      "Rosalind_6820 : start = 602 end = 785 nt length = 183 aa length = 60.0\n",
      "ATGAAGTCGCTGGTCCTTATTAAAAGGGTGCATCGGTTTGATTGTGCGACAACCGCCGTTGATACGCGGAATAAAATGTCATTAGCTGACCGGTGTAGCTTGTCTCCGAATAGGTCAATGCTGCGAACCGCGCCCATATTTCCAATAAAGGCTGTGGGTCTTGGTGACTTACCGCATGAATAG \n",
      "\n",
      "Rosalind_6820 : start = 811 end = 907 nt length = 96 aa length = 31.0\n",
      "ATGTGTCTCAATCAATCAGCACTTGCTGAAAATGAACTGGACACGACGACTTCATGTGAGAGTGCGGTGAATATACTGACATTTCCCTCCCAGTAA \n",
      "\n"
     ]
    }
   ],
   "source": [
    "for seq in sequences:\n",
    "    atg_index = 0\n",
    "    last_index = 0\n",
    "    start_stop = []\n",
    "    if seq != 'Rosalind_6820':\n",
    "        continue\n",
    "    while(atg_index > -1):\n",
    "        atg_index = sequences[seq].find('ATG', atg_index + 1)\n",
    "        if (atg_index > -1):\n",
    "            for codon_i in range(atg_index + 3, len(sequences[seq])-3, 3):\n",
    "                if sequences[seq][codon_i:codon_i+3] in ['TAA', 'TAG', 'TGA']:\n",
    "                    print(seq, ': start =', atg_index, 'end =', codon_i+3, \n",
    "                          'nt length =', codon_i + 3 - atg_index, \n",
    "                          'aa length =', (codon_i - atg_index) / 3)\n",
    "                    print(sequences[seq][atg_index:codon_i+3], '\\n')\n",
    "                    atg_index = codon_i+3\n",
    "                    break"
   ]
  },
  {
   "cell_type": "code",
   "execution_count": 44,
   "metadata": {},
   "outputs": [],
   "source": [
    "def read_fasta_test(fasta_filename):\n",
    "    '''\n",
    "    Go through file, reading one line at a time, using a\n",
    "    dictionary to store the DNA sequence for each of the FASTA\n",
    "    entries (Gavin Sherlock, November 28, 2019)\n",
    "    \n",
    "    Remove all lines that end with '# just for testing' after \n",
    "    you understand what this function is doing\n",
    "    '''    \n",
    "    with open(fasta_filename, mode='r') as fasta_file:\n",
    "\n",
    "        sequences = {}\n",
    "        currSeqName = '' # just for testing\n",
    "        linecount = 0 # just for testing\n",
    "        \n",
    "        for line in fasta_file:\n",
    "            line = line.rstrip()\n",
    "            linecount += 1 # just for testing\n",
    "            print(line, '|', currSeqName, '|', linecount) # just for testing 2\n",
    "            input('next:') # just for testing 2\n",
    "            if line.startswith('>'): # it's a new fasta record\n",
    "                line = line.lstrip('>') #line = line[1:]\n",
    "                sequences[line] = '' # intialize dictionary for this entry\n",
    "                currSeqName = line\n",
    "            else:\n",
    "                sequences[currSeqName] += line\n",
    "\n",
    "    return(sequences)"
   ]
  },
  {
   "cell_type": "code",
   "execution_count": 45,
   "metadata": {},
   "outputs": [],
   "source": [
    "#read_seqs = read_fasta_test('rosalind_dna.fsa')\n",
    "#print('Read', len(read_seqs), 'sequences')"
   ]
  },
  {
   "cell_type": "code",
   "execution_count": null,
   "metadata": {},
   "outputs": [],
   "source": []
  }
 ],
 "metadata": {
  "kernelspec": {
   "display_name": "Python 3",
   "language": "python",
   "name": "python3"
  },
  "language_info": {
   "codemirror_mode": {
    "name": "ipython",
    "version": 3
   },
   "file_extension": ".py",
   "mimetype": "text/x-python",
   "name": "python",
   "nbconvert_exporter": "python",
   "pygments_lexer": "ipython3",
   "version": "3.7.3"
  }
 },
 "nbformat": 4,
 "nbformat_minor": 2
}
