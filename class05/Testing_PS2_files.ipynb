{
 "cells": [
  {
   "cell_type": "code",
   "execution_count": 10,
   "metadata": {},
   "outputs": [],
   "source": [
    "import urllib.request\n",
    "import gzip\n",
    "\n",
    "GTF_URL = 'https://www.encodeproject.org/files/gencode.v24.primary_assembly.annotation/@@download/gencode.v24.primary_assembly.annotation.gtf.gz'"
   ]
  },
  {
   "cell_type": "code",
   "execution_count": 11,
   "metadata": {},
   "outputs": [],
   "source": [
    "# GFF/GTF format\n",
    "\n",
    "# ensEMBL GFF format: https://uswest.ensembl.org/info/website/upload/gff.html\n",
    "SEQNAME = 0\n",
    "SOURCE = 1\n",
    "FEATURE = 2\n",
    "START = 3\n",
    "END = 4\n",
    "SCORE = 5\n",
    "STRAND = 6\n",
    "FRAME = 7\n",
    "ATTRIBUTE = 8"
   ]
  },
  {
   "cell_type": "code",
   "execution_count": 14,
   "metadata": {},
   "outputs": [],
   "source": [
    "response = urllib.request.urlopen(GTF_URL)\n",
    "genes = {}\n",
    "\n",
    "attribute_names = ['gene_id', 'gene_name', 'gene_biotype']\n",
    "\n",
    "with gzip.open(response, 'rt') as inFile:\n",
    "    for line in inFile:\n",
    "        # skip file comment lines\n",
    "        if line.startswith('#'):\n",
    "            continue\n",
    "\n",
    "        # split line into columns that are separated by TAB \n",
    "        column = line.rstrip('\\n').split('\\t')\n",
    "\n",
    "        # manipulate column #8, attributes\n",
    "        if column[FEATURE] == 'gene':\n",
    "            # starting ATTRIBUTE string\n",
    "            # gene_id \"ENSG00000279493\"; gene_version \"1\"; gene_name \"FP565260.4\";\n",
    "            \n",
    "            # remove semi-colon from right\n",
    "            # gene_id \"ENSG00000279493\"; gene_version \"1\"; gene_name \"FP565260.4\"            \n",
    "            column[ATTRIBUTE] = column[ATTRIBUTE].rstrip(';')\n",
    "            \n",
    "            # replace semi-colon space with just semi-colon, and delete double-quotes\n",
    "            # then split on semi-colon\n",
    "            # ['gene_id ENSG00000279493', 'gene_version 1', 'gene_name FP565260.4']\n",
    "            attribute = column[ATTRIBUTE].replace('; ', ';').replace('\"', '').split(';')\n",
    "\n",
    "            for item in attribute:\n",
    "                #print(item)\n",
    "                name, value = item.split(' ')\n",
    "                if name == 'gene_id':\n",
    "                    gene_id = value\n",
    "                if name == 'gene_name':\n",
    "                    gene_name = value\n",
    "                if name == 'gene_type':\n",
    "                    gene_biotype = value\n",
    "                    \n",
    "            genes[gene_name] = {'gene_id': gene_id,\n",
    "                                'chromsome': column[SEQNAME],\n",
    "                                'start': int(column[START]),\n",
    "                                'end': int(column[END]),\n",
    "                                'biotype': gene_biotype\n",
    "                                }\n",
    "\n",
    "            if gene_name == 'GATD3B':\n",
    "                print(genes['GATD3B'])"
   ]
  },
  {
   "cell_type": "code",
   "execution_count": 15,
   "metadata": {},
   "outputs": [
    {
     "name": "stdout",
     "output_type": "stream",
     "text": [
      "DDX11L1\n",
      "WASH7P\n",
      "MIR6859-1\n",
      "RP11-34P13.3\n",
      "MIR1302-2\n",
      "FAM138A\n",
      "OR4G4P\n",
      "OR4G11P\n",
      "OR4F5\n"
     ]
    }
   ],
   "source": [
    "count = 0\n",
    "for x in genes:\n",
    "    count += 1\n",
    "    if count < 10:\n",
    "        print(x)"
   ]
  },
  {
   "cell_type": "code",
   "execution_count": 17,
   "metadata": {},
   "outputs": [
    {
     "data": {
      "text/plain": [
       "{'gene_id': 'ENSG00000226210.3',\n",
       " 'chromsome': 'chr12',\n",
       " 'start': 14522,\n",
       " 'end': 32015,\n",
       " 'biotype': 'unprocessed_pseudogene'}"
      ]
     },
     "execution_count": 17,
     "metadata": {},
     "output_type": "execute_result"
    }
   ],
   "source": [
    "genes['WASH7P']"
   ]
  },
  {
   "cell_type": "code",
   "execution_count": null,
   "metadata": {},
   "outputs": [],
   "source": [
    "import urllib.request\n",
    "import gzip\n",
    "\n",
    "request_URL = '** gipped file URL **'\n",
    "response = urllib.request.urlopen(URL)\n",
    "\n",
    "with gzip.open(response, 'rt') as inStream:\n",
    "\n",
    "    for line in inFile:\n",
    "        line = line.rstrip('\\n')\n",
    "\n",
    "        ** Parsing code goes here **\n"
   ]
  },
  {
   "cell_type": "code",
   "execution_count": null,
   "metadata": {},
   "outputs": [],
   "source": [
    "import urllib.request\n",
    "\n",
    "request_url = '** plain text file URL **'\n",
    "\n",
    "with urllib.request.urlopen(request_url) as inStream:\n",
    "\n",
    "    for line in response:\n",
    "        line = line.decode('utf-8').rstrip('\\n')\n",
    "\n",
    "        ** Parsing of file goes here **\n"
   ]
  },
  {
   "cell_type": "code",
   "execution_count": 35,
   "metadata": {},
   "outputs": [
    {
     "name": "stdout",
     "output_type": "stream",
     "text": [
      "ENCFF016CBS\tomental fat pad\thttps://www.encodeproject.org/files/ENCFF016CBS/@@download/ENCFF016CBS.tsv\n",
      "ENSG00000000003.14\t3.53\n",
      "ENSG00000000005.5\t1.24\n",
      "ENSG00000000419.12\t2.62\n",
      "ENSG00000000457.13\t1.10\n",
      "ENSG00000000460.16\t0.76\n",
      "ENSG00000000938.12\t7.05\n",
      "ENSG00000000971.15\t4.15\n",
      "ENCFF365ZMW\tsigmoid colon\thttps://www.encodeproject.org/files/ENCFF365ZMW/@@download/ENCFF365ZMW.tsv\n",
      "ENSG00000000003.14\t0.46\n",
      "ENSG00000000005.5\t0.01\n",
      "ENSG00000000419.12\t4.51\n",
      "ENSG00000000457.13\t0.78\n",
      "ENSG00000000460.16\t0.36\n",
      "ENSG00000000938.12\t0.40\n",
      "ENSG00000000971.15\t1.95\n",
      "ENCFF408GFZ\tsubcutaneous adipose tissue\thttps://www.encodeproject.org/files/ENCFF408GFZ/@@download/ENCFF408GFZ.tsv\n",
      "ENSG00000000003.14\t3.49\n",
      "ENSG00000000005.5\t1.43\n",
      "ENSG00000000419.12\t4.54\n",
      "ENSG00000000457.13\t0.93\n",
      "ENSG00000000460.16\t0.66\n",
      "ENSG00000000938.12\t2.11\n",
      "ENSG00000000971.15\t19.48\n",
      "ENCFF505TUS\tprostate gland\thttps://www.encodeproject.org/files/ENCFF505TUS/@@download/ENCFF505TUS.tsv\n",
      "ENSG00000000003.14\t6.16\n",
      "ENSG00000000005.5\t0.02\n",
      "ENSG00000000419.12\t5.60\n",
      "ENSG00000000457.13\t2.80\n",
      "ENSG00000000460.16\t2.05\n",
      "ENSG00000000938.12\t1.92\n",
      "ENSG00000000971.15\t5.57\n",
      "ENCFF633OSJ\tsuprapubic skin\thttps://www.encodeproject.org/files/ENCFF633OSJ/@@download/ENCFF633OSJ.tsv\n",
      "ENSG00000000003.14\t3.54\n",
      "ENSG00000000005.5\t0.46\n",
      "ENSG00000000419.12\t9.56\n",
      "ENSG00000000457.13\t3.81\n",
      "ENSG00000000460.16\t1.88\n",
      "ENSG00000000938.12\t2.17\n",
      "ENSG00000000971.15\t3.03\n",
      "ENCFF862LZL\theart left ventricle\thttps://www.encodeproject.org/files/ENCFF862LZL/@@download/ENCFF862LZL.tsv\n",
      "ENSG00000000003.14\t0.96\n",
      "ENSG00000000005.5\t0.05\n",
      "ENSG00000000419.12\t7.97\n",
      "ENSG00000000457.13\t1.18\n",
      "ENSG00000000460.16\t0.07\n",
      "ENSG00000000938.12\t0.80\n",
      "ENSG00000000971.15\t3.85\n",
      "ENCFF863ERP\ttestis\thttps://www.encodeproject.org/files/ENCFF863ERP/@@download/ENCFF863ERP.tsv\n",
      "ENSG00000000003.14\t7.67\n",
      "ENSG00000000005.5\t0.00\n",
      "ENSG00000000419.12\t7.23\n",
      "ENSG00000000457.13\t2.65\n",
      "ENSG00000000460.16\t3.96\n",
      "ENSG00000000938.12\t1.62\n",
      "ENSG00000000971.15\t4.25\n",
      "ENCFF916ODF\tvagina\thttps://www.encodeproject.org/files/ENCFF916ODF/@@download/ENCFF916ODF.tsv\n",
      "ENSG00000000003.14\t0.81\n",
      "ENSG00000000005.5\t0.01\n",
      "ENSG00000000419.12\t0.86\n",
      "ENSG00000000457.13\t0.49\n",
      "ENSG00000000460.16\t0.47\n",
      "ENSG00000000938.12\t0.76\n",
      "ENSG00000000971.15\t1.51\n",
      "ENCFF918KPC\tstomach\thttps://www.encodeproject.org/files/ENCFF918KPC/@@download/ENCFF918KPC.tsv\n",
      "ENSG00000000003.14\t0.49\n",
      "ENSG00000000005.5\t0.00\n",
      "ENSG00000000419.12\t0.24\n",
      "ENSG00000000457.13\t0.28\n",
      "ENSG00000000460.16\t2.18\n",
      "ENSG00000000938.12\t0.15\n",
      "ENSG00000000971.15\t2.92\n"
     ]
    }
   ],
   "source": [
    "with open('ps2_gene_quant_URLs.tab', 'r') as tab_of_urls:\n",
    "    urls = tab_of_urls.readlines()\n",
    "\n",
    "find_genes = ['ENSG00000000938', 'ENSG00000000003', 'ENSG00000000005', 'ENSG00000000419', \n",
    "                'ENSG00000000457', 'ENSG00000000460', 'ENSG00000000971']\n",
    "for x in urls:\n",
    "    a, b, c = x.rstrip('\\n').split('\\t')\n",
    "    print(a, b, c, sep='\\t')\n",
    "    with urllib.request.urlopen(c) as response:\n",
    "        for line in response:\n",
    "            cols = line.decode('utf-8').rstrip('\\n').split('\\t')\n",
    "            if cols[0].split('.')[0] in find_genes:\n",
    "                print(cols[0], cols[5], sep='\\t')"
   ]
  },
  {
   "cell_type": "code",
   "execution_count": null,
   "metadata": {},
   "outputs": [],
   "source": []
  }
 ],
 "metadata": {
  "kernelspec": {
   "display_name": "Python 3",
   "language": "python",
   "name": "python3"
  },
  "language_info": {
   "codemirror_mode": {
    "name": "ipython",
    "version": 3
   },
   "file_extension": ".py",
   "mimetype": "text/x-python",
   "name": "python",
   "nbconvert_exporter": "python",
   "pygments_lexer": "ipython3",
   "version": "3.7.3"
  }
 },
 "nbformat": 4,
 "nbformat_minor": 2
}
