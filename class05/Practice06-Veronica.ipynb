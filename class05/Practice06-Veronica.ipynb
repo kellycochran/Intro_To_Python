{
 "cells": [
  {
   "cell_type": "markdown",
   "metadata": {},
   "source": [
    "# Practice:  Importing libraries, reading files from URLs, comprehensions, map(), and writing custom functions"
   ]
  },
  {
   "cell_type": "markdown",
   "metadata": {},
   "source": [
    "**12/3/2019<br>\n",
    "BIOS 274: Introductory Python Programming for Genomics**<br>"
   ]
  },
  {
   "cell_type": "markdown",
   "metadata": {},
   "source": [
    "## Table of Contents\n",
    "1. [Importing libraries](#importing)<br>\n",
    ">- [math](#math)\n",
    ">- [gzip](#gzip)\n",
    ">- [os](#os)\n",
    ">- [random](#random)\n",
    "2. [Different ways to navigate through a file](#different)\n",
    "3. [Reading files from URLs](#reading)\n",
    "4. [Comprehensions and map(): Simplifying for loops](#comprehensions)\n",
    "5. [Writing custom functions](#writing)\n",
    "6. [Let's practice!](#practice)"
   ]
  },
  {
   "cell_type": "markdown",
   "metadata": {},
   "source": [
    "<a id=\"importing\"></a>\n",
    "## Importing libraries"
   ]
  },
  {
   "cell_type": "markdown",
   "metadata": {},
   "source": [
    "**Some of the libraries we've learned about so far:**<br>\n",
    "\n",
    "<code>math</code><br>\n",
    "<code>gzip</code><br>\n",
    "<code>os</code><br>\n",
    "<code>random</code><br>"
   ]
  },
  {
   "cell_type": "markdown",
   "metadata": {},
   "source": [
    "**There are different ways to import libraries:**"
   ]
  },
  {
   "cell_type": "code",
   "execution_count": null,
   "metadata": {},
   "outputs": [],
   "source": [
    "# import the math library\n",
    "# find the sqrt of 9\n",
    "import math\n",
    "print(math.sqrt(9))\n",
    "\n",
    "# import the math library, but call it m\n",
    "# find the sqrt of 9\n",
    "import math as m\n",
    "print(m.sqrt(9))\n",
    "\n",
    "# import ONLY the sqrt function from math\n",
    "# find the sqrt of 9\n",
    "from math import sqrt\n",
    "print(sqrt(9))\n",
    "\n",
    "# import ONLY the sqrt function from math, but call it s\n",
    "# find the sqrt of 9\n",
    "from math import sqrt as s\n",
    "print(s(9))"
   ]
  },
  {
   "cell_type": "markdown",
   "metadata": {},
   "source": [
    "<a id=\"math\"></a>\n",
    "**math library**"
   ]
  },
  {
   "cell_type": "code",
   "execution_count": null,
   "metadata": {},
   "outputs": [],
   "source": [
    "import math\n",
    "\n",
    "print(math.log(7))\n",
    "print(math.log(7, 2))\n",
    "\n",
    "print(math.sqrt(9))\n",
    "\n",
    "print(math.factorial(4))"
   ]
  },
  {
   "cell_type": "code",
   "execution_count": null,
   "metadata": {},
   "outputs": [],
   "source": [
    "# There are so many more methods in the math library! \n",
    "# Put your cursor after the 'math.' and press 'tab' to see them all!\n",
    "math."
   ]
  },
  {
   "cell_type": "markdown",
   "metadata": {},
   "source": [
    "<a id=\"gzip\"></a>\n",
    "**gzip library**"
   ]
  },
  {
   "cell_type": "code",
   "execution_count": null,
   "metadata": {},
   "outputs": [],
   "source": [
    "import gzip\n",
    "\n",
    "# The most common use is to read gzipped files\n",
    "\n",
    "gzippedFileName = 'sample.txt.gz'\n",
    "\n",
    "with gzip.open(gzippedFileName, 'rt') as inFile: # don't forget to use 'rt' not just 'r'\n",
    "    for line in inFile:\n",
    "        line = line.strip()\n",
    "        print(line)"
   ]
  },
  {
   "cell_type": "markdown",
   "metadata": {},
   "source": [
    "<a id=\"os\"></a>\n",
    "**os library**"
   ]
  },
  {
   "cell_type": "code",
   "execution_count": null,
   "metadata": {},
   "outputs": [],
   "source": [
    "import os\n",
    "\n",
    "# Returns your current directory\n",
    "print(os.getcwd())\n",
    "\n",
    "# Returns a list containing the names of the files in the specified directory\n",
    "print(os.listdir())\n",
    "\n",
    "# Create a new directory\n",
    "os.makedirs('newDirectory')\n",
    "\n",
    "# Remove a a directory\n",
    "os.removedirs('newDirectory')\n",
    "\n",
    "open('newFile.txt', 'w') # this creates a new empty file\n",
    "\n",
    "# Remove a file\n",
    "os.remove('newFile.txt')"
   ]
  },
  {
   "cell_type": "code",
   "execution_count": null,
   "metadata": {},
   "outputs": [],
   "source": [
    "# THIS CELL WON'T ACTUALLY EXECUTE\n",
    "# THEY'RE JUST EXAMPLES\n",
    "\n",
    "# Change the current working directory to the specified path.\n",
    "os.chdir('PATH')\n",
    "\n",
    "# Test whether a path exists.\n",
    "os.path.exists('PATH')"
   ]
  },
  {
   "cell_type": "code",
   "execution_count": null,
   "metadata": {},
   "outputs": [],
   "source": [
    "# There are so many more methods in the os library! \n",
    "# Put your cursor after the 'os.' and press 'tab' to see them all!\n",
    "os."
   ]
  },
  {
   "cell_type": "markdown",
   "metadata": {},
   "source": [
    "<a id=\"random\"></a>\n",
    "**random library**"
   ]
  },
  {
   "cell_type": "code",
   "execution_count": null,
   "metadata": {},
   "outputs": [],
   "source": [
    "import random\n",
    "\n",
    "# Returns random number from the interval [0, 1)\n",
    "print(random.random())\n",
    "\n",
    "# Returns a random number between the minimum (inclusive) and maximum (not inclusive) provided\n",
    "print(random.randrange(1, 101))"
   ]
  },
  {
   "cell_type": "code",
   "execution_count": null,
   "metadata": {},
   "outputs": [],
   "source": [
    "# There are so many more methods in the os library! \n",
    "# Put your cursor after the 'random.' and press 'tab' to see them all!\n",
    "random."
   ]
  },
  {
   "cell_type": "markdown",
   "metadata": {},
   "source": [
    "<a id=\"different\"></a>\n",
    "# Different ways to navigate through a file"
   ]
  },
  {
   "cell_type": "markdown",
   "metadata": {},
   "source": [
    "**REVIEW: Store the entire file as a string:  <code>inFile.read()</code>**"
   ]
  },
  {
   "cell_type": "code",
   "execution_count": null,
   "metadata": {},
   "outputs": [],
   "source": [
    "inFileName = 'sample.txt'\n",
    "\n",
    "with open(inFileName, 'r') as inFile:\n",
    "    inFile_string = inFile.read()\n",
    "\n",
    "print(inFile_string)"
   ]
  },
  {
   "cell_type": "markdown",
   "metadata": {},
   "source": [
    "**REVIEW: Go through a each line of the file**"
   ]
  },
  {
   "cell_type": "code",
   "execution_count": null,
   "metadata": {},
   "outputs": [],
   "source": [
    "inFileName = 'sample.txt'\n",
    "\n",
    "with open(inFileName, 'r') as inFile:\n",
    "    for line in inFile:\n",
    "        line = line.strip()   # .rstrip() and .lstrip() remove from just the right or left sides of the line\n",
    "        print(line)"
   ]
  },
  {
   "cell_type": "markdown",
   "metadata": {},
   "source": [
    "**NEW: Read just a single line of the file: <code>next(inFile)</code> or <code>inFile.readline()</code>**"
   ]
  },
  {
   "cell_type": "code",
   "execution_count": null,
   "metadata": {},
   "outputs": [],
   "source": [
    "# This is often useful for skipping the header of files!\n",
    "\n",
    "inFileName = 'sample.txt'\n",
    "\n",
    "with open(inFileName, 'r') as inFile:\n",
    "    firstLine = next(inFile)\n",
    "    print(firstLine) # first line will print\n",
    "\n",
    "    #secondLine = inFile.readline()\n",
    "    #print(secondLine) # second line will print\n",
    "\n",
    "    #thirdLine2 = inFile.readline()\n",
    "    #print(thirdLine2) # third line will print"
   ]
  },
  {
   "cell_type": "markdown",
   "metadata": {},
   "source": [
    "<a id=\"reading\"></a>\n",
    "## Reading files from URLs"
   ]
  },
  {
   "cell_type": "markdown",
   "metadata": {},
   "source": [
    "**Reading a gzipped file from a URL**"
   ]
  },
  {
   "cell_type": "code",
   "execution_count": null,
   "metadata": {},
   "outputs": [],
   "source": [
    "import urllib.request\n",
    "import gzip\n",
    "\n",
    "URL = 'https://www.encodeproject.org/files/ENCFF215GBK/@@download/ENCFF215GBK.fastq.gz'\n",
    "#URL = 'https://www.encodeproject.org/files/gencode.v24.primary_assembly.annotation/@@download/gencode.v24.primary_assembly.annotation.gtf.gz'\n",
    "\n",
    "response = urllib.request.urlopen(URL)\n",
    "\n",
    "with gzip.open(response, 'rt') as inFile:  # don't forget to use 'rt' not just 'r'\n",
    "    i = 0\n",
    "    for line in inFile:\n",
    "        line = line.strip()\n",
    "        print(line)\n",
    "        i += 1\n",
    "        \n",
    "        #** Parsing of file goes here **\n",
    "\n",
    "        if i >= 8:\n",
    "            break"
   ]
  },
  {
   "cell_type": "markdown",
   "metadata": {},
   "source": [
    "**Reading a non-gzipped file from a URL**"
   ]
  },
  {
   "cell_type": "code",
   "execution_count": null,
   "metadata": {},
   "outputs": [],
   "source": [
    "URL = 'https://hgdownload.soe.ucsc.edu/gbdb/hg38/snp/snp142.fa'\n",
    "\n",
    "response = urllib.request.urlopen(URL)\n",
    "\n",
    "i = 0\n",
    "for line in response:\n",
    "    line = line.decode('utf-8').strip()\n",
    "    print(line)\n",
    "    i += 1\n",
    "    \n",
    "    #** Parsing of file goes here **\n",
    "\n",
    "    if i >= 8:\n",
    "        break"
   ]
  },
  {
   "cell_type": "markdown",
   "metadata": {},
   "source": [
    "<a id=\"comprehensions\"></a>\n",
    "## Comprehensions and map():  Condensing for loops"
   ]
  },
  {
   "cell_type": "markdown",
   "metadata": {},
   "source": [
    "### **EXAMPLE:  Three ways to convert a list of strings to a list of integers**"
   ]
  },
  {
   "cell_type": "markdown",
   "metadata": {},
   "source": [
    "**1. Using a for loop**"
   ]
  },
  {
   "cell_type": "code",
   "execution_count": null,
   "metadata": {},
   "outputs": [],
   "source": [
    "myList = ['1', '2', '3', '4']\n",
    "\n",
    "myList_int = []\n",
    "\n",
    "for num in myList:\n",
    "    num = int(num)\n",
    "    myList_int.append(num)\n",
    "    \n",
    "print(myList_int)"
   ]
  },
  {
   "cell_type": "markdown",
   "metadata": {},
   "source": [
    "**2. Using a comprehension **"
   ]
  },
  {
   "cell_type": "markdown",
   "metadata": {},
   "source": [
    "<b>[</b> do this expression <b>for</b> item <b>in</b> list <b>if</b> conditional <b>]</b>"
   ]
  },
  {
   "cell_type": "markdown",
   "metadata": {},
   "source": [
    "<code>for item in list:\n",
    "    if conditional:\n",
    "        expression</code>"
   ]
  },
  {
   "cell_type": "code",
   "execution_count": null,
   "metadata": {},
   "outputs": [],
   "source": [
    "myList = ['1', '2', '3', '4']\n",
    "\n",
    "myList = [int(x) for x in myList]\n",
    "print(myList)"
   ]
  },
  {
   "cell_type": "code",
   "execution_count": null,
   "metadata": {},
   "outputs": [],
   "source": [
    "# Here's how you would convert to an integer AND multiply by 3 for each item in the list\n",
    "#    only if the original number is greater than 2!\n",
    "\n",
    "myList = ['1', '2', '3', '4']\n",
    "\n",
    "myNewList = [int(x)*3 for x in myList if int(x) > 2]\n",
    "print(myNewList)"
   ]
  },
  {
   "cell_type": "code",
   "execution_count": null,
   "metadata": {},
   "outputs": [],
   "source": [
    "# Cool example of how to make two lists into a dictionary using a comprehension!\n",
    "\n",
    "myList1 = ['one', 'two', 'three', 'four']\n",
    "myList2 = [1, 2, 3, 4]\n",
    "\n",
    "myDict = {key:value for key, value in zip(myList1, myList2)}\n",
    "print(myDict)"
   ]
  },
  {
   "cell_type": "markdown",
   "metadata": {},
   "source": [
    "**3. Using the <code>map()</code> function**"
   ]
  },
  {
   "cell_type": "markdown",
   "metadata": {},
   "source": [
    "**map(**do this function**,** to each item in this list**)**"
   ]
  },
  {
   "cell_type": "code",
   "execution_count": null,
   "metadata": {},
   "outputs": [],
   "source": [
    "myList = ['1', '2', '3', '4']\n",
    "\n",
    "myList = list(map(int, myList))\n",
    "print(myList)"
   ]
  },
  {
   "cell_type": "markdown",
   "metadata": {},
   "source": [
    "<a id=\"writing\"></a>\n",
    "## Writing custom functions"
   ]
  },
  {
   "cell_type": "markdown",
   "metadata": {},
   "source": [
    "**Basic format of a function**"
   ]
  },
  {
   "cell_type": "code",
   "execution_count": null,
   "metadata": {},
   "outputs": [],
   "source": [
    "# THIS CELL WON'T ACTUALLY EXECUTE\n",
    "# THEY'RE JUST EXAMPLES\n",
    "\n",
    "def functionName(variable1):\n",
    "    # Code goes here\n",
    "    return variable2\n",
    "\n",
    "def functionName(variable1, variable2, ...):\n",
    "    # Code goes here\n",
    "    return variable3, variable4, ..."
   ]
  },
  {
   "cell_type": "markdown",
   "metadata": {},
   "source": [
    "**This function, which is called <code>sum_list_of_strings()</code>,<br> takes a list of strings (i.e. <code>['1', '2', '3'])</code><br> and returns the sum of all the numbers in that list (i.e. <code>6</code>).**"
   ]
  },
  {
   "cell_type": "code",
   "execution_count": null,
   "metadata": {},
   "outputs": [],
   "source": [
    "def sum_list_of_strings(myList):\n",
    "    '''\n",
    "    Input: A list of strings (i.e. ['1', '2', '3'])\n",
    "    Output: The sum of the numbers in that string (i.e. 6)\n",
    "    '''\n",
    "    SUM = sum([int(x) for x in myList])\n",
    "    return SUM"
   ]
  },
  {
   "cell_type": "code",
   "execution_count": null,
   "metadata": {},
   "outputs": [],
   "source": [
    "help(sum_list_of_strings)"
   ]
  },
  {
   "cell_type": "markdown",
   "metadata": {},
   "source": [
    "**Now let's use the function we just wrote!**"
   ]
  },
  {
   "cell_type": "code",
   "execution_count": null,
   "metadata": {},
   "outputs": [],
   "source": [
    "x = ['1', '2', '3']\n",
    "y = ['5', '6', '7', '8', '9', '10']\n",
    "z = ['34', '56', '23', '21', '67', '65', '89', '100', '34', '23']\n",
    "\n",
    "print(sum_list_of_strings(x))\n",
    "print(sum_list_of_strings(y))\n",
    "print(sum_list_of_strings(z))"
   ]
  },
  {
   "cell_type": "markdown",
   "metadata": {},
   "source": [
    "<a id=\"practice\"></a>\n",
    "## Let's practice!"
   ]
  },
  {
   "cell_type": "markdown",
   "metadata": {},
   "source": [
    "### Exercise 1"
   ]
  },
  {
   "cell_type": "markdown",
   "metadata": {},
   "source": [
    "Use the <code>sum_list_of_strings()</code> function to print out the sum of the numbers in each line of <code>'sample.txt.gz'</code>\n",
    "\n",
    "Your output should be:<br>\n",
    "<code>15\n",
    "40\n",
    "65\n",
    "90\n",
    "115\n",
    "140</code>"
   ]
  },
  {
   "cell_type": "code",
   "execution_count": null,
   "metadata": {},
   "outputs": [],
   "source": [
    "def sum_list_of_strings(myList):\n",
    "    '''\n",
    "    Input: A list of strings (i.e. ['1', '2', '3'])\n",
    "    Output: The sum of the numbers in that string (i.e. 6)\n",
    "    '''\n",
    "    SUM = sum([int(x) for x in myList])\n",
    "    return SUM"
   ]
  },
  {
   "cell_type": "code",
   "execution_count": null,
   "metadata": {},
   "outputs": [],
   "source": [
    "# ADD YOUR OWN CODE TO THIS CELL\n",
    "\n",
    "gzippedFileName = 'sample.txt.gz'\n",
    "\n",
    "with gzip.open(gzippedFileName, 'rt') as inFile: # don't forget to use 'rt' not just 'r'\n",
    "    for line in inFile:\n",
    "        line = line.strip()\n",
    "        print(line)"
   ]
  },
  {
   "cell_type": "markdown",
   "metadata": {},
   "source": [
    "### Exercise 2"
   ]
  },
  {
   "cell_type": "markdown",
   "metadata": {},
   "source": [
    "Find the square root of each item in <code>myList</code> using:\n",
    ">**a.** a for loop<br>\n",
    ">**b.** a comprehension<br>\n",
    ">**c.** the map() function<br>\n",
    "\n",
    "Your output should be a list of the square roots."
   ]
  },
  {
   "cell_type": "code",
   "execution_count": null,
   "metadata": {},
   "outputs": [],
   "source": [
    "# YOUR SOLUTION: Using a for loop\n",
    "\n",
    "myList = [23, 64, 53, 3, 5, 9, 27, 100, 43]\n",
    "\n"
   ]
  },
  {
   "cell_type": "code",
   "execution_count": null,
   "metadata": {},
   "outputs": [],
   "source": [
    "# YOUR SOLUTION: Using a comprehension\n",
    "\n",
    "myList = [23, 64, 53, 3, 5, 9, 27, 100, 43]\n",
    "\n"
   ]
  },
  {
   "cell_type": "code",
   "execution_count": null,
   "metadata": {},
   "outputs": [],
   "source": [
    "# YOUR SOLUTION: Using a map()\n",
    "\n",
    "myList = [23, 64, 53, 3, 5, 9, 27, 100, 43]\n",
    "\n"
   ]
  },
  {
   "cell_type": "markdown",
   "metadata": {},
   "source": [
    "### Exercise 3"
   ]
  },
  {
   "cell_type": "markdown",
   "metadata": {},
   "source": [
    "**3.a** Find the complement of <code>seq</code> using:\n",
    ">**A.** a for loop<br>\n",
    ">**B.** a comprehension<br>\n",
    ">**C.** the map() function<br>\n",
    "\n",
    "Your output should be a string."
   ]
  },
  {
   "cell_type": "code",
   "execution_count": null,
   "metadata": {},
   "outputs": [],
   "source": [
    "# YOUR SOLUTION: Using a for loop\n",
    "\n",
    "seq = 'ATCGATCAGCATCTATATTCGGTC'\n",
    "\n"
   ]
  },
  {
   "cell_type": "code",
   "execution_count": null,
   "metadata": {},
   "outputs": [],
   "source": [
    "# YOUR SOLUTION: Using a comprehension\n",
    "\n",
    "seq = 'ATCGATCAGCATCTATATTCGGTC'\n",
    "\n"
   ]
  },
  {
   "cell_type": "code",
   "execution_count": null,
   "metadata": {},
   "outputs": [],
   "source": [
    "# YOUR SOLUTION: Using map()\n",
    "\n",
    "seq = 'ATCGATCAGCATCTATATTCGGTC'\n",
    "\n"
   ]
  },
  {
   "cell_type": "markdown",
   "metadata": {},
   "source": [
    "**3.b.** Write a function called <code>comp()</code> that will find the complement of any DNA sequence!\n",
    "\n",
    "Use your function to find the complement of <code>seq1</code> and <code>seq2</code>"
   ]
  },
  {
   "cell_type": "code",
   "execution_count": null,
   "metadata": {},
   "outputs": [],
   "source": [
    "seq1 = 'TCCAATCGGGCTAATTCGGCTAGAGTCGGCTAGAGAGGGAGA'\n",
    "seq2 = 'CTATTAAATCTGGGCTAGATATAGCTAATATCGCGCGGGCTATACGCAAATCGCGGGGACTAC'"
   ]
  },
  {
   "cell_type": "code",
   "execution_count": null,
   "metadata": {},
   "outputs": [],
   "source": [
    "# YOUR SOLUTION HERE\n",
    "\n"
   ]
  },
  {
   "cell_type": "markdown",
   "metadata": {},
   "source": [
    "**3.c.** Write a function called <code>rev_comp()</code> that will find the reverse complement of any DNA sequence!<br><br>\n",
    "\n",
    "Try to use <code>comp()</code> within <code>rev_comp()</code>!<br><br>\n",
    "Use your function to find the complement of <code>seq1</code> and <code>seq2</code>"
   ]
  },
  {
   "cell_type": "code",
   "execution_count": null,
   "metadata": {},
   "outputs": [],
   "source": [
    "seq1 = 'TCCAATCGGGCTAATTCGGCTAGAGTCGGCTAGAGAGGGAGA'\n",
    "seq2 = 'CTATTAAATCTGGGCTAGATATAGCTAATATCGCGCGGGCTATACGCAAATCGCGGGGACTAC'"
   ]
  },
  {
   "cell_type": "code",
   "execution_count": null,
   "metadata": {},
   "outputs": [],
   "source": [
    "# YOUR SOLUTION HERE\n",
    "\n"
   ]
  },
  {
   "cell_type": "markdown",
   "metadata": {},
   "source": [
    "**3.d.** Write a function called <code>rev_comp_count()</code> that takes a DNA sequence as a string and returns:\n",
    ">**A.** the reverse complement (as a string)<br>\n",
    "   AND<br>\n",
    ">**B.** the counts of each nucleotide in the reverse complemented sequence (as a dictionary)<br>\n",
    "\n",
    "Use your function on <code>seq1</code> and <code>seq2</code>"
   ]
  },
  {
   "cell_type": "code",
   "execution_count": null,
   "metadata": {},
   "outputs": [],
   "source": [
    "seq1 = 'TCCAATCGGGCTAATTCGGCTAGAGTCGGCTAGAGAGGGAGA'\n",
    "seq2 = 'CTATTAAATCTGGGCTAGATATAGCTAATATCGCGCGGGCTATACGCAAATCGCGGGGACTAC'"
   ]
  },
  {
   "cell_type": "code",
   "execution_count": null,
   "metadata": {},
   "outputs": [],
   "source": [
    "# YOUR SOLUTION HERE\n",
    "\n"
   ]
  },
  {
   "cell_type": "markdown",
   "metadata": {},
   "source": [
    "### Exercise 4"
   ]
  },
  {
   "cell_type": "markdown",
   "metadata": {},
   "source": [
    "Write a function called <code>find_score()</code> that scores how similar two DNA sequences are to each other.\n",
    ">- matches are worth +3<br>\n",
    ">- mismatches are worth -2\n",
    "\n",
    "Your function should return (as a tuple): \n",
    ">1. the score\n",
    ">2. the number of matches\n",
    ">3. the number of mismatches\n",
    "\n",
    "For example, these two DNA sequences would have a score of 10, <br>\n",
    "with 4 matches (each worth +3) and 1 mismatch (worth -2)<br><br>\n",
    "<code>ACATC</code><br>\n",
    "<code>|||x|</code><br>\n",
    "<code>ACACC</code>\n",
    "\n",
    "Use your function on the following pairs:\n",
    ">1. <code>seq1</code> and <code>seq2</code>\n",
    ">2. <code>seq2</code> and <code>seq3</code>\n",
    ">3. <code>seq1</code> and <code>seq3</code>"
   ]
  },
  {
   "cell_type": "code",
   "execution_count": null,
   "metadata": {},
   "outputs": [],
   "source": [
    "seq1 = 'TCCAATCGGGCTAATTCGGCTAGAGTCGGCTAGAGAGGGAGA'\n",
    "seq2 = 'TCCAGTCGGGCTTATACGGCTACTGTCCGCTAGTGACCCAGA'\n",
    "seq3 = 'TGCAATGGGGCTAATACGGCAAGAGTCCCCTAGAGAGGGAGT'"
   ]
  },
  {
   "cell_type": "code",
   "execution_count": null,
   "metadata": {},
   "outputs": [],
   "source": [
    "# YOUR SOLUTION HERE\n",
    "\n"
   ]
  }
 ],
 "metadata": {
  "kernelspec": {
   "display_name": "Python 3",
   "language": "python",
   "name": "python3"
  },
  "language_info": {
   "codemirror_mode": {
    "name": "ipython",
    "version": 3
   },
   "file_extension": ".py",
   "mimetype": "text/x-python",
   "name": "python",
   "nbconvert_exporter": "python",
   "pygments_lexer": "ipython3",
   "version": "3.7.3"
  }
 },
 "nbformat": 4,
 "nbformat_minor": 2
}
