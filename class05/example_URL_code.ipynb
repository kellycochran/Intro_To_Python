{
 "cells": [
  {
   "cell_type": "markdown",
   "metadata": {},
   "source": [
    "# gzipped data via URL"
   ]
  },
  {
   "cell_type": "code",
   "execution_count": null,
   "metadata": {},
   "outputs": [],
   "source": [
    "import urllib.request\n",
    "import gzip\n",
    "\n",
    "# variable for URL\n",
    "request_URL = '** gipped file URL **'\n",
    "\n",
    "# open stream for data\n",
    "response = urllib.request.urlopen(request_URL)\n",
    "\n",
    "# open gzipped connection\n",
    "with gzip.open(response, 'rt') as inStream:\n",
    "\n",
    "    # parse the stream line by line\n",
    "    for line in inFile:\n",
    "        line = line.rstrip('\\n')\n",
    "\n",
    "        ### Parsing code goes here ###\n"
   ]
  },
  {
   "cell_type": "code",
   "execution_count": null,
   "metadata": {},
   "outputs": [],
   "source": []
  },
  {
   "cell_type": "markdown",
   "metadata": {},
   "source": [
    "# text data via URL"
   ]
  },
  {
   "cell_type": "code",
   "execution_count": null,
   "metadata": {},
   "outputs": [],
   "source": [
    "import urllib.request\n",
    "\n",
    "# variable for URL\n",
    "request_URL = '** plain text file URL **'\n",
    "\n",
    "# open the byte stream for data\n",
    "with urllib.request.urlopen(request_URL) as inStream:\n",
    "\n",
    "    # parse the stream line by line\n",
    "    for line in inStream:\n",
    "        # must decode the data into the utf-8 character set\n",
    "        line = line.decode('utf-8').rstrip('\\n')\n",
    "\n",
    "        ### Parsing of file goes here ###\n"
   ]
  }
 ],
 "metadata": {
  "kernelspec": {
   "display_name": "Python 3",
   "language": "python",
   "name": "python3"
  },
  "language_info": {
   "codemirror_mode": {
    "name": "ipython",
    "version": 3
   },
   "file_extension": ".py",
   "mimetype": "text/x-python",
   "name": "python",
   "nbconvert_exporter": "python",
   "pygments_lexer": "ipython3",
   "version": "3.7.3"
  }
 },
 "nbformat": 4,
 "nbformat_minor": 2
}
