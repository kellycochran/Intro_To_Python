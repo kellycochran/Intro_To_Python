{
 "cells": [
  {
   "cell_type": "markdown",
   "metadata": {},
   "source": [
    "# BIOS274, Class 6"
   ]
  },
  {
   "cell_type": "markdown",
   "metadata": {},
   "source": [
    "# os module"
   ]
  },
  {
   "cell_type": "code",
   "execution_count": 1,
   "metadata": {},
   "outputs": [],
   "source": [
    "# Operating system module\n",
    "import os"
   ]
  },
  {
   "cell_type": "code",
   "execution_count": 2,
   "metadata": {},
   "outputs": [],
   "source": [
    "# os.mkdir() - make a new directory\n",
    "# os.remove() - remove a file\n",
    "# os.chdir() - change directory, ie. move into another directory\n",
    "# os.rmdir() - remove a directory, it must be empty before it can be removed\n",
    "# os.getcwd() - get the current working directory\n",
    "# os.listdir() - list all files and directories in the current directory"
   ]
  },
  {
   "cell_type": "code",
   "execution_count": 3,
   "metadata": {},
   "outputs": [
    {
     "name": "stdout",
     "output_type": "stream",
     "text": [
      "/Users/cherry/Box Sync/BIOS274/BIOS274-2019/classes/class06\n"
     ]
    }
   ],
   "source": [
    "result = os.getcwd()\n",
    "print(result)"
   ]
  },
  {
   "cell_type": "code",
   "execution_count": 4,
   "metadata": {},
   "outputs": [
    {
     "name": "stdout",
     "output_type": "stream",
     "text": [
      "['class06-URL-functions-map.ipynb', '.ipynb_checkpoints']\n"
     ]
    }
   ],
   "source": [
    "result = os.listdir()\n",
    "print(result)"
   ]
  },
  {
   "cell_type": "code",
   "execution_count": 6,
   "metadata": {},
   "outputs": [
    {
     "ename": "FileExistsError",
     "evalue": "[Errno 17] File exists: 'new_dir_123456'",
     "output_type": "error",
     "traceback": [
      "\u001b[0;31m---------------------------------------------------------------------------\u001b[0m",
      "\u001b[0;31mFileExistsError\u001b[0m                           Traceback (most recent call last)",
      "\u001b[0;32m<ipython-input-6-013214d99cfc>\u001b[0m in \u001b[0;36m<module>\u001b[0;34m\u001b[0m\n\u001b[1;32m      1\u001b[0m \u001b[0mdir_name\u001b[0m \u001b[0;34m=\u001b[0m \u001b[0;34m'new_dir_123456'\u001b[0m\u001b[0;34m\u001b[0m\u001b[0;34m\u001b[0m\u001b[0m\n\u001b[1;32m      2\u001b[0m \u001b[0;34m\u001b[0m\u001b[0m\n\u001b[0;32m----> 3\u001b[0;31m \u001b[0mresult\u001b[0m \u001b[0;34m=\u001b[0m \u001b[0mos\u001b[0m\u001b[0;34m.\u001b[0m\u001b[0mmkdir\u001b[0m\u001b[0;34m(\u001b[0m\u001b[0mdir_name\u001b[0m\u001b[0;34m)\u001b[0m\u001b[0;34m\u001b[0m\u001b[0;34m\u001b[0m\u001b[0m\n\u001b[0m\u001b[1;32m      4\u001b[0m \u001b[0mprint\u001b[0m\u001b[0;34m(\u001b[0m\u001b[0mresult\u001b[0m\u001b[0;34m)\u001b[0m\u001b[0;34m\u001b[0m\u001b[0;34m\u001b[0m\u001b[0m\n",
      "\u001b[0;31mFileExistsError\u001b[0m: [Errno 17] File exists: 'new_dir_123456'"
     ]
    }
   ],
   "source": [
    "dir_name = 'new_dir_123456'\n",
    "\n",
    "result = os.mkdir(dir_name)\n",
    "print(result)"
   ]
  },
  {
   "cell_type": "code",
   "execution_count": 8,
   "metadata": {},
   "outputs": [
    {
     "name": "stdout",
     "output_type": "stream",
     "text": [
      "Directory not created. Directory new_dir_123456 exists.\n"
     ]
    }
   ],
   "source": [
    "try:\n",
    "    os.mkdir(dir_name)\n",
    "except FileExistsError:\n",
    "    print('Directory not created. Directory', dir_name, 'exists.')"
   ]
  },
  {
   "cell_type": "code",
   "execution_count": 10,
   "metadata": {},
   "outputs": [
    {
     "name": "stdout",
     "output_type": "stream",
     "text": [
      "['new_dir_123456', 'class06-URL-functions-map.ipynb', '.ipynb_checkpoints']\n"
     ]
    }
   ],
   "source": [
    "result = os.listdir()\n",
    "print(result)"
   ]
  },
  {
   "cell_type": "code",
   "execution_count": 12,
   "metadata": {},
   "outputs": [
    {
     "ename": "FileNotFoundError",
     "evalue": "[Errno 2] No such file or directory: 'new_dir_123456'",
     "output_type": "error",
     "traceback": [
      "\u001b[0;31m---------------------------------------------------------------------------\u001b[0m",
      "\u001b[0;31mFileNotFoundError\u001b[0m                         Traceback (most recent call last)",
      "\u001b[0;32m<ipython-input-12-fa338f699eda>\u001b[0m in \u001b[0;36m<module>\u001b[0;34m\u001b[0m\n\u001b[0;32m----> 1\u001b[0;31m \u001b[0mresult\u001b[0m \u001b[0;34m=\u001b[0m \u001b[0mos\u001b[0m\u001b[0;34m.\u001b[0m\u001b[0mchdir\u001b[0m\u001b[0;34m(\u001b[0m\u001b[0;34m'new_dir_123456'\u001b[0m\u001b[0;34m)\u001b[0m\u001b[0;34m\u001b[0m\u001b[0;34m\u001b[0m\u001b[0m\n\u001b[0m\u001b[1;32m      2\u001b[0m \u001b[0mprint\u001b[0m\u001b[0;34m(\u001b[0m\u001b[0mresult\u001b[0m\u001b[0;34m)\u001b[0m\u001b[0;34m\u001b[0m\u001b[0;34m\u001b[0m\u001b[0m\n",
      "\u001b[0;31mFileNotFoundError\u001b[0m: [Errno 2] No such file or directory: 'new_dir_123456'"
     ]
    }
   ],
   "source": [
    "result = os.chdir('new_dir_123456')\n",
    "print(result)"
   ]
  },
  {
   "cell_type": "code",
   "execution_count": 13,
   "metadata": {},
   "outputs": [
    {
     "name": "stdout",
     "output_type": "stream",
     "text": [
      "No such file or directory\n"
     ]
    }
   ],
   "source": [
    "try:\n",
    "    os.chdir(dir_name)\n",
    "except FileNotFoundError:\n",
    "    print('No such file or directory')"
   ]
  },
  {
   "cell_type": "code",
   "execution_count": 14,
   "metadata": {},
   "outputs": [
    {
     "name": "stdout",
     "output_type": "stream",
     "text": [
      "/Users/cherry/Box Sync/BIOS274/BIOS274-2019/classes/class06/new_dir_123456\n"
     ]
    }
   ],
   "source": [
    "result = os.getcwd()\n",
    "print(result)"
   ]
  },
  {
   "cell_type": "code",
   "execution_count": 15,
   "metadata": {},
   "outputs": [
    {
     "name": "stdout",
     "output_type": "stream",
     "text": [
      "[]\n"
     ]
    }
   ],
   "source": [
    "result = os.listdir()\n",
    "print(result)"
   ]
  },
  {
   "cell_type": "code",
   "execution_count": 16,
   "metadata": {},
   "outputs": [
    {
     "name": "stdout",
     "output_type": "stream",
     "text": [
      "Writing test file in new_dir_123456, testing.txt\n"
     ]
    }
   ],
   "source": [
    "print('Writing test file in new_dir_123456, testing.txt')\n",
    "with open('testing.txt', 'w') as TEST:\n",
    "    TEST.write('testing')"
   ]
  },
  {
   "cell_type": "code",
   "execution_count": 17,
   "metadata": {},
   "outputs": [
    {
     "name": "stdout",
     "output_type": "stream",
     "text": [
      "['testing.txt']\n"
     ]
    }
   ],
   "source": [
    "result = os.listdir()\n",
    "print(result)"
   ]
  },
  {
   "cell_type": "code",
   "execution_count": 18,
   "metadata": {},
   "outputs": [
    {
     "name": "stdout",
     "output_type": "stream",
     "text": [
      "None\n"
     ]
    }
   ],
   "source": [
    "result = os.remove('testing.txt')\n",
    "print(result)"
   ]
  },
  {
   "cell_type": "code",
   "execution_count": 19,
   "metadata": {},
   "outputs": [
    {
     "name": "stdout",
     "output_type": "stream",
     "text": [
      "None\n"
     ]
    }
   ],
   "source": [
    "result = os.chdir('..')\n",
    "print(result)"
   ]
  },
  {
   "cell_type": "code",
   "execution_count": 20,
   "metadata": {},
   "outputs": [
    {
     "name": "stdout",
     "output_type": "stream",
     "text": [
      "None\n"
     ]
    }
   ],
   "source": [
    "result = os.rmdir('new_dir_123456')\n",
    "print(result)"
   ]
  },
  {
   "cell_type": "code",
   "execution_count": 21,
   "metadata": {},
   "outputs": [
    {
     "name": "stdout",
     "output_type": "stream",
     "text": [
      "/Users/cherry/Box Sync/BIOS274/BIOS274-2019/classes/class06\n"
     ]
    }
   ],
   "source": [
    "result = os.getcwd()\n",
    "print(result)"
   ]
  },
  {
   "cell_type": "code",
   "execution_count": 22,
   "metadata": {},
   "outputs": [
    {
     "name": "stdout",
     "output_type": "stream",
     "text": [
      "['class06-URL-functions-map.ipynb', '.ipynb_checkpoints']\n"
     ]
    }
   ],
   "source": [
    "result = os.listdir()\n",
    "print(result)"
   ]
  },
  {
   "cell_type": "code",
   "execution_count": null,
   "metadata": {},
   "outputs": [],
   "source": []
  },
  {
   "cell_type": "markdown",
   "metadata": {},
   "source": [
    "# gzip & urllib"
   ]
  },
  {
   "cell_type": "code",
   "execution_count": 24,
   "metadata": {},
   "outputs": [],
   "source": [
    "# Module for URL, interacting with the web\n",
    "import urllib.request\n",
    "\n",
    "# Module for reading and writing the compressed file format, gzip\n",
    "import gzip"
   ]
  },
  {
   "cell_type": "code",
   "execution_count": 26,
   "metadata": {},
   "outputs": [],
   "source": [
    "# GFF/GTF format\n",
    "\n",
    "# ensEMBL GFF format: https://uswest.ensembl.org/info/website/upload/gff.html\n",
    "SEQNAME = 0\n",
    "SOURCE = 1\n",
    "FEATURE = 2\n",
    "START = 3\n",
    "END = 4\n",
    "SCORE = 5\n",
    "STRAND = 6\n",
    "FRAME = 7\n",
    "ATTRIBUTE = 8\n",
    "\n",
    "# FTP ensEMBL downloads site: https://uswest.ensembl.org/info/data/ftp/index.html"
   ]
  },
  {
   "cell_type": "code",
   "execution_count": 29,
   "metadata": {},
   "outputs": [],
   "source": [
    "#GTF_URL = 'ftp://ftp.ensembl.org/pub/release-98/gtf/homo_sapiens/Homo_sapiens.GRCh38.98.chr.gtf.gz'\n",
    "\n",
    "GTF_URL = 'https://web.stanford.edu/class/gene211/handouts/Homo_sapiens.GRCh38.chr21-truncated.gtf.gz'"
   ]
  },
  {
   "cell_type": "code",
   "execution_count": 30,
   "metadata": {},
   "outputs": [],
   "source": [
    "# Another format for feature annotation is GFF3, slightly easier to parse\n",
    "# ftp://ftp.ensembl.org/pub/release-98/gff3/homo_sapiens\n",
    "\n",
    "GFF3_URL = 'https://web.stanford.edu/class/gene211/handouts/Homo_sapiens.GRCh38.98.chr21-partial.gff3.gz'"
   ]
  },
  {
   "cell_type": "code",
   "execution_count": 32,
   "metadata": {},
   "outputs": [
    {
     "name": "stdout",
     "output_type": "stream",
     "text": [
      "21\thavana\tgene\t5011799\t5017145\t.\t+\t.\tgene_id \"ENSG00000279493\"; gene_version \"1\"; gene_name \"FP565260.4\"; gene_source \"havana\"; gene_biotype \"protein_coding\";\n",
      "21\thavana\ttranscript\t5011799\t5017145\t.\t+\t.\tgene_id \"ENSG00000279493\"; gene_version \"1\"; transcript_id \"ENST00000624081\"; transcript_version \"1\"; gene_name \"FP565260.4\"; gene_source \"havana\"; gene_biotype \"protein_coding\"; transcript_name \"FP565260.4-201\"; transcript_source \"havana\"; transcript_biotype \"protein_coding\"; tag \"cds_start_NF\"; tag \"mRNA_start_NF\"; tag \"basic\"; transcript_support_level \"5\";\n"
     ]
    }
   ],
   "source": [
    "response = urllib.request.urlopen(GTF_URL)\n",
    "genes = {}\n",
    "\n",
    "line_count = 0\n",
    "\n",
    "with gzip.open(response, 'rt') as inFile:\n",
    "    for line in inFile:\n",
    "        # skip file comment lines\n",
    "        if line.startswith('#'):\n",
    "            continue\n",
    "        if line_count < 2:\n",
    "            print(line.rstrip('\\n'))\n",
    "        line_count += 1\n",
    "#"
   ]
  },
  {
   "cell_type": "code",
   "execution_count": 33,
   "metadata": {},
   "outputs": [
    {
     "name": "stdout",
     "output_type": "stream",
     "text": [
      "21\tEnsembl\tchromosome\t1\t46709983\t.\t.\t.\tID=chromosome:21;Alias=CM000683.2,chr21,NC_000021.9\n",
      "21\thavana\tgene\t5011799\t5017145\t.\t+\t.\tID=gene:ENSG00000279493;Name=FP565260.4;biotype=protein_coding;description=novel protein%2C similar to DNA (cytosine-5-)-methyltransferase 3-like DNMT3L;gene_id=ENSG00000279493;logic_name=havana_homo_sapiens;version=1\n"
     ]
    }
   ],
   "source": [
    "# Just to compare GTF and GFF3. The difference is in the ATTRIBUTE column (index 8)\n",
    "response = urllib.request.urlopen(GFF3_URL)\n",
    "genes = {}\n",
    "\n",
    "line_count = 0\n",
    "\n",
    "with gzip.open(response, 'rt') as inFile:\n",
    "    for line in inFile:\n",
    "        # skip file comment lines\n",
    "        if line.startswith('#'):\n",
    "            continue\n",
    "        if line_count < 2:\n",
    "            print(line.rstrip('\\n'))\n",
    "        line_count += 1"
   ]
  },
  {
   "cell_type": "code",
   "execution_count": 35,
   "metadata": {},
   "outputs": [
    {
     "name": "stdout",
     "output_type": "stream",
     "text": [
      "{'gene_id': 'ENSG00000280071', 'chromsome': 21, 'start': 5079294, 'end': 5128413, 'biotype': 'protein_coding'}\n"
     ]
    }
   ],
   "source": [
    "response = urllib.request.urlopen(GTF_URL)\n",
    "genes = {}\n",
    "\n",
    "attribute_names = ['gene_id', 'gene_name', 'gene_biotype']\n",
    "\n",
    "with gzip.open(response, 'rt') as inFile:\n",
    "    for line in inFile:\n",
    "        # skip file comment lines\n",
    "        if line.startswith('#'):\n",
    "            continue\n",
    "\n",
    "        # split line into columns that are separated by TAB \n",
    "        column = line.rstrip('\\n').split('\\t')\n",
    "\n",
    "        # manipulate column #8, attributes\n",
    "        if column[FEATURE] == 'gene':\n",
    "            # starting ATTRIBUTE string\n",
    "            # gene_id \"ENSG00000279493\"; gene_version \"1\"; gene_name \"FP565260.4\";\n",
    "            \n",
    "            # remove semi-colon from right\n",
    "            # gene_id \"ENSG00000279493\"; gene_version \"1\"; gene_name \"FP565260.4\"            \n",
    "            column[ATTRIBUTE] = column[ATTRIBUTE].rstrip(';')\n",
    "            \n",
    "            # replace semi-colon space with just semi-colon, and delete double-quotes\n",
    "            # then split on semi-colon\n",
    "            # ['gene_id ENSG00000279493', 'gene_version 1', 'gene_name FP565260.4']\n",
    "            attribute = column[ATTRIBUTE].replace('; ', ';').replace('\"', '').split(';')\n",
    "\n",
    "            for item in attribute:\n",
    "                #print(item)\n",
    "                name, value = item.split(' ')\n",
    "                if name == 'gene_id':\n",
    "                    gene_id = value\n",
    "                if name == 'gene_name':\n",
    "                    gene_name = value\n",
    "                if name == 'gene_biotype':\n",
    "                    gene_biotype = value\n",
    "                    \n",
    "            genes[gene_name] = {'gene_id': gene_id,\n",
    "                                'chromsome': int(column[SEQNAME]),\n",
    "                                'start': int(column[START]),\n",
    "                                'end': int(column[END]),\n",
    "                                'biotype': gene_biotype\n",
    "                                }\n",
    "\n",
    "            if gene_name == 'GATD3B':\n",
    "                print(genes['GATD3B'])"
   ]
  },
  {
   "cell_type": "code",
   "execution_count": 37,
   "metadata": {},
   "outputs": [
    {
     "name": "stdout",
     "output_type": "stream",
     "text": [
      "{'FP565260.4': {'gene_id': 'ENSG00000279493', 'chromsome': 21, 'start': 5011799, 'end': 5017145, 'biotype': 'protein_coding'}, 'FP565260.3': {'gene_id': 'ENSG00000277117', 'chromsome': 21, 'start': 5022493, 'end': 5040666, 'biotype': 'protein_coding'}, 'FP565260.5': {'gene_id': 'ENSG00000279687', 'chromsome': 21, 'start': 5073458, 'end': 5087867, 'biotype': 'lncRNA'}, 'GATD3B': {'gene_id': 'ENSG00000280071', 'chromsome': 21, 'start': 5079294, 'end': 5128413, 'biotype': 'protein_coding'}, 'FP565260.2': {'gene_id': 'ENSG00000276612', 'chromsome': 21, 'start': 5116343, 'end': 5133805, 'biotype': 'protein_coding'}, 'FP565260.1': {'gene_id': 'ENSG00000275464', 'chromsome': 21, 'start': 5130871, 'end': 5154658, 'biotype': 'protein_coding'}, 'FP565260.6': {'gene_id': 'ENSG00000280433', 'chromsome': 21, 'start': 5155499, 'end': 5165472, 'biotype': 'protein_coding'}, 'AC079801.1': {'gene_id': 'ENSG00000279669', 'chromsome': 21, 'start': 5232668, 'end': 5243833, 'biotype': 'lncRNA'}, 'LINC01670': {'gene_id': 'ENSG00000279094', 'chromsome': 21, 'start': 5499151, 'end': 5502542, 'biotype': 'lncRNA'}, 'CU633967.1': {'gene_id': 'ENSG00000274333', 'chromsome': 21, 'start': 5553637, 'end': 5614880, 'biotype': 'lncRNA'}, 'Y_RNA': {'gene_id': 'ENSG00000276902', 'chromsome': 21, 'start': 6365955, 'end': 6366055, 'biotype': 'misc_RNA'}, 'FP236315.2': {'gene_id': 'ENSG00000279186', 'chromsome': 21, 'start': 5703182, 'end': 5705637, 'biotype': 'TEC'}, 'FP236315.3': {'gene_id': 'ENSG00000279784', 'chromsome': 21, 'start': 5705345, 'end': 5707160, 'biotype': 'lncRNA'}, 'FP236315.1': {'gene_id': 'ENSG00000279064', 'chromsome': 21, 'start': 5707004, 'end': 5709456, 'biotype': 'lncRNA'}, 'CU639417.1': {'gene_id': 'ENSG00000274559', 'chromsome': 21, 'start': 5972924, 'end': 5973383, 'biotype': 'protein_coding'}, 'CU639417.3': {'gene_id': 'ENSG00000280013', 'chromsome': 21, 'start': 6008604, 'end': 6008810, 'biotype': 'processed_pseudogene'}, 'CU639417.2': {'gene_id': 'ENSG00000279769', 'chromsome': 21, 'start': 6034690, 'end': 6036093, 'biotype': 'TEC'}, 'LINC01669': {'gene_id': 'ENSG00000280191', 'chromsome': 21, 'start': 6060340, 'end': 6076305, 'biotype': 'lncRNA'}, 'CU639417.4': {'gene_id': 'ENSG00000280095', 'chromsome': 21, 'start': 6081193, 'end': 6082585, 'biotype': 'lncRNA'}, 'CU639417.5': {'gene_id': 'ENSG00000280179', 'chromsome': 21, 'start': 6084364, 'end': 6091407, 'biotype': 'lncRNA'}, 'SIK1B': {'gene_id': 'ENSG00000275993', 'chromsome': 21, 'start': 6111131, 'end': 6123778, 'biotype': 'protein_coding'}, 'CU633906.5': {'gene_id': 'ENSG00000288187', 'chromsome': 21, 'start': 6215291, 'end': 6217681, 'biotype': 'lncRNA'}, 'CU633906.1': {'gene_id': 'ENSG00000275496', 'chromsome': 21, 'start': 6228966, 'end': 6267317, 'biotype': 'lncRNA'}, 'CU633906.4': {'gene_id': 'ENSG00000280019', 'chromsome': 21, 'start': 6272135, 'end': 6276532, 'biotype': 'unprocessed_pseudogene'}, 'CU633906.3': {'gene_id': 'ENSG00000279709', 'chromsome': 21, 'start': 6309161, 'end': 6312948, 'biotype': 'unprocessed_pseudogene'}, 'CU633906.2': {'gene_id': 'ENSG00000278903', 'chromsome': 21, 'start': 6318434, 'end': 6360415, 'biotype': 'lncRNA'}, 'CBSL': {'gene_id': 'ENSG00000274276', 'chromsome': 21, 'start': 6444869, 'end': 6468040, 'biotype': 'protein_coding'}, 'U2AF1L5': {'gene_id': 'ENSG00000275895', 'chromsome': 21, 'start': 6484623, 'end': 6499261, 'biotype': 'protein_coding'}}\n"
     ]
    }
   ],
   "source": [
    "print(genes)"
   ]
  },
  {
   "cell_type": "code",
   "execution_count": 38,
   "metadata": {},
   "outputs": [
    {
     "name": "stdout",
     "output_type": "stream",
     "text": [
      "FP565260.4\n",
      "FP565260.3\n",
      "FP565260.5\n",
      "GATD3B\n",
      "FP565260.2\n",
      "FP565260.1\n",
      "FP565260.6\n",
      "AC079801.1\n",
      "LINC01670\n",
      "CU633967.1\n",
      "Y_RNA\n",
      "FP236315.2\n",
      "FP236315.3\n",
      "FP236315.1\n",
      "CU639417.1\n",
      "CU639417.3\n",
      "CU639417.2\n",
      "LINC01669\n",
      "CU639417.4\n",
      "CU639417.5\n",
      "SIK1B\n",
      "CU633906.5\n",
      "CU633906.1\n",
      "CU633906.4\n",
      "CU633906.3\n",
      "CU633906.2\n",
      "CBSL\n",
      "U2AF1L5\n"
     ]
    }
   ],
   "source": [
    "for key in genes:\n",
    "    print(key)"
   ]
  },
  {
   "cell_type": "code",
   "execution_count": 39,
   "metadata": {},
   "outputs": [
    {
     "name": "stdout",
     "output_type": "stream",
     "text": [
      "GATD3B\n",
      "AC079801.1\n",
      "LINC01670\n",
      "Y_RNA\n",
      "LINC01669\n",
      "SIK1B\n",
      "CBSL\n",
      "U2AF1L5\n"
     ]
    }
   ],
   "source": [
    "for key in genes:\n",
    "    if not key.startswith('FP') and not key.startswith('CU'):\n",
    "        print(key)"
   ]
  },
  {
   "cell_type": "code",
   "execution_count": 40,
   "metadata": {},
   "outputs": [],
   "source": [
    "# Biotypes\n",
    "#\n",
    "# TEC (To be Experimentally Confirmed)\n",
    "# Protein coding\n",
    "# Pseudogene\n",
    "# ncRNA"
   ]
  },
  {
   "cell_type": "code",
   "execution_count": 41,
   "metadata": {},
   "outputs": [
    {
     "name": "stdout",
     "output_type": "stream",
     "text": [
      "FP565260.5 {'gene_id': 'ENSG00000279687', 'chromsome': 21, 'start': 5073458, 'end': 5087867, 'biotype': 'lncRNA'}\n",
      "AC079801.1 {'gene_id': 'ENSG00000279669', 'chromsome': 21, 'start': 5232668, 'end': 5243833, 'biotype': 'lncRNA'}\n",
      "LINC01670 {'gene_id': 'ENSG00000279094', 'chromsome': 21, 'start': 5499151, 'end': 5502542, 'biotype': 'lncRNA'}\n",
      "CU633967.1 {'gene_id': 'ENSG00000274333', 'chromsome': 21, 'start': 5553637, 'end': 5614880, 'biotype': 'lncRNA'}\n",
      "Y_RNA {'gene_id': 'ENSG00000276902', 'chromsome': 21, 'start': 6365955, 'end': 6366055, 'biotype': 'misc_RNA'}\n",
      "FP236315.2 {'gene_id': 'ENSG00000279186', 'chromsome': 21, 'start': 5703182, 'end': 5705637, 'biotype': 'TEC'}\n",
      "FP236315.3 {'gene_id': 'ENSG00000279784', 'chromsome': 21, 'start': 5705345, 'end': 5707160, 'biotype': 'lncRNA'}\n",
      "FP236315.1 {'gene_id': 'ENSG00000279064', 'chromsome': 21, 'start': 5707004, 'end': 5709456, 'biotype': 'lncRNA'}\n",
      "CU639417.3 {'gene_id': 'ENSG00000280013', 'chromsome': 21, 'start': 6008604, 'end': 6008810, 'biotype': 'processed_pseudogene'}\n",
      "CU639417.2 {'gene_id': 'ENSG00000279769', 'chromsome': 21, 'start': 6034690, 'end': 6036093, 'biotype': 'TEC'}\n",
      "LINC01669 {'gene_id': 'ENSG00000280191', 'chromsome': 21, 'start': 6060340, 'end': 6076305, 'biotype': 'lncRNA'}\n",
      "CU639417.4 {'gene_id': 'ENSG00000280095', 'chromsome': 21, 'start': 6081193, 'end': 6082585, 'biotype': 'lncRNA'}\n",
      "CU639417.5 {'gene_id': 'ENSG00000280179', 'chromsome': 21, 'start': 6084364, 'end': 6091407, 'biotype': 'lncRNA'}\n",
      "CU633906.5 {'gene_id': 'ENSG00000288187', 'chromsome': 21, 'start': 6215291, 'end': 6217681, 'biotype': 'lncRNA'}\n",
      "CU633906.1 {'gene_id': 'ENSG00000275496', 'chromsome': 21, 'start': 6228966, 'end': 6267317, 'biotype': 'lncRNA'}\n",
      "CU633906.4 {'gene_id': 'ENSG00000280019', 'chromsome': 21, 'start': 6272135, 'end': 6276532, 'biotype': 'unprocessed_pseudogene'}\n",
      "CU633906.3 {'gene_id': 'ENSG00000279709', 'chromsome': 21, 'start': 6309161, 'end': 6312948, 'biotype': 'unprocessed_pseudogene'}\n",
      "CU633906.2 {'gene_id': 'ENSG00000278903', 'chromsome': 21, 'start': 6318434, 'end': 6360415, 'biotype': 'lncRNA'}\n"
     ]
    }
   ],
   "source": [
    "for key in genes:\n",
    "    if genes[key] ['biotype'] != 'protein_coding':\n",
    "        print(key, genes[key])"
   ]
  },
  {
   "cell_type": "code",
   "execution_count": null,
   "metadata": {},
   "outputs": [],
   "source": []
  },
  {
   "cell_type": "markdown",
   "metadata": {},
   "source": [
    "# defining functions"
   ]
  },
  {
   "cell_type": "code",
   "execution_count": 45,
   "metadata": {},
   "outputs": [],
   "source": [
    "def f_to_c(fahrenheit):\n",
    "    celsius = (float(fahrenheit) - 32) * 5 / 9\n",
    "    return round(celsius, 2)"
   ]
  },
  {
   "cell_type": "code",
   "execution_count": 47,
   "metadata": {},
   "outputs": [
    {
     "data": {
      "text/plain": [
       "43.33"
      ]
     },
     "execution_count": 47,
     "metadata": {},
     "output_type": "execute_result"
    }
   ],
   "source": [
    "ftemp = 110\n",
    "ctemp = f_to_c(ftemp)\n",
    "ctemp"
   ]
  },
  {
   "cell_type": "code",
   "execution_count": 48,
   "metadata": {},
   "outputs": [
    {
     "name": "stdout",
     "output_type": "stream",
     "text": [
      "C = 43.33\n"
     ]
    }
   ],
   "source": [
    "print('C =', f_to_c(ftemp))"
   ]
  },
  {
   "cell_type": "code",
   "execution_count": null,
   "metadata": {},
   "outputs": [],
   "source": []
  },
  {
   "cell_type": "code",
   "execution_count": 49,
   "metadata": {},
   "outputs": [],
   "source": [
    "def roman(string):\n",
    "    '''\n",
    "    Returns the integer value of a string in Roman numerals\n",
    "    ''' \n",
    "    dictionary = {'M':1000, 'D':500, 'C':100, 'L':50, 'X':10, 'V':5, 'I':1}\n",
    "    arabic = []\n",
    "    # list that holds the Roman numerals as Arabic ciphers\n",
    "    for letter in string.upper():\n",
    "        if letter in dictionary:\n",
    "            arabic.append(dictionary[letter])\n",
    "\n",
    "    for i in range(len(arabic) - 1):\n",
    "        if arabic[i] < arabic[i+1]:\n",
    "            arabic[i] *= -1 # (5,10) -> (-5,10)\n",
    "    print(arabic)\n",
    "    return sum(arabic)"
   ]
  },
  {
   "cell_type": "code",
   "execution_count": 52,
   "metadata": {},
   "outputs": [
    {
     "name": "stdout",
     "output_type": "stream",
     "text": [
      "Help on function roman in module __main__:\n",
      "\n",
      "roman(string)\n",
      "    Returns the integer value of a string in Roman numerals\n",
      "\n"
     ]
    }
   ],
   "source": [
    "help(roman)"
   ]
  },
  {
   "cell_type": "code",
   "execution_count": 51,
   "metadata": {},
   "outputs": [
    {
     "name": "stdout",
     "output_type": "stream",
     "text": [
      "Tell me a number [roman numerals]: MCMXCIII\n",
      "[1000, -100, 1000, -10, 100, 1, 1, 1]\n",
      "1993\n",
      "Tell me a number [roman numerals]: MCM\n",
      "[1000, -100, 1000]\n",
      "1900\n"
     ]
    },
    {
     "ename": "KeyboardInterrupt",
     "evalue": "",
     "output_type": "error",
     "traceback": [
      "\u001b[0;31m---------------------------------------------------------------------------\u001b[0m",
      "\u001b[0;31mKeyboardInterrupt\u001b[0m                         Traceback (most recent call last)",
      "\u001b[0;32m~/Applications/anaconda3/lib/python3.7/site-packages/ipykernel/kernelbase.py\u001b[0m in \u001b[0;36m_input_request\u001b[0;34m(self, prompt, ident, parent, password)\u001b[0m\n\u001b[1;32m    884\u001b[0m             \u001b[0;32mtry\u001b[0m\u001b[0;34m:\u001b[0m\u001b[0;34m\u001b[0m\u001b[0;34m\u001b[0m\u001b[0m\n\u001b[0;32m--> 885\u001b[0;31m                 \u001b[0mident\u001b[0m\u001b[0;34m,\u001b[0m \u001b[0mreply\u001b[0m \u001b[0;34m=\u001b[0m \u001b[0mself\u001b[0m\u001b[0;34m.\u001b[0m\u001b[0msession\u001b[0m\u001b[0;34m.\u001b[0m\u001b[0mrecv\u001b[0m\u001b[0;34m(\u001b[0m\u001b[0mself\u001b[0m\u001b[0;34m.\u001b[0m\u001b[0mstdin_socket\u001b[0m\u001b[0;34m,\u001b[0m \u001b[0;36m0\u001b[0m\u001b[0;34m)\u001b[0m\u001b[0;34m\u001b[0m\u001b[0;34m\u001b[0m\u001b[0m\n\u001b[0m\u001b[1;32m    886\u001b[0m             \u001b[0;32mexcept\u001b[0m \u001b[0mException\u001b[0m\u001b[0;34m:\u001b[0m\u001b[0;34m\u001b[0m\u001b[0;34m\u001b[0m\u001b[0m\n",
      "\u001b[0;32m~/Applications/anaconda3/lib/python3.7/site-packages/jupyter_client/session.py\u001b[0m in \u001b[0;36mrecv\u001b[0;34m(self, socket, mode, content, copy)\u001b[0m\n\u001b[1;32m    802\u001b[0m         \u001b[0;32mtry\u001b[0m\u001b[0;34m:\u001b[0m\u001b[0;34m\u001b[0m\u001b[0;34m\u001b[0m\u001b[0m\n\u001b[0;32m--> 803\u001b[0;31m             \u001b[0mmsg_list\u001b[0m \u001b[0;34m=\u001b[0m \u001b[0msocket\u001b[0m\u001b[0;34m.\u001b[0m\u001b[0mrecv_multipart\u001b[0m\u001b[0;34m(\u001b[0m\u001b[0mmode\u001b[0m\u001b[0;34m,\u001b[0m \u001b[0mcopy\u001b[0m\u001b[0;34m=\u001b[0m\u001b[0mcopy\u001b[0m\u001b[0;34m)\u001b[0m\u001b[0;34m\u001b[0m\u001b[0;34m\u001b[0m\u001b[0m\n\u001b[0m\u001b[1;32m    804\u001b[0m         \u001b[0;32mexcept\u001b[0m \u001b[0mzmq\u001b[0m\u001b[0;34m.\u001b[0m\u001b[0mZMQError\u001b[0m \u001b[0;32mas\u001b[0m \u001b[0me\u001b[0m\u001b[0;34m:\u001b[0m\u001b[0;34m\u001b[0m\u001b[0;34m\u001b[0m\u001b[0m\n",
      "\u001b[0;32m~/Applications/anaconda3/lib/python3.7/site-packages/zmq/sugar/socket.py\u001b[0m in \u001b[0;36mrecv_multipart\u001b[0;34m(self, flags, copy, track)\u001b[0m\n\u001b[1;32m    469\u001b[0m         \"\"\"\n\u001b[0;32m--> 470\u001b[0;31m         \u001b[0mparts\u001b[0m \u001b[0;34m=\u001b[0m \u001b[0;34m[\u001b[0m\u001b[0mself\u001b[0m\u001b[0;34m.\u001b[0m\u001b[0mrecv\u001b[0m\u001b[0;34m(\u001b[0m\u001b[0mflags\u001b[0m\u001b[0;34m,\u001b[0m \u001b[0mcopy\u001b[0m\u001b[0;34m=\u001b[0m\u001b[0mcopy\u001b[0m\u001b[0;34m,\u001b[0m \u001b[0mtrack\u001b[0m\u001b[0;34m=\u001b[0m\u001b[0mtrack\u001b[0m\u001b[0;34m)\u001b[0m\u001b[0;34m]\u001b[0m\u001b[0;34m\u001b[0m\u001b[0;34m\u001b[0m\u001b[0m\n\u001b[0m\u001b[1;32m    471\u001b[0m         \u001b[0;31m# have first part already, only loop while more to receive\u001b[0m\u001b[0;34m\u001b[0m\u001b[0;34m\u001b[0m\u001b[0;34m\u001b[0m\u001b[0m\n",
      "\u001b[0;32mzmq/backend/cython/socket.pyx\u001b[0m in \u001b[0;36mzmq.backend.cython.socket.Socket.recv\u001b[0;34m()\u001b[0m\n",
      "\u001b[0;32mzmq/backend/cython/socket.pyx\u001b[0m in \u001b[0;36mzmq.backend.cython.socket.Socket.recv\u001b[0;34m()\u001b[0m\n",
      "\u001b[0;32mzmq/backend/cython/socket.pyx\u001b[0m in \u001b[0;36mzmq.backend.cython.socket._recv_copy\u001b[0;34m()\u001b[0m\n",
      "\u001b[0;32m~/Applications/anaconda3/lib/python3.7/site-packages/zmq/backend/cython/checkrc.pxd\u001b[0m in \u001b[0;36mzmq.backend.cython.checkrc._check_rc\u001b[0;34m()\u001b[0m\n",
      "\u001b[0;31mKeyboardInterrupt\u001b[0m: ",
      "\nDuring handling of the above exception, another exception occurred:\n",
      "\u001b[0;31mKeyboardInterrupt\u001b[0m                         Traceback (most recent call last)",
      "\u001b[0;32m<ipython-input-51-c39a4b6d02bf>\u001b[0m in \u001b[0;36m<module>\u001b[0;34m\u001b[0m\n\u001b[1;32m      1\u001b[0m \u001b[0;32mwhile\u001b[0m \u001b[0;34m(\u001b[0m\u001b[0;32mTrue\u001b[0m\u001b[0;34m)\u001b[0m\u001b[0;34m:\u001b[0m\u001b[0;34m\u001b[0m\u001b[0;34m\u001b[0m\u001b[0m\n\u001b[0;32m----> 2\u001b[0;31m     \u001b[0mprint\u001b[0m\u001b[0;34m(\u001b[0m\u001b[0mroman\u001b[0m\u001b[0;34m(\u001b[0m\u001b[0minput\u001b[0m\u001b[0;34m(\u001b[0m\u001b[0;34m'Tell me a number [roman numerals]: '\u001b[0m\u001b[0;34m)\u001b[0m\u001b[0;34m)\u001b[0m\u001b[0;34m)\u001b[0m\u001b[0;34m\u001b[0m\u001b[0;34m\u001b[0m\u001b[0m\n\u001b[0m\u001b[1;32m      3\u001b[0m     \u001b[0marabic\u001b[0m \u001b[0;34m=\u001b[0m \u001b[0;34m[\u001b[0m\u001b[0;34m]\u001b[0m\u001b[0;34m\u001b[0m\u001b[0;34m\u001b[0m\u001b[0m\n",
      "\u001b[0;32m~/Applications/anaconda3/lib/python3.7/site-packages/ipykernel/kernelbase.py\u001b[0m in \u001b[0;36mraw_input\u001b[0;34m(self, prompt)\u001b[0m\n\u001b[1;32m    858\u001b[0m             \u001b[0mself\u001b[0m\u001b[0;34m.\u001b[0m\u001b[0m_parent_ident\u001b[0m\u001b[0;34m,\u001b[0m\u001b[0;34m\u001b[0m\u001b[0;34m\u001b[0m\u001b[0m\n\u001b[1;32m    859\u001b[0m             \u001b[0mself\u001b[0m\u001b[0;34m.\u001b[0m\u001b[0m_parent_header\u001b[0m\u001b[0;34m,\u001b[0m\u001b[0;34m\u001b[0m\u001b[0;34m\u001b[0m\u001b[0m\n\u001b[0;32m--> 860\u001b[0;31m             \u001b[0mpassword\u001b[0m\u001b[0;34m=\u001b[0m\u001b[0;32mFalse\u001b[0m\u001b[0;34m,\u001b[0m\u001b[0;34m\u001b[0m\u001b[0;34m\u001b[0m\u001b[0m\n\u001b[0m\u001b[1;32m    861\u001b[0m         )\n\u001b[1;32m    862\u001b[0m \u001b[0;34m\u001b[0m\u001b[0m\n",
      "\u001b[0;32m~/Applications/anaconda3/lib/python3.7/site-packages/ipykernel/kernelbase.py\u001b[0m in \u001b[0;36m_input_request\u001b[0;34m(self, prompt, ident, parent, password)\u001b[0m\n\u001b[1;32m    888\u001b[0m             \u001b[0;32mexcept\u001b[0m \u001b[0mKeyboardInterrupt\u001b[0m\u001b[0;34m:\u001b[0m\u001b[0;34m\u001b[0m\u001b[0;34m\u001b[0m\u001b[0m\n\u001b[1;32m    889\u001b[0m                 \u001b[0;31m# re-raise KeyboardInterrupt, to truncate traceback\u001b[0m\u001b[0;34m\u001b[0m\u001b[0;34m\u001b[0m\u001b[0;34m\u001b[0m\u001b[0m\n\u001b[0;32m--> 890\u001b[0;31m                 \u001b[0;32mraise\u001b[0m \u001b[0mKeyboardInterrupt\u001b[0m\u001b[0;34m\u001b[0m\u001b[0;34m\u001b[0m\u001b[0m\n\u001b[0m\u001b[1;32m    891\u001b[0m             \u001b[0;32melse\u001b[0m\u001b[0;34m:\u001b[0m\u001b[0;34m\u001b[0m\u001b[0;34m\u001b[0m\u001b[0m\n\u001b[1;32m    892\u001b[0m                 \u001b[0;32mbreak\u001b[0m\u001b[0;34m\u001b[0m\u001b[0;34m\u001b[0m\u001b[0m\n",
      "\u001b[0;31mKeyboardInterrupt\u001b[0m: "
     ]
    }
   ],
   "source": [
    "while (True):\n",
    "    print(roman(input('Tell me a number [roman numerals]: ')))\n",
    "    arabic = []"
   ]
  },
  {
   "cell_type": "code",
   "execution_count": null,
   "metadata": {},
   "outputs": [],
   "source": []
  },
  {
   "cell_type": "code",
   "execution_count": 53,
   "metadata": {},
   "outputs": [],
   "source": [
    "def seq_list_from_fastq_file(filename):\n",
    "    '''\n",
    "    Parse fastq file returning two lists, one of all sequences\n",
    "    the other of the quality strings\n",
    "    '''\n",
    "    seq_list = []\n",
    "    quality_list = []\n",
    "    \n",
    "    with open(filename) as FASTQ_INPUT:\n",
    "        line_cnt = 0\n",
    "        for line in FASTQ_INPUT:\n",
    "            line_cnt += 1\n",
    "            if line_cnt == 2:\n",
    "                seq_list.append(line.rstrip('\\n'))\n",
    "            if line_cnt % 4 == 0:\n",
    "                quality_list.append(line.rstrip('\\n'))\n",
    "                line_cnt = 0\n",
    "\n",
    "    return seq_list, quality_list"
   ]
  },
  {
   "cell_type": "code",
   "execution_count": 54,
   "metadata": {},
   "outputs": [],
   "source": [
    "# Use this function to return two lists:\n",
    "#\n",
    "# sequences, qualities = seq_list_from_fastq_file(fastq_filename)"
   ]
  },
  {
   "cell_type": "code",
   "execution_count": 55,
   "metadata": {},
   "outputs": [],
   "source": [
    "DNA_codon_table = {\n",
    "#                        Second Base\n",
    "#        T             C             A             G\n",
    "# T\n",
    "    'TTT': 'Phe', 'TCT': 'Ser', 'TAT': 'Tyr', 'TGT': 'Cys',     # TxT\n",
    "    'TTC': 'Phe', 'TCC': 'Ser', 'TAC': 'Tyr', 'TGC': 'Cys',     # TxC\n",
    "    'TTA': 'Leu', 'TCA': 'Ser', 'TAA': '---', 'TGA': '---',     # TxA\n",
    "    'TTG': 'Leu', 'TCG': 'Ser', 'TAG': '---', 'TGG': 'Trp',     # TxG\n",
    "# C\n",
    "    'CTT': 'Leu', 'CCT': 'Pro', 'CAT': 'His', 'CGT': 'Arg',     # CxT\n",
    "    'CTC': 'Leu', 'CCC': 'Pro', 'CAC': 'His', 'CGC': 'Arg',     # CxC\n",
    "    'CTA': 'Leu', 'CCA': 'Pro', 'CAA': 'Gln', 'CGA': 'Arg',     # CxA\n",
    "    'CTG': 'Leu', 'CCG': 'Pro', 'CAG': 'Gln', 'CGG': 'Arg',     # CxG\n",
    "# A\n",
    "    'ATT': 'Ile', 'ACT': 'Thr', 'AAT': 'Asn', 'AGT': 'Ser',     # AxT\n",
    "    'ATC': 'Ile', 'ACC': 'Thr', 'AAC': 'Asn', 'AGC': 'Ser',     # AxC\n",
    "    'ATA': 'Ile', 'ACA': 'Thr', 'AAA': 'Lys', 'AGA': 'Arg',     # AxA\n",
    "    'ATG': 'Met', 'ACG': 'Thr', 'AAG': 'Lys', 'AGG': 'Arg',     # AxG\n",
    "# G\n",
    "    'GTT': 'Val', 'GCT': 'Ala', 'GAT': 'Asp', 'GGT': 'Gly',     # GxT\n",
    "    'GTC': 'Val', 'GCC': 'Ala', 'GAC': 'Asp', 'GGC': 'Gly',     # GxC\n",
    "    'GTA': 'Val', 'GCA': 'Ala', 'GAA': 'Glu', 'GGA': 'Gly',     # GxA\n",
    "    'GTG': 'Val', 'GCG': 'Ala', 'GAG': 'Glu', 'GGG': 'Gly'      # GxG\n",
    "}\n",
    "\n",
    "dna_seq = 'ATGATATGGAGGAGGTAGCCGCGCGCCATGCGCGCTATATTTTGGTAT'"
   ]
  },
  {
   "cell_type": "code",
   "execution_count": 56,
   "metadata": {},
   "outputs": [],
   "source": [
    "def translate_DNA_codon(codon):\n",
    "    return DNA_codon_table[codon]"
   ]
  },
  {
   "cell_type": "code",
   "execution_count": 59,
   "metadata": {},
   "outputs": [],
   "source": [
    "def translate(seq):\n",
    "    '''Return the animo acid sequence corresponding to the DNA\n",
    "    sequence seq'''\n",
    "    translation = ''\n",
    "    for n in range(0, len(seq) - (len(seq) % 3), 3): # every third base\n",
    "        translation += translate_DNA_codon(seq[n:n+3])\n",
    "    return translation"
   ]
  },
  {
   "cell_type": "code",
   "execution_count": 60,
   "metadata": {},
   "outputs": [
    {
     "data": {
      "text/plain": [
       "'MetIleTrpArgArg---ProArgAlaMetArgAlaIlePheTrpTyr'"
      ]
     },
     "execution_count": 60,
     "metadata": {},
     "output_type": "execute_result"
    }
   ],
   "source": [
    "translate(dna_seq)"
   ]
  },
  {
   "cell_type": "code",
   "execution_count": 61,
   "metadata": {},
   "outputs": [],
   "source": [
    "def translate_in_frame(seq, framenum):\n",
    "    '''Return the translation of seq in framenum 1, 2, or 3'''\n",
    "    return translate(seq[framenum-1:])"
   ]
  },
  {
   "cell_type": "code",
   "execution_count": 63,
   "metadata": {},
   "outputs": [
    {
     "data": {
      "text/plain": [
       "'---TyrGlyGlyGlySerArgAlaProCysAlaLeuTyrPheGly'"
      ]
     },
     "execution_count": 63,
     "metadata": {},
     "output_type": "execute_result"
    }
   ],
   "source": [
    "translate_in_frame(dna_seq, 2)"
   ]
  },
  {
   "cell_type": "code",
   "execution_count": 64,
   "metadata": {},
   "outputs": [],
   "source": [
    "def print_translation_in_frame(seq, framenum, prefix):\n",
    "    '''Print the translation of seq in framenum preceded by prefix'''\n",
    "    print(prefix,\n",
    "          framenum,\n",
    "          ' ' * framenum,\n",
    "          translate_in_frame(seq, framenum),\n",
    "          sep='')"
   ]
  },
  {
   "cell_type": "code",
   "execution_count": 66,
   "metadata": {},
   "outputs": [
    {
     "name": "stdout",
     "output_type": "stream",
     "text": [
      "Help on function print_translation_in_frame in module __main__:\n",
      "\n",
      "print_translation_in_frame(seq, framenum, prefix)\n",
      "    Print the translation of seq in framenum preceded by prefix\n",
      "\n"
     ]
    }
   ],
   "source": [
    "help(print_translation_in_frame)"
   ]
  },
  {
   "cell_type": "code",
   "execution_count": 68,
   "metadata": {},
   "outputs": [
    {
     "name": "stdout",
     "output_type": "stream",
     "text": [
      "Frame 2  ---TyrGlyGlyGlySerArgAlaProCysAlaLeuTyrPheGly\n"
     ]
    }
   ],
   "source": [
    "print_translation_in_frame(dna_seq, 2, 'Frame ')"
   ]
  },
  {
   "cell_type": "code",
   "execution_count": 69,
   "metadata": {},
   "outputs": [],
   "source": [
    "def print_translations(seq, prefix = ''):\n",
    "    '''Print the translations of seq in all three reading frames,\n",
    "    each preceded by prefix'''\n",
    "    # print DNA sequence, indented to line up after prefix is added\n",
    "    # to translation lines\n",
    "    print('\\n', ' ' * (len(prefix) + 2), seq, sep='')\n",
    "    for framenum in range(1,4):\n",
    "        print_translation_in_frame(seq, framenum, prefix)"
   ]
  },
  {
   "cell_type": "code",
   "execution_count": 71,
   "metadata": {},
   "outputs": [
    {
     "name": "stdout",
     "output_type": "stream",
     "text": [
      "\n",
      "  ATGATATGGAGGAGGTAGCCGCGCGCCATGCGCGCTATATTTTGGTAT\n",
      "1 MetIleTrpArgArg---ProArgAlaMetArgAlaIlePheTrpTyr\n",
      "2  ---TyrGlyGlyGlySerArgAlaProCysAlaLeuTyrPheGly\n",
      "3   AspMetGluGluValAlaAlaArgHisAlaArgTyrIleLeuVal\n"
     ]
    }
   ],
   "source": [
    "print_translations(dna_seq)"
   ]
  },
  {
   "cell_type": "code",
   "execution_count": 72,
   "metadata": {},
   "outputs": [],
   "source": [
    "def translate_with_open_reading_frames(seq, framenum):\n",
    "    '''Return the translation of seq in framenum (1, 2, or 3), with\n",
    "    ---'s when not within an open reading frame; assume the read is\n",
    "    not in an open frame when at the beginning of seq'''\n",
    "    open = False\n",
    "    translation = \"\"\n",
    "    seqlength = len(seq) - (framenum - 1)\n",
    "    for n in range(framenum-1, seqlength - (seqlength % 3), 3):\n",
    "        codon = translate_DNA_codon(seq[n:n+3])\n",
    "        open = (open or codon == \"Met\") and not (codon == \"---\")\n",
    "        translation += codon if open else \"---\"\n",
    "    return translation"
   ]
  },
  {
   "cell_type": "code",
   "execution_count": 133,
   "metadata": {},
   "outputs": [
    {
     "data": {
      "text/plain": [
       "'MetIleTrpArgArg------------MetArgAlaIlePheTrpTyr'"
      ]
     },
     "execution_count": 133,
     "metadata": {},
     "output_type": "execute_result"
    }
   ],
   "source": [
    "trans_dna = translate_with_open_reading_frames(dna_seq, 1)\n",
    "trans_dna"
   ]
  },
  {
   "cell_type": "code",
   "execution_count": 74,
   "metadata": {},
   "outputs": [],
   "source": [
    "def print_translation_with_open_reading_frame(seq, framenum, prefix):\n",
    "    print(prefix,\n",
    "          framenum,\n",
    "          ' ' * framenum,\n",
    "          translate_with_open_reading_frames(seq, framenum),\n",
    "          sep='')"
   ]
  },
  {
   "cell_type": "code",
   "execution_count": 84,
   "metadata": {},
   "outputs": [
    {
     "name": "stdout",
     "output_type": "stream",
     "text": [
      "Seq 1 MetIleTrpArgArg------------MetArgAlaIlePheTrpTyr\n"
     ]
    }
   ],
   "source": [
    "print_translation_with_open_reading_frame(dna_seq, 1, 'Seq ')"
   ]
  },
  {
   "cell_type": "code",
   "execution_count": 76,
   "metadata": {},
   "outputs": [],
   "source": [
    "def print_translations_with_open_reading_frames(seq, prefix=''):\n",
    "    print('\\n', ' ' * (len(prefix) + 2), seq, sep='')\n",
    "    for frame in range(1,4):\n",
    "        print_translation_with_open_reading_frame(seq, frame, prefix)"
   ]
  },
  {
   "cell_type": "code",
   "execution_count": 86,
   "metadata": {},
   "outputs": [
    {
     "name": "stdout",
     "output_type": "stream",
     "text": [
      "\n",
      "  ATGATATGGAGGAGGTAGCCGCGCGCCATGCGCGCTATATTTTGGTAT\n",
      "1 MetIleTrpArgArg------------MetArgAlaIlePheTrpTyr\n",
      "2  ---------------------------------------------\n",
      "3   ---MetGluGluValAlaAlaArgHisAlaArgTyrIleLeuVal\n"
     ]
    }
   ],
   "source": [
    "print_translations_with_open_reading_frames(dna_seq)"
   ]
  },
  {
   "cell_type": "code",
   "execution_count": 78,
   "metadata": {},
   "outputs": [],
   "source": [
    "def print_translations_in_frames_in_both_directions(seq):\n",
    "    print_translations(seq, '5\\'->3\\' ORF ')\n",
    "    print_translations(seq[::-1], '3\\'->5\\' ORF ')"
   ]
  },
  {
   "cell_type": "code",
   "execution_count": 80,
   "metadata": {},
   "outputs": [
    {
     "name": "stdout",
     "output_type": "stream",
     "text": [
      "\n",
      "             ATGATATGGAGGAGGTAGCCGCGCGCCATGCGCGCTATATTTTGGTAT\n",
      "5'->3' ORF 1 MetIleTrpArgArg---ProArgAlaMetArgAlaIlePheTrpTyr\n",
      "5'->3' ORF 2  ---TyrGlyGlyGlySerArgAlaProCysAlaLeuTyrPheGly\n",
      "5'->3' ORF 3   AspMetGluGluValAlaAlaArgHisAlaArgTyrIleLeuVal\n",
      "\n",
      "             TATGGTTTTATATCGCGCGTACCGCGCGCCGATGGAGGAGGTATAGTA\n",
      "3'->5' ORF 1 TyrGlyPheIleSerArgValProArgAlaAspGlyGlyGlyIleVal\n",
      "3'->5' ORF 2  MetValLeuTyrArgAlaTyrArgAlaProMetGluGluVal---\n",
      "3'->5' ORF 3   TrpPheTyrIleAlaArgThrAlaArgArgTrpArgArgTyrSer\n"
     ]
    }
   ],
   "source": [
    "print_translations_in_frames_in_both_directions(dna_seq)"
   ]
  },
  {
   "cell_type": "code",
   "execution_count": 81,
   "metadata": {},
   "outputs": [],
   "source": [
    "def print_translations_with_open_reading_frames_in_both_directions(seq):\n",
    "    print_translations_with_open_reading_frames(seq, '5\\'->3\\' ORF ')\n",
    "    print_translations_with_open_reading_frames(seq[::-1], '3\\'->5\\' ORF ')"
   ]
  },
  {
   "cell_type": "code",
   "execution_count": 87,
   "metadata": {},
   "outputs": [
    {
     "name": "stdout",
     "output_type": "stream",
     "text": [
      "\n",
      "             ATGATATGGAGGAGGTAGCCGCGCGCCATGCGCGCTATATTTTGGTAT\n",
      "5'->3' ORF 1 MetIleTrpArgArg------------MetArgAlaIlePheTrpTyr\n",
      "5'->3' ORF 2  ---------------------------------------------\n",
      "5'->3' ORF 3   ---MetGluGluValAlaAlaArgHisAlaArgTyrIleLeuVal\n",
      "\n",
      "             TATGGTTTTATATCGCGCGTACCGCGCGCCGATGGAGGAGGTATAGTA\n",
      "3'->5' ORF 1 ------------------------------------------------\n",
      "3'->5' ORF 2  MetValLeuTyrArgAlaTyrArgAlaProMetGluGluVal---\n",
      "3'->5' ORF 3   ---------------------------------------------\n"
     ]
    }
   ],
   "source": [
    "print_translations_with_open_reading_frames_in_both_directions(dna_seq)"
   ]
  },
  {
   "cell_type": "code",
   "execution_count": null,
   "metadata": {},
   "outputs": [],
   "source": []
  },
  {
   "cell_type": "markdown",
   "metadata": {},
   "source": [
    "# map"
   ]
  },
  {
   "cell_type": "code",
   "execution_count": 88,
   "metadata": {},
   "outputs": [],
   "source": [
    "# starting list\n",
    "mylist = [1.2, 3.2, 5.4, 2.1, 0.8]"
   ]
  },
  {
   "cell_type": "code",
   "execution_count": 91,
   "metadata": {},
   "outputs": [
    {
     "name": "stdout",
     "output_type": "stream",
     "text": [
      "[1, 3, 5, 2, 1]\n"
     ]
    }
   ],
   "source": [
    "# round all values in list to nearest int\n",
    "print(list(map(round, mylist)))"
   ]
  },
  {
   "cell_type": "code",
   "execution_count": 93,
   "metadata": {},
   "outputs": [
    {
     "data": {
      "text/plain": [
       "<map at 0x103bbf5c0>"
      ]
     },
     "execution_count": 93,
     "metadata": {},
     "output_type": "execute_result"
    }
   ],
   "source": [
    "map(round, mylist)"
   ]
  },
  {
   "cell_type": "code",
   "execution_count": 95,
   "metadata": {},
   "outputs": [],
   "source": [
    "# define function to square values\n",
    "def sqr(x):\n",
    "    return round(pow(x,2),3)"
   ]
  },
  {
   "cell_type": "code",
   "execution_count": 96,
   "metadata": {},
   "outputs": [
    {
     "name": "stdout",
     "output_type": "stream",
     "text": [
      "[1.44, 10.24, 29.16, 4.41, 0.64]\n"
     ]
    }
   ],
   "source": [
    "# square each value of list\n",
    "print(list(map(sqr, mylist)))"
   ]
  },
  {
   "cell_type": "code",
   "execution_count": 97,
   "metadata": {},
   "outputs": [],
   "source": [
    "# mylist #2\n",
    "mylist2 = ['71', '72', '73', '74']"
   ]
  },
  {
   "cell_type": "code",
   "execution_count": 100,
   "metadata": {},
   "outputs": [
    {
     "name": "stdout",
     "output_type": "stream",
     "text": [
      "['G', 'H', 'I', 'J']\n"
     ]
    }
   ],
   "source": [
    "# convert each value in list to binary (base 2)\n",
    "print(list(map(chr, map(int, mylist2))))"
   ]
  },
  {
   "cell_type": "code",
   "execution_count": null,
   "metadata": {},
   "outputs": [],
   "source": []
  },
  {
   "cell_type": "markdown",
   "metadata": {},
   "source": [
    "# list comprehension"
   ]
  },
  {
   "cell_type": "markdown",
   "metadata": {},
   "source": [
    "<b>[</b> expression <b>for</b> item <b>in</b> list <b>if</b> conditional <b>]</b>"
   ]
  },
  {
   "cell_type": "markdown",
   "metadata": {},
   "source": [
    "<code>for item in list:\n",
    "    if conditional:\n",
    "        expression</code>"
   ]
  },
  {
   "cell_type": "code",
   "execution_count": 102,
   "metadata": {},
   "outputs": [
    {
     "name": "stdout",
     "output_type": "stream",
     "text": [
      "[115, 112, 97, 109]\n"
     ]
    }
   ],
   "source": [
    "mylist = []\n",
    "\n",
    "for x in 'spam':\n",
    "    mylist.append(ord(x))\n",
    "print(mylist)"
   ]
  },
  {
   "cell_type": "code",
   "execution_count": 105,
   "metadata": {},
   "outputs": [
    {
     "data": {
      "text/plain": [
       "[115, 112, 97, 109]"
      ]
     },
     "execution_count": 105,
     "metadata": {},
     "output_type": "execute_result"
    }
   ],
   "source": [
    "# convert a string into a list of ASCII values\n",
    "[ord(x) for x in 'spam']"
   ]
  },
  {
   "cell_type": "code",
   "execution_count": 106,
   "metadata": {},
   "outputs": [
    {
     "data": {
      "text/plain": [
       "{97, 109, 112, 115}"
      ]
     },
     "execution_count": 106,
     "metadata": {},
     "output_type": "execute_result"
    }
   ],
   "source": [
    "# convert a string into a set of ASCII values\n",
    "{ord(x) for x in 'spaam'}  # square to curly"
   ]
  },
  {
   "cell_type": "code",
   "execution_count": 109,
   "metadata": {},
   "outputs": [
    {
     "data": {
      "text/plain": [
       "{'s': 115, 'p': 112, 'a': 97, 'm': 109}"
      ]
     },
     "execution_count": 109,
     "metadata": {},
     "output_type": "execute_result"
    }
   ],
   "source": [
    "# convert a string into a dict of ASCII values\n",
    "{x: ord(x) for x in 'spaam'}"
   ]
  },
  {
   "cell_type": "code",
   "execution_count": 110,
   "metadata": {},
   "outputs": [
    {
     "name": "stdout",
     "output_type": "stream",
     "text": [
      "S = [0, 1, 4, 9, 16, 25, 36, 49, 64, 81]\n",
      "V = [1, 2, 4, 8, 16, 32, 64, 128, 256, 512, 1024, 2048, 4096]\n",
      "M = [0, 4, 16, 36, 64]\n"
     ]
    }
   ],
   "source": [
    "S = []\n",
    "V = []\n",
    "M = []\n",
    "for x in range(10):\n",
    "    S.append(x**2)\n",
    "print('S =', S)\n",
    "\n",
    "for i in range(13):\n",
    "    V.append(2**i)\n",
    "print('V =', V)\n",
    "\n",
    "for x in S:\n",
    "    if x % 2 == 0:\n",
    "        M.append(x)\n",
    "print('M =', M)"
   ]
  },
  {
   "cell_type": "code",
   "execution_count": 112,
   "metadata": {},
   "outputs": [
    {
     "name": "stdout",
     "output_type": "stream",
     "text": [
      "S = [0, 1, 4, 9, 16, 25, 36, 49, 64, 81]\n",
      "V = [1, 2, 4, 8, 16, 32, 64, 128, 256, 512, 1024, 2048, 4096]\n",
      "M = [0, 4, 16, 36, 64]\n"
     ]
    }
   ],
   "source": [
    "S = [x**2 for x in range(10)]\n",
    "V = [2**x for x in range(13)]\n",
    "M = [x for x in S if x % 2 == 0]\n",
    "print('S =', S)\n",
    "print('V =', V)\n",
    "print('M =', M)"
   ]
  },
  {
   "cell_type": "code",
   "execution_count": 116,
   "metadata": {},
   "outputs": [],
   "source": [
    "# start with a matrix, in this case represented as three lists\n",
    "M = [[1, 2, 3],\n",
    "     [4, 5, 6],\n",
    "     [7, 8, 9]]\n",
    "col2 = []"
   ]
  },
  {
   "cell_type": "code",
   "execution_count": 117,
   "metadata": {},
   "outputs": [
    {
     "name": "stdout",
     "output_type": "stream",
     "text": [
      "[2, 5, 8]\n"
     ]
    }
   ],
   "source": [
    "# print out just the 2nd column\n",
    "for row in M:\n",
    "    col2.append(row[1])\n",
    "print(col2)"
   ]
  },
  {
   "cell_type": "code",
   "execution_count": 119,
   "metadata": {},
   "outputs": [
    {
     "data": {
      "text/plain": [
       "[2, 5, 8]"
      ]
     },
     "execution_count": 119,
     "metadata": {},
     "output_type": "execute_result"
    }
   ],
   "source": [
    "[row[1] for row in M]"
   ]
  },
  {
   "cell_type": "code",
   "execution_count": null,
   "metadata": {},
   "outputs": [],
   "source": []
  },
  {
   "cell_type": "code",
   "execution_count": 120,
   "metadata": {},
   "outputs": [
    {
     "name": "stdout",
     "output_type": "stream",
     "text": [
      "[(-1, -1), (0, 0), (1, 1)]\n"
     ]
    }
   ],
   "source": [
    "# Nested comprehensions\n",
    "# tuples that are the cross products of two lists: [-1,0,1] and [-1,0,1]\n",
    "mylist = []\n",
    "for x in range(-1,2):\n",
    "    for y in range(-1,2):\n",
    "        if x == y:\n",
    "            mylist.append((x,y))\n",
    "\n",
    "print(mylist)"
   ]
  },
  {
   "cell_type": "code",
   "execution_count": 121,
   "metadata": {},
   "outputs": [
    {
     "data": {
      "text/plain": [
       "[(-1, -1), (0, 0), (1, 1)]"
      ]
     },
     "execution_count": 121,
     "metadata": {},
     "output_type": "execute_result"
    }
   ],
   "source": [
    "[(x, y) for x in range(-1,2) for y in range(-1,2) if x == y]"
   ]
  },
  {
   "cell_type": "code",
   "execution_count": 124,
   "metadata": {},
   "outputs": [
    {
     "name": "stdout",
     "output_type": "stream",
     "text": [
      "[2, 6, 10, 14, 22, 22]\n"
     ]
    }
   ],
   "source": [
    "numbers = [1, 2, 3, 5, 7, 8, 11, 10, 11, 14]\n",
    "doubled_odds = []\n",
    "\n",
    "for n in numbers:\n",
    "    if n % 2 == 1:\n",
    "        doubled_odds.append(n * 2)\n",
    "print(doubled_odds)"
   ]
  },
  {
   "cell_type": "code",
   "execution_count": 125,
   "metadata": {},
   "outputs": [
    {
     "name": "stdout",
     "output_type": "stream",
     "text": [
      "[2, 6, 10, 14, 22, 22]\n"
     ]
    }
   ],
   "source": [
    "doubled_odds = [n * 2 for n in numbers if n % 2 == 1]\n",
    "print (doubled_odds)"
   ]
  },
  {
   "cell_type": "code",
   "execution_count": null,
   "metadata": {},
   "outputs": [],
   "source": []
  },
  {
   "cell_type": "code",
   "execution_count": 126,
   "metadata": {},
   "outputs": [
    {
     "data": {
      "text/plain": [
       "['e',\n",
       " 'el',\n",
       " 'ele',\n",
       " 'elep',\n",
       " 'eleph',\n",
       " 'elepha',\n",
       " 'elephan',\n",
       " 'elephant',\n",
       " 'elephants']"
      ]
     },
     "execution_count": 126,
     "metadata": {},
     "output_type": "execute_result"
    }
   ],
   "source": [
    "# output increasing amount of string\n",
    "string = 'elephants'\n",
    "[string[:c + 1] for c in range(len(string))]"
   ]
  },
  {
   "cell_type": "code",
   "execution_count": 127,
   "metadata": {},
   "outputs": [
    {
     "data": {
      "text/plain": [
       "['ACTGATCGATTACGTATAGTAGA',\n",
       " 'CTGATCGATTACGTATAGTAGAA',\n",
       " 'TGATCGATTACGTATAGTAGAAT',\n",
       " 'GATCGATTACGTATAGTAGAATT',\n",
       " 'ATCGATTACGTATAGTAGAATTC',\n",
       " 'TCGATTACGTATAGTAGAATTCT',\n",
       " 'CGATTACGTATAGTAGAATTCTA',\n",
       " 'GATTACGTATAGTAGAATTCTAT',\n",
       " 'ATTACGTATAGTAGAATTCTATC',\n",
       " 'TTACGTATAGTAGAATTCTATCA',\n",
       " 'TACGTATAGTAGAATTCTATCAT',\n",
       " 'ACGTATAGTAGAATTCTATCATA',\n",
       " 'CGTATAGTAGAATTCTATCATAT',\n",
       " 'GTATAGTAGAATTCTATCATATA',\n",
       " 'TATAGTAGAATTCTATCATATAT',\n",
       " 'ATAGTAGAATTCTATCATATATA',\n",
       " 'TAGTAGAATTCTATCATATATAT',\n",
       " 'AGTAGAATTCTATCATATATATG',\n",
       " 'GTAGAATTCTATCATATATATGG']"
      ]
     },
     "execution_count": 127,
     "metadata": {},
     "output_type": "execute_result"
    }
   ],
   "source": [
    "# generate all k-mers of 23bp for a string of nucleotides\n",
    "#                1         2         3         4\n",
    "#      01234567890123456789012345678901234567890\n",
    "dna = 'ACTGATCGATTACGTATAGTAGAATTCTATCATATATATGG'\n",
    "\n",
    "kmers = []\n",
    "\n",
    "for c in range(0, len(dna) - 22):\n",
    "    kmers.append(dna[c:c+23])\n",
    "\n",
    "kmers\n",
    "#print(kmers)"
   ]
  },
  {
   "cell_type": "code",
   "execution_count": 129,
   "metadata": {},
   "outputs": [
    {
     "data": {
      "text/plain": [
       "['ACTGATCGATTACGTATAGTAGA',\n",
       " 'CTGATCGATTACGTATAGTAGAA',\n",
       " 'TGATCGATTACGTATAGTAGAAT',\n",
       " 'GATCGATTACGTATAGTAGAATT',\n",
       " 'ATCGATTACGTATAGTAGAATTC',\n",
       " 'TCGATTACGTATAGTAGAATTCT',\n",
       " 'CGATTACGTATAGTAGAATTCTA',\n",
       " 'GATTACGTATAGTAGAATTCTAT',\n",
       " 'ATTACGTATAGTAGAATTCTATC',\n",
       " 'TTACGTATAGTAGAATTCTATCA',\n",
       " 'TACGTATAGTAGAATTCTATCAT',\n",
       " 'ACGTATAGTAGAATTCTATCATA',\n",
       " 'CGTATAGTAGAATTCTATCATAT',\n",
       " 'GTATAGTAGAATTCTATCATATA',\n",
       " 'TATAGTAGAATTCTATCATATAT',\n",
       " 'ATAGTAGAATTCTATCATATATA',\n",
       " 'TAGTAGAATTCTATCATATATAT',\n",
       " 'AGTAGAATTCTATCATATATATG',\n",
       " 'GTAGAATTCTATCATATATATGG']"
      ]
     },
     "execution_count": 129,
     "metadata": {},
     "output_type": "execute_result"
    }
   ],
   "source": [
    "# generate all 23-mers of dna\n",
    "[dna[c:c+23] for c in range(0, len(dna) - 22)]"
   ]
  },
  {
   "cell_type": "code",
   "execution_count": null,
   "metadata": {},
   "outputs": [],
   "source": []
  },
  {
   "cell_type": "markdown",
   "metadata": {},
   "source": [
    "# zip()"
   ]
  },
  {
   "cell_type": "code",
   "execution_count": 130,
   "metadata": {},
   "outputs": [
    {
     "name": "stdout",
     "output_type": "stream",
     "text": [
      "{12: 'A', 25: 'B', 23: 'C', 14: 'D'}\n"
     ]
    }
   ],
   "source": [
    "# reverse key and value in mydict\n",
    "mydict = {'A':12, 'B':25, 'C':23, 'D':14}\n",
    "reversed = dict(zip(mydict.values(), mydict))\n",
    "print(reversed)"
   ]
  },
  {
   "cell_type": "code",
   "execution_count": 131,
   "metadata": {},
   "outputs": [
    {
     "name": "stdout",
     "output_type": "stream",
     "text": [
      "{12: 'A', 25: 'B', 23: 'C', 14: 'D'}\n"
     ]
    }
   ],
   "source": [
    "# same as above\n",
    "reversed = dict(zip(mydict.values(), mydict.keys()))\n",
    "print(reversed)"
   ]
  },
  {
   "cell_type": "code",
   "execution_count": null,
   "metadata": {},
   "outputs": [],
   "source": []
  },
  {
   "cell_type": "code",
   "execution_count": null,
   "metadata": {},
   "outputs": [],
   "source": []
  }
 ],
 "metadata": {
  "kernelspec": {
   "display_name": "Python 3",
   "language": "python",
   "name": "python3"
  },
  "language_info": {
   "codemirror_mode": {
    "name": "ipython",
    "version": 3
   },
   "file_extension": ".py",
   "mimetype": "text/x-python",
   "name": "python",
   "nbconvert_exporter": "python",
   "pygments_lexer": "ipython3",
   "version": "3.7.3"
  }
 },
 "nbformat": 4,
 "nbformat_minor": 2
}
