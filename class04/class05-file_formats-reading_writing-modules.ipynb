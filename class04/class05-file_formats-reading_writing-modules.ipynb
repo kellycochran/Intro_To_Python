{
 "cells": [
  {
   "cell_type": "markdown",
   "metadata": {},
   "source": [
    "FASTQ, sequence reads and quality"
   ]
  },
  {
   "cell_type": "code",
   "execution_count": 1,
   "metadata": {},
   "outputs": [],
   "source": [
    "# Quality Scores\n",
    "\n",
    "# A quality score (or Q-score) expresses an error probability. \n",
    "# In particular, it serves as a convenient and compact way to \n",
    "# communicate very small error probabilities.\n",
    "#\n",
    "# Given an assertion, A, the quality score, Q(A), expresses \n",
    "# the probability that A is not true, P(~A), according to the \n",
    "# relationship:\n",
    "#\n",
    "#  Q(A) =-10 log10(P(~A))\n",
    "#\n",
    "# where P(~A) is the estimated probability of an assertion A \n",
    "# being wrong.\n",
    "\n",
    "# https://support.illumina.com/help/BaseSpace_OLH_009008/Content/Source/Informatics/BS/QualityScores_swBS.htm"
   ]
  },
  {
   "cell_type": "code",
   "execution_count": 2,
   "metadata": {},
   "outputs": [],
   "source": [
    "# FASTQ format\n",
    "# four lines: name, sequence, comment, quality\n",
    "\n",
    "# Example from S. cerevisiae 100 genome study. Researcher defined name and comment lines.\n",
    "#1: @YJM244_SRR800767.1 1 length=202\n",
    "#2: TGTGAAACTTAGTTTTCTTTTTGTATTGGGGTGTAATTTCTTATTTTCCCTGTATTTCACCGCATGCAA\n",
    "#3: +YJM244 : Geographic Location of Isolate: Romania, Source: Clinical\n",
    "#4: CC@FDDFFHHHHHJJJJJJIIIJFHJGJJJJ:DCDDGHIJJG4DGIDGH<9??9=F@))B8-''557=A)?\n",
    "\n",
    "# ENCODE fastq file: ENCFF733YBM. Illumina machine defined name and comment lines.\n",
    "#1: @D00611:288:C9C4PANXX:2:2202:1501:2192 1:N:0:0\n",
    "#2: GGCCGCCGCCCGAGTTCTGCGTACGAGAAGAAAGACGCGG\n",
    "#3: +\n",
    "#4: <B/<BFFFFFFFFFFFFFFFFFFFFFFFFFFFFFFFFFFF"
   ]
  },
  {
   "cell_type": "code",
   "execution_count": null,
   "metadata": {},
   "outputs": [],
   "source": []
  },
  {
   "cell_type": "code",
   "execution_count": 3,
   "metadata": {},
   "outputs": [
    {
     "name": "stdout",
     "output_type": "stream",
     "text": [
      "@D00611:288:C9C4PANXX:2:2202:1501:2192 1:N:0:0\r\n",
      "GGCCGCCGCCCGAGTTCTGCGTACGAGAAGAAAGACGCGG\r\n",
      "+\r\n",
      "<B/<BFFFFFFFFFFFFFFFFFFFFFFFFFFFFFFFFFFF\r\n",
      "@D00611:288:C9C4PANXX:2:2202:1586:2227 1:N:0:0\r\n",
      "GCACGCCGACAGCGAGGGAAGGGAGGAGGAGGGAGACGCG\r\n",
      "+\r\n",
      "<</<<B/FFFFFFFBFFFBFFFFFFFBFF/FFBFFFFFFF\r\n",
      "@D00611:288:C9C4PANXX:2:2202:1699:2242 1:N:0:0\r\n",
      "CCTTTTTTAGCAATGACCCAAATACTTGTTCAGAAATTAG\r\n",
      "+\r\n",
      "<B/<BFFFFFFFFFFFFFFFFFFFFFFFFFFFFFFFFFFF\r\n"
     ]
    }
   ],
   "source": [
    "# command to see the first lines of a file. \n",
    "# One argument for the number of lines to view, default is 10\n",
    "!head -12 ENCFF733YBM-trunc.fastq"
   ]
  },
  {
   "cell_type": "code",
   "execution_count": 4,
   "metadata": {},
   "outputs": [],
   "source": [
    "# ENCODE experiment ENCSR784FYS\n",
    "# https://www.encodeproject.org/experiments/ENCSR784FYS/\n",
    "\n",
    "# Assay : ChIP-seq (TF ChIP-seq)\n",
    "# Target : RBFOX2\n",
    "# Biosample summary : Homo sapiens HepG2\n",
    "# Biosample Type : cell line\n",
    "# Replication type : isogenic\n",
    "# Description : RBFOX2 ChIP-seq in HepG2\n",
    "# Nucleic acid type : DNA\n",
    "# Size range : 200-400\n",
    "# Lysis method : SDS\n",
    "# Size selection method : Gel\n",
    "# Strand specificity : Non-strand-specific\n",
    "# Platform : Illumina HiSeq 2500\n",
    "# Controls : ENCSR545RWZ"
   ]
  },
  {
   "cell_type": "code",
   "execution_count": 7,
   "metadata": {},
   "outputs": [],
   "source": [
    "def seq_list_from_fastq_file(filename):\n",
    "\n",
    "    seq_list = []\n",
    "    quality_list = []\n",
    "    \n",
    "    with open(filename) as FASTQ_INPUT:\n",
    "        line_cnt = 0\n",
    "        for line in FASTQ_INPUT:\n",
    "            line_cnt += 1\n",
    "            if line_cnt == 2:\n",
    "                seq_list.append(line.rstrip('\\n'))\n",
    "            if line_cnt % 4 == 0:\n",
    "                quality_list.append(line.rstrip('\\n'))\n",
    "                line_cnt = 0\n",
    "\n",
    "    return seq_list, quality_list"
   ]
  },
  {
   "cell_type": "code",
   "execution_count": 8,
   "metadata": {},
   "outputs": [],
   "source": [
    "# FASTQ from ChIP-seq experiment ENCSR784FYS\n",
    "# file accession ENCFF733YBM\n",
    "\n",
    "fastq_filename = 'ENCFF733YBM-trunc.fastq'\n",
    "\n",
    "sequence, quality = seq_list_from_fastq_file(fastq_filename)"
   ]
  },
  {
   "cell_type": "code",
   "execution_count": 10,
   "metadata": {},
   "outputs": [
    {
     "name": "stdout",
     "output_type": "stream",
     "text": [
      "Length of sequence list = 100,\tFirst sequence = 'GGCCGCCGCCCGAGTTCTGCGTACGAGAAGAAAGACGCGG'\n",
      "Length of quality list  = 100,\tFirst quality  = '<B/<BFFFFFFFFFFFFFFFFFFFFFFFFFFFFFFFFFFF'\n"
     ]
    }
   ],
   "source": [
    "# string at index 0 of list\n",
    "print('Length of sequence list = ', len(sequence), ',\\tFirst sequence = \\'', \\\n",
    "      sequence[0], '\\'', sep='')\n",
    "print('Length of quality list  = ', len(quality),  ',\\tFirst quality  = \\'', \\\n",
    "      quality[0], '\\'', sep='')"
   ]
  },
  {
   "cell_type": "code",
   "execution_count": 11,
   "metadata": {},
   "outputs": [
    {
     "name": "stdout",
     "output_type": "stream",
     "text": [
      "G\t<\t27\t-2.7\t0.001995262314968879\n",
      "G\tB\t33\t-3.3000000000000003\t0.000501187233627272\n",
      "C\t/\t14\t-1.4000000000000001\t0.03981071705534971\n",
      "C\t<\t27\t-2.7\t0.001995262314968879\n",
      "G\tB\t33\t-3.3000000000000003\t0.000501187233627272\n",
      "C\tF\t37\t-3.7\t0.00019952623149688788\n",
      "C\tF\t37\t-3.7\t0.00019952623149688788\n",
      "G\tF\t37\t-3.7\t0.00019952623149688788\n",
      "C\tF\t37\t-3.7\t0.00019952623149688788\n",
      "C\tF\t37\t-3.7\t0.00019952623149688788\n",
      "C\tF\t37\t-3.7\t0.00019952623149688788\n",
      "G\tF\t37\t-3.7\t0.00019952623149688788\n",
      "A\tF\t37\t-3.7\t0.00019952623149688788\n",
      "G\tF\t37\t-3.7\t0.00019952623149688788\n",
      "T\tF\t37\t-3.7\t0.00019952623149688788\n",
      "T\tF\t37\t-3.7\t0.00019952623149688788\n",
      "C\tF\t37\t-3.7\t0.00019952623149688788\n",
      "T\tF\t37\t-3.7\t0.00019952623149688788\n",
      "G\tF\t37\t-3.7\t0.00019952623149688788\n",
      "C\tF\t37\t-3.7\t0.00019952623149688788\n",
      "G\tF\t37\t-3.7\t0.00019952623149688788\n",
      "T\tF\t37\t-3.7\t0.00019952623149688788\n",
      "A\tF\t37\t-3.7\t0.00019952623149688788\n",
      "C\tF\t37\t-3.7\t0.00019952623149688788\n",
      "G\tF\t37\t-3.7\t0.00019952623149688788\n",
      "A\tF\t37\t-3.7\t0.00019952623149688788\n",
      "G\tF\t37\t-3.7\t0.00019952623149688788\n",
      "A\tF\t37\t-3.7\t0.00019952623149688788\n",
      "A\tF\t37\t-3.7\t0.00019952623149688788\n",
      "G\tF\t37\t-3.7\t0.00019952623149688788\n",
      "A\tF\t37\t-3.7\t0.00019952623149688788\n",
      "A\tF\t37\t-3.7\t0.00019952623149688788\n",
      "A\tF\t37\t-3.7\t0.00019952623149688788\n",
      "G\tF\t37\t-3.7\t0.00019952623149688788\n",
      "A\tF\t37\t-3.7\t0.00019952623149688788\n",
      "C\tF\t37\t-3.7\t0.00019952623149688788\n",
      "G\tF\t37\t-3.7\t0.00019952623149688788\n",
      "C\tF\t37\t-3.7\t0.00019952623149688788\n",
      "G\tF\t37\t-3.7\t0.00019952623149688788\n",
      "G\tF\t37\t-3.7\t0.00019952623149688788\n"
     ]
    }
   ],
   "source": [
    "# take apart quality value encoding\n",
    "for x in range(len(sequence[0])):\n",
    "    print('{}\\t{}\\t{}\\t{}\\t{}'.format(sequence[0][x], \n",
    "                                              quality[0][x],\n",
    "                                              ord(quality[0][x]) - 33,\n",
    "                                              (ord(quality[0][x]) - 33) * -0.1,\n",
    "                                              pow(10, (ord(quality[0][x]) - 33) * -0.1 )))"
   ]
  },
  {
   "cell_type": "code",
   "execution_count": 21,
   "metadata": {},
   "outputs": [
    {
     "name": "stdout",
     "output_type": "stream",
     "text": [
      "char\tASCII\tqual\texponent\tprob\n",
      "F\t70\t37\t-3.70\t1.9953e-04\n",
      "B\t66\t33\t-3.30\t5.0119e-04\n",
      "/\t47\t14\t-1.40\t3.9811e-02\n",
      "<\t60\t27\t-2.70\t1.9953e-03\n"
     ]
    }
   ],
   "source": [
    "# a little easier to view with just the unique characters\n",
    "quality_set = set(list(quality[0]))\n",
    "\n",
    "# add float and scientific notation to output of probability\n",
    "print('char\\tASCII\\tqual\\texponent\\tprob')\n",
    "for x in quality_set:\n",
    "    print('{}\\t{}\\t{}\\t{:.2f}\\t{:.4e}'.format(x,\n",
    "                                        ord(x),\n",
    "                                        ord(x) - 33,\n",
    "                                        (ord(x) - 33) * -0.1,\n",
    "                                        pow(10, (ord(x) - 33) * -0.1 )))"
   ]
  },
  {
   "cell_type": "code",
   "execution_count": 18,
   "metadata": {},
   "outputs": [],
   "source": [
    "# remember that by default the result of set() is not sorted"
   ]
  },
  {
   "cell_type": "code",
   "execution_count": 22,
   "metadata": {},
   "outputs": [
    {
     "name": "stdout",
     "output_type": "stream",
     "text": [
      "1.9953e-04\n"
     ]
    }
   ],
   "source": [
    "# understanding the exponent calculation\n",
    "# quality score of 40\n",
    "print('{:.4e}'.format(pow(10, -3.7)))"
   ]
  },
  {
   "cell_type": "code",
   "execution_count": 23,
   "metadata": {},
   "outputs": [
    {
     "ename": "NameError",
     "evalue": "name 'log' is not defined",
     "output_type": "error",
     "traceback": [
      "\u001b[0;31m---------------------------------------------------------------------------\u001b[0m",
      "\u001b[0;31mNameError\u001b[0m                                 Traceback (most recent call last)",
      "\u001b[0;32m<ipython-input-23-17070eeb755b>\u001b[0m in \u001b[0;36m<module>\u001b[0;34m\u001b[0m\n\u001b[1;32m      1\u001b[0m \u001b[0;31m# no log() function by default\u001b[0m\u001b[0;34m\u001b[0m\u001b[0;34m\u001b[0m\u001b[0;34m\u001b[0m\u001b[0m\n\u001b[0;32m----> 2\u001b[0;31m \u001b[0mprint\u001b[0m\u001b[0;34m(\u001b[0m\u001b[0mlog\u001b[0m\u001b[0;34m(\u001b[0m\u001b[0;36m10\u001b[0m\u001b[0;34m)\u001b[0m\u001b[0;34m)\u001b[0m\u001b[0;34m\u001b[0m\u001b[0;34m\u001b[0m\u001b[0m\n\u001b[0m",
      "\u001b[0;31mNameError\u001b[0m: name 'log' is not defined"
     ]
    }
   ],
   "source": [
    "# no log() function by default\n",
    "print(log(10))"
   ]
  },
  {
   "cell_type": "code",
   "execution_count": 25,
   "metadata": {},
   "outputs": [
    {
     "name": "stdout",
     "output_type": "stream",
     "text": [
      "natural log of  2 = 2.302585092994046\n",
      "log base 10 of 10 = 1.0\n",
      "log base  2 of 10 = 3.3219280948873626\n"
     ]
    }
   ],
   "source": [
    "# adding additional functions via import\n",
    "# there are several modules included with Python, and even more added by \n",
    "#  default with anaconda.\n",
    "\n",
    "# importing all functions from module math\n",
    "# https://docs.python.org/3/library/math.html\n",
    "import math\n",
    "\n",
    "# default for math.log is natural log\n",
    "print('natural log of  2 =', math.log(10))\n",
    "\n",
    "# second argument for math.log is base\n",
    "print('log base 10 of 10 =', math.log(10, 10))\n",
    "\n",
    "print('log base  2 of 10 =', math.log(10, 2))"
   ]
  },
  {
   "cell_type": "code",
   "execution_count": 26,
   "metadata": {},
   "outputs": [],
   "source": [
    "# ASCII Table, numeric value of characters\n",
    "# https://www.cs.cmu.edu/~pattis/15-1XX/common/handouts/ascii.html"
   ]
  },
  {
   "cell_type": "code",
   "execution_count": 28,
   "metadata": {},
   "outputs": [
    {
     "name": "stdout",
     "output_type": "stream",
     "text": [
      "math.log():\t\t 37.000000685570285\n",
      "int(math.log()):\t 37\n",
      "chr(int(math.log())):\t'%'\n"
     ]
    }
   ],
   "source": [
    "# more exploring\n",
    "quality_prob = 1.995262e-04\n",
    "print('math.log():\\t\\t',                   math.log(quality_prob, 10) * -10)\n",
    "print('int(math.log()):\\t',            int(math.log(quality_prob, 10) * -10))\n",
    "print('chr(int(math.log())):\\t\\'', chr(int(math.log(quality_prob, 10) * -10)), '\\'', sep='')"
   ]
  },
  {
   "cell_type": "code",
   "execution_count": 30,
   "metadata": {},
   "outputs": [
    {
     "name": "stdout",
     "output_type": "stream",
     "text": [
      "chr(int(math.log()) + 33):\t'F'\n"
     ]
    }
   ],
   "source": [
    "# Must add 33 to get ASCII character!\n",
    "print('chr(int(math.log()) + 33):\\t\\'', chr(int(math.log(quality_prob, 10) * -10) + 33), '\\'', sep='')"
   ]
  },
  {
   "cell_type": "code",
   "execution_count": 31,
   "metadata": {},
   "outputs": [
    {
     "data": {
      "text/plain": [
       "10.0"
      ]
     },
     "execution_count": 31,
     "metadata": {},
     "output_type": "execute_result"
    }
   ],
   "source": [
    "# more functions from math module\n",
    "# square root\n",
    "math.sqrt(100)"
   ]
  },
  {
   "cell_type": "code",
   "execution_count": 33,
   "metadata": {},
   "outputs": [
    {
     "data": {
      "text/plain": [
       "120"
      ]
     },
     "execution_count": 33,
     "metadata": {},
     "output_type": "execute_result"
    }
   ],
   "source": [
    "# factorial\n",
    "math.factorial(5)"
   ]
  },
  {
   "cell_type": "code",
   "execution_count": null,
   "metadata": {},
   "outputs": [],
   "source": []
  },
  {
   "cell_type": "code",
   "execution_count": 34,
   "metadata": {},
   "outputs": [],
   "source": [
    "# another way to read FASTQ saving all lines by category"
   ]
  },
  {
   "cell_type": "code",
   "execution_count": 36,
   "metadata": {},
   "outputs": [],
   "source": [
    "ks = ['name', 'sequence', 'optional', 'quality']\n",
    "\n",
    "def process_lines(lines):\n",
    "    '''\n",
    "    process a group of 4 lines from fastq file\n",
    "    dividing them into dictionary, with a key for each category\n",
    "    '''\n",
    "    record = {}\n",
    "\n",
    "    for x in range(len(lines)):\n",
    "        record[ks[x]] = lines[x]\n",
    "\n",
    "    return record"
   ]
  },
  {
   "cell_type": "code",
   "execution_count": 38,
   "metadata": {},
   "outputs": [
    {
     "name": "stdout",
     "output_type": "stream",
     "text": [
      "{'name': '@D00611:288:C9C4PANXX:2:2202:1501:2192 1:N:0:0', 'sequence': 'GGCCGCCGCCCGAGTTCTGCGTACGAGAAGAAAGACGCGG', 'optional': '+', 'quality': '<B/<BFFFFFFFFFFFFFFFFFFFFFFFFFFFFFFFFFFF'}\n",
      "{'name': '@D00611:288:C9C4PANXX:2:2202:1586:2227 1:N:0:0', 'sequence': 'GCACGCCGACAGCGAGGGAAGGGAGGAGGAGGGAGACGCG', 'optional': '+', 'quality': '<</<<B/FFFFFFFBFFFBFFFFFFFBFF/FFBFFFFFFF'}\n",
      "{'name': '@D00611:288:C9C4PANXX:2:2202:1699:2242 1:N:0:0', 'sequence': 'CCTTTTTTAGCAATGACCCAAATACTTGTTCAGAAATTAG', 'optional': '+', 'quality': '<B/<BFFFFFFFFFFFFFFFFFFFFFFFFFFFFFFFFFFF'}\n",
      "{'name': '@D00611:288:C9C4PANXX:2:2202:1848:2207 1:N:0:0', 'sequence': 'TGGTATTTATAGAGTAAGGAGTTGCCTCTTCTAAGAAGGG', 'optional': '+', 'quality': '<B/<BFFFFFFFFFFFFFFFFFFFFFFFFFFFFFFFFFFF'}\n",
      "{'name': '@D00611:288:C9C4PANXX:2:2202:1917:2221 1:N:0:0', 'sequence': 'GATCGGAAGAGCACACGTCTCGTATGCCGTCTTCTGCTTG', 'optional': '+', 'quality': '<<<<<<<F<FB<FFFFFFFF/BFFFFFFFFFFFFFBFFF<'}\n",
      "{'name': '@D00611:288:C9C4PANXX:2:2202:1953:2230 1:N:0:0', 'sequence': 'CTTTCTCCTGTCTCAGGTGACCAAGAATATGGCCCAGGTG', 'optional': '+', 'quality': '<</<<FBFFFFFFBFFFFFFFFFFFFFFFFFF<FFFFFFF'}\n"
     ]
    }
   ],
   "source": [
    "fastq_dictionary = {}\n",
    "\n",
    "with open(fastq_filename) as FASTQ_INPUT:\n",
    "    line_cnt = 0\n",
    "    lines = []\n",
    "    output_lines = 0\n",
    "    for line in FASTQ_INPUT:\n",
    "        line_cnt += 1\n",
    "        lines.append(line.rstrip('\\n'))\n",
    "        if line_cnt % 4 == 0:\n",
    "            record_dict = process_lines(lines)\n",
    "            line_cnt = 0\n",
    "            lines = []\n",
    "            output_lines += 1\n",
    "            if output_lines < 7:\n",
    "                print(record_dict)\n",
    "            fastq_dictionary[record_dict['name']] = record_dict"
   ]
  },
  {
   "cell_type": "code",
   "execution_count": 40,
   "metadata": {},
   "outputs": [
    {
     "name": "stdout",
     "output_type": "stream",
     "text": [
      "{'name': '@D00611:288:C9C4PANXX:2:2202:1501:2192 1:N:0:0', 'sequence': 'GGCCGCCGCCCGAGTTCTGCGTACGAGAAGAAAGACGCGG', 'optional': '+', 'quality': '<B/<BFFFFFFFFFFFFFFFFFFFFFFFFFFFFFFFFFFF'}\n"
     ]
    }
   ],
   "source": [
    "print(fastq_dictionary['@D00611:288:C9C4PANXX:2:2202:1501:2192 1:N:0:0'])"
   ]
  },
  {
   "cell_type": "code",
   "execution_count": null,
   "metadata": {},
   "outputs": [],
   "source": []
  },
  {
   "cell_type": "code",
   "execution_count": 41,
   "metadata": {},
   "outputs": [],
   "source": [
    "# BED file format\n",
    "# http://genome.ucsc.edu/FAQ/FAQformat.html#format1"
   ]
  },
  {
   "cell_type": "code",
   "execution_count": null,
   "metadata": {},
   "outputs": [],
   "source": [
    "# This format is used to provide called peaks of signal enrichment\n",
    "# based on pooled, normalized (interpreted) data. It is a BED6+4\n",
    "# format.\n",
    "#\n",
    "# 1. chrom - Name of the chromosome (or contig, scaffold, etc.).\n",
    "# 2. chromStart - The starting position of the feature in the\n",
    "#    chromosome or scaffold. The first base in a chromosome is numbered 0.\n",
    "# 3. chromEnd - The ending position of the feature in the chromosome\n",
    "#    or scaffold. The chromEnd base is not included in the display of the\n",
    "#    feature. For example, the first 100 bases of a chromosome are\n",
    "#    defined as chromStart=0, chromEnd=100, and span the bases numbered\n",
    "#    0-99.\n",
    "# 4. name - Name given to a region (preferably unique). Use \".\" if no\n",
    "#    name is assigned.\n",
    "# 5. score - Indicates how dark the peak will be displayed in the\n",
    "#    browser (0-1000). If all scores were \"'0\"' when the data were\n",
    "#    submitted to the DCC, the DCC assigned scores 1-1000 based on signal\n",
    "#    value. Ideally the average signalValue per base spread is between\n",
    "#    100-1000.\n",
    "# 6. strand - +/- to denote strand or orientation (whenever\n",
    "#    applicable). Use \".\" if no orientation is assigned.\n",
    "# 7. signalValue - Measurement of overall (usually, average)\n",
    "#    enrichment for the region.\n",
    "# 8. pValue - Measurement of statistical significance (-log10). Use -1\n",
    "#    if no pValue is assigned.\n",
    "# 9. qValue - Measurement of statistical significance using false\n",
    "#    discovery rate (-log10). Use -1 if no qValue is assigned.\n",
    "# 10. peak - Point-source called for this peak; 0-based offset from\n",
    "#    chromStart. Use -1 if no point-source called."
   ]
  },
  {
   "cell_type": "code",
   "execution_count": 42,
   "metadata": {},
   "outputs": [],
   "source": [
    "# column headings\n",
    "CHROM = 0\n",
    "CHROMSTART = 1\n",
    "CHROMEND = 2\n",
    "NAME = 3\n",
    "SCORE = 4\n",
    "STRAND = 5\n",
    "SIGNALVALUE = 6\n",
    "PVALUE = 7\n",
    "QVALUE = 8\n",
    "PEAK = 9"
   ]
  },
  {
   "cell_type": "code",
   "execution_count": 44,
   "metadata": {},
   "outputs": [],
   "source": [
    "# module for handling gzip formatted files.\n",
    "import gzip\n",
    "RBFOX2_HepG2_filename = 'ENCFF014SMJ_RBFOX2_HepG2_ChIP-seq-chr21.bed.gz'"
   ]
  },
  {
   "cell_type": "code",
   "execution_count": 45,
   "metadata": {},
   "outputs": [
    {
     "name": "stdout",
     "output_type": "stream",
     "text": [
      "chr21\t31659321\t31660409\t.\t0\t.\t231.272535106579\t-1\t5.22744190326898\t419\r\n",
      "chr21\t45470677\t45471860\t.\t0\t.\t221.696135485269\t-1\t5.22744190326898\t435\r\n",
      "chr21\t28885003\t28885596\t.\t0\t.\t219.027260543462\t-1\t5.22744190326898\t323\r\n",
      "gzcat: error writing to output: Broken pipe\r\n",
      "gzcat: ENCFF014SMJ_RBFOX2_HepG2_ChIP-seq-chr21.bed.gz: uncompress failed\r\n"
     ]
    }
   ],
   "source": [
    "!gzcat ENCFF014SMJ_RBFOX2_HepG2_ChIP-seq-chr21.bed.gz | head -3"
   ]
  },
  {
   "cell_type": "code",
   "execution_count": 47,
   "metadata": {},
   "outputs": [
    {
     "name": "stdout",
     "output_type": "stream",
     "text": [
      "min = 2.00053908793031 max = 231.272535106579\n"
     ]
    }
   ],
   "source": [
    "# What is the minimum and maximum signal values for this file\n",
    "max_value = 0.0\n",
    "min_value = 1.0e6\n",
    "\n",
    "with gzip.open(RBFOX2_HepG2_filename, 'rt') as BED_FILE:\n",
    "    for line in BED_FILE:\n",
    "        cols = line.rstrip('\\n').split('\\t')\n",
    "        if float(cols[SIGNALVALUE]) > max_value:\n",
    "            max_value = float(cols[SIGNALVALUE])\n",
    "        if float(cols[SIGNALVALUE]) < min_value:\n",
    "            min_value = float(cols[SIGNALVALUE])\n",
    "\n",
    "print('min =', min_value, 'max =', max_value)"
   ]
  },
  {
   "cell_type": "code",
   "execution_count": 49,
   "metadata": {},
   "outputs": [
    {
     "name": "stdout",
     "output_type": "stream",
     "text": [
      "chr21:10425301:10425981\n"
     ]
    }
   ],
   "source": [
    "# load data into peaks directory\n",
    "peaks = {}\n",
    "\n",
    "with gzip.open(RBFOX2_HepG2_filename, 'rt') as BED_FILE:\n",
    "    for line in BED_FILE:\n",
    "        cols = line.rstrip('\\n').split('\\t')\n",
    "        key = cols[CHROM] + ':' + cols[CHROMSTART] + ':' + cols[CHROMEND]\n",
    "        peaks[key] = float(cols[SIGNALVALUE])\n",
    "\n",
    "print(key)"
   ]
  },
  {
   "cell_type": "code",
   "execution_count": 51,
   "metadata": {},
   "outputs": [],
   "source": [
    "# convenient function to sort a dictionary by values\n",
    "sorted_peaks_list = sorted(peaks, key=peaks.get, reverse=True)"
   ]
  },
  {
   "cell_type": "code",
   "execution_count": 53,
   "metadata": {},
   "outputs": [
    {
     "name": "stdout",
     "output_type": "stream",
     "text": [
      "chr21:28885003:28885596\t:\tchr21\t28885003\t28885596\t219.027260543462\n",
      "chr21:44338986:44339746\t:\tchr21\t44338986\t44339746\t210.077704368786\n",
      "chr21:37267216:37268305\t:\tchr21\t37267216\t37268305\t193.047947505306\n",
      "chr21:17512508:17513646\t:\tchr21\t17512508\t17513646\t185.126412247532\n",
      "chr21:42878890:42879819\t:\tchr21\t42878890\t42879819\t180.045307716708\n",
      "chr21:29002522:29003052\t:\tchr21\t29002522\t29003052\t149.210698334441\n",
      "chr21:32771244:32771944\t:\tchr21\t32771244\t32771944\t144.995780933474\n",
      "chr21:25607199:25607710\t:\tchr21\t25607199\t25607710\t143.210829336893\n",
      "chr21:44939544:44940240\t:\tchr21\t44939544\t44940240\t138.372230702694\n",
      "chr21:17612107:17613124\t:\tchr21\t17612107\t17613124\t131.195511704765\n"
     ]
    }
   ],
   "source": [
    "# check the results, do they look correct\n",
    "for x in range(10):\n",
    "    chrom, start, end = sorted_peaks_list[x].split(':')\n",
    "    print(sorted_peaks_list[x], ':', chrom, start, end, peaks[sorted_peaks_list[x]], sep='\\t')"
   ]
  },
  {
   "cell_type": "code",
   "execution_count": 54,
   "metadata": {},
   "outputs": [],
   "source": [
    "# Slight modification to deal with duplicate keys, only keep the highest signal value\n",
    "peaks = {}\n",
    "\n",
    "with gzip.open(RBFOX2_HepG2_filename, 'rt') as BED_FILE:\n",
    "    for line in BED_FILE:\n",
    "        cols = line.rstrip('\\n').split('\\t')\n",
    "        key = cols[CHROM] + ':' + cols[CHROMSTART] + ':' + cols[CHROMEND]\n",
    "        if key in peaks:\n",
    "            #duplicate key\n",
    "            if peaks[key] < float(cols[SIGNALVALUE]):\n",
    "                peaks[key] = float(cols[SIGNALVALUE])\n",
    "        else:\n",
    "            peaks[key] = float(cols[SIGNALVALUE])  "
   ]
  },
  {
   "cell_type": "code",
   "execution_count": 56,
   "metadata": {},
   "outputs": [
    {
     "name": "stdout",
     "output_type": "stream",
     "text": [
      "chr21\t31659321\t31660409\t231.272535106579\n",
      "chr21\t45470677\t45471860\t221.696135485269\n",
      "chr21\t28885003\t28885596\t219.027260543462\n",
      "chr21\t42892621\t42893892\t214.480058578164\n",
      "chr21\t44338986\t44339746\t210.077704368786\n",
      "chr21\t37267216\t37268305\t193.047947505306\n",
      "chr21\t17512508\t17513646\t185.126412247532\n",
      "chr21\t42878890\t42879819\t183.878993092497\n",
      "chr21\t46285734\t46286681\t181.054714726374\n",
      "chr21\t39182938\t39183773\t172.989677513903\n"
     ]
    }
   ],
   "source": [
    "# recreating the sorted_peaks_list\n",
    "sorted_peaks_list = sorted(peaks, key=peaks.get, reverse=True)\n",
    "for x in range(10):\n",
    "    chrom, start, end = sorted_peaks_list[x].split(':')\n",
    "    print(chrom, start, end, peaks[sorted_peaks_list[x]], sep='\\t')\n",
    "\n",
    "# don't use chr for chromosome variable name"
   ]
  },
  {
   "cell_type": "code",
   "execution_count": 58,
   "metadata": {},
   "outputs": [
    {
     "data": {
      "text/plain": [
       "<function chr(i, /)>"
      ]
     },
     "execution_count": 58,
     "metadata": {},
     "output_type": "execute_result"
    }
   ],
   "source": [
    "chr"
   ]
  },
  {
   "cell_type": "code",
   "execution_count": 59,
   "metadata": {},
   "outputs": [
    {
     "data": {
      "text/plain": [
       "'F'"
      ]
     },
     "execution_count": 59,
     "metadata": {},
     "output_type": "execute_result"
    }
   ],
   "source": [
    "chr(70)"
   ]
  },
  {
   "cell_type": "code",
   "execution_count": null,
   "metadata": {},
   "outputs": [],
   "source": []
  },
  {
   "cell_type": "code",
   "execution_count": 60,
   "metadata": {},
   "outputs": [],
   "source": [
    "# More reading and writing\n",
    "\n",
    "# Reading from a File\n",
    "# Three different *methods* are provided to read data from file.\n",
    "\n",
    "# readline(): reads the characters starting from the current reading \n",
    "#  position up to a newline character.\n",
    "# readlines(): reads all lines until the end of file and returns a list object.\n",
    "# read(chars): reads the specified number of characters starting from the current position."
   ]
  },
  {
   "cell_type": "code",
   "execution_count": 62,
   "metadata": {},
   "outputs": [
    {
     "name": "stdout",
     "output_type": "stream",
     "text": [
      "ENCFF014SMJ_RBFOX2_HepG2_ChIP-seq-chr21.bed.gz\r\n",
      "ENCFF733YBM-trunc.fastq\r\n",
      "class05-file_formats-reading_writing-modules.ipynb\r\n"
     ]
    }
   ],
   "source": [
    "%ls"
   ]
  },
  {
   "cell_type": "code",
   "execution_count": 64,
   "metadata": {},
   "outputs": [
    {
     "name": "stdout",
     "output_type": "stream",
     "text": [
      "ENCFF733YBM-trunc.fastq\n"
     ]
    }
   ],
   "source": [
    "# remember with defined fastq_filename above\n",
    "print(fastq_filename)"
   ]
  },
  {
   "cell_type": "code",
   "execution_count": 66,
   "metadata": {},
   "outputs": [
    {
     "name": "stdout",
     "output_type": "stream",
     "text": [
      "1: @D00611:288:C9C4PANXX:2:2202:1501:2192 1:N:0:0\n",
      "\n",
      "2: GGCCGCCGCCCGAGTTCTGCGTACGAGAAGAAAGACGCGG\n",
      "\n"
     ]
    }
   ],
   "source": [
    "# methods for filehandles, readline()\n",
    "#\n",
    "# read one line at a time\n",
    "with open(fastq_filename, 'r') as FILE:\n",
    "    print('1:', FILE.readline())\n",
    "    print('2:', FILE.readline())\n",
    "\n",
    "# file is now closed, \n",
    "#  that is connection from Python to the file nolonger exists"
   ]
  },
  {
   "cell_type": "code",
   "execution_count": 67,
   "metadata": {},
   "outputs": [],
   "source": [
    "# methods for filehandles, readlines()\n",
    "#\n",
    "# read the entire file and return a list object\n",
    "with open(fastq_filename, 'r') as FILE:\n",
    "    list_lines = FILE.readlines()"
   ]
  },
  {
   "cell_type": "code",
   "execution_count": 69,
   "metadata": {},
   "outputs": [
    {
     "name": "stdout",
     "output_type": "stream",
     "text": [
      "@D00611:288:C9C4PANXX:2:2202:1501:2192 1:N:0:0\n",
      " GGCCGCCGCCCGAGTTCTGCGTACGAGAAGAAAGACGCGG\n",
      "\n",
      "\n",
      "' @D00611:288:C9C4PANXX:2:2202:1501:2192 1:N:0:0\n",
      " ' GGCCGCCGCCCGAGTTCTGCGTACGAGAAGAAAGACGCGG\n",
      " '\n",
      "\n",
      "'@D00611:288:C9C4PANXX:2:2202:1501:2192 1:N:0:0\n",
      "'GGCCGCCGCCCGAGTTCTGCGTACGAGAAGAAAGACGCGG\n",
      "'\n",
      "\n",
      "'@D00611:288:C9C4PANXX:2:2202:1501:2192 1:N:0:0'GGCCGCCGCCCGAGTTCTGCGTACGAGAAGAAAGACGCGG'\n"
     ]
    }
   ],
   "source": [
    "# without strip newline character still on line\n",
    "# also sep='' turns off print() adding space before arguments\n",
    "\n",
    "print(list_lines[0], list_lines[1])\n",
    "print()\n",
    "print('\\'', list_lines[0], '\\'', list_lines[1], '\\'')\n",
    "print()\n",
    "print('\\'', list_lines[0], '\\'', list_lines[1], '\\'', sep='')\n",
    "print()\n",
    "print('\\'', list_lines[0].rstrip(), '\\'', list_lines[1].rstrip(), '\\'', sep='')\n",
    "\n",
    "# we view files at 2D but on disk its 1D, \n",
    "#  newlines are encoded and cause new line in viewers"
   ]
  },
  {
   "cell_type": "code",
   "execution_count": 71,
   "metadata": {},
   "outputs": [
    {
     "name": "stdout",
     "output_type": "stream",
     "text": [
      "100 chars:\n",
      "@D00611:288:C9C4PANXX:2:2202:1501:2192 1:N:0:0\n",
      "GGCCGCCGCCCGAGTTCTGCGTACGAGAAGAAAGACGCGG\n",
      "+\n",
      "<B/<BFFFFF\n",
      "\n",
      "Next 100 chars.\n",
      "\n",
      "100 chars:\n",
      "FFFFFFFFFFFFFFFFFFFFFFFFFFFFFF\n",
      "@D00611:288:C9C4PANXX:2:2202:1586:2227 1:N:0:0\n",
      "GCACGCCGACAGCGAGGGAAGG"
     ]
    }
   ],
   "source": [
    "# method for filehandles, read()\n",
    "#\n",
    "# read a specific number of characters\n",
    "#\n",
    "# here read just 100 characters\n",
    "with open(fastq_filename, 'r') as FILE:\n",
    "    print('100 chars:\\n', FILE.read(100), sep='', end='')\n",
    "    print('\\n')\n",
    "    print('Next 100 chars.\\n')\n",
    "    print('100 chars:\\n', FILE.read(100), sep='', end='')"
   ]
  },
  {
   "cell_type": "code",
   "execution_count": null,
   "metadata": {},
   "outputs": [],
   "source": []
  },
  {
   "cell_type": "code",
   "execution_count": 73,
   "metadata": {},
   "outputs": [
    {
     "name": "stdout",
     "output_type": "stream",
     "text": [
      "ls: FAST*.txt: No such file or directory\r\n"
     ]
    }
   ],
   "source": [
    "%ls -l FAST*.txt"
   ]
  },
  {
   "cell_type": "code",
   "execution_count": 74,
   "metadata": {},
   "outputs": [],
   "source": [
    "# Opening multiple files on same with command\n",
    "#  reading and writing to each specific file\n",
    "\n",
    "line_cnt = 0\n",
    "with open(fastq_filename, 'r') as FASTQ_IN, \\\n",
    "     open('FASTQ_name.txt', 'w') as FQ_name, \\\n",
    "     open('FASTQ_sequence.txt', 'w') as FQ_sequence, \\\n",
    "     open('FASTQ_optional.txt', 'w') as FQ_optional, \\\n",
    "     open('FASTQ_quality.txt', 'w') as FQ_quality:\n",
    "    for line in FASTQ_IN:\n",
    "        line_cnt += 1\n",
    "        if line_cnt == 1:\n",
    "            FQ_name.write(line)\n",
    "        if line_cnt == 2:\n",
    "            FQ_sequence.write(line)\n",
    "        if line_cnt == 3:\n",
    "            FQ_optional.write(line)\n",
    "        if line_cnt == 4:\n",
    "            FQ_quality.write(line)\n",
    "            line_cnt = 0\n",
    "\n",
    "\n",
    "#FQ_name.write('test')"
   ]
  },
  {
   "cell_type": "code",
   "execution_count": 76,
   "metadata": {},
   "outputs": [
    {
     "name": "stdout",
     "output_type": "stream",
     "text": [
      "-rw-r--r--  1 cherry  staff  4741 Dec  2 10:54 FASTQ_name.txt\r\n",
      "-rw-r--r--  1 cherry  staff   200 Dec  2 10:54 FASTQ_optional.txt\r\n",
      "-rw-r--r--  1 cherry  staff  4100 Dec  2 10:54 FASTQ_quality.txt\r\n",
      "-rw-r--r--  1 cherry  staff  4100 Dec  2 10:54 FASTQ_sequence.txt\r\n"
     ]
    }
   ],
   "source": [
    "%ls -l FAST*.txt"
   ]
  },
  {
   "cell_type": "code",
   "execution_count": null,
   "metadata": {},
   "outputs": [],
   "source": []
  },
  {
   "cell_type": "code",
   "execution_count": 77,
   "metadata": {},
   "outputs": [],
   "source": [
    "# Module for generating pseudo-random numbers\n",
    "# make all functions in the module available\n",
    "import random"
   ]
  },
  {
   "cell_type": "code",
   "execution_count": 79,
   "metadata": {},
   "outputs": [
    {
     "name": "stdout",
     "output_type": "stream",
     "text": [
      "0.748292083709085\n",
      "0.34057378501878566\n",
      "0.0789614768457989\n",
      "0.017206742384888063\n",
      "0.41848150394181516\n",
      "0.2627509046933144\n",
      "0.3309873254944713\n",
      "0.08740310096347337\n",
      "0.6096347591649204\n",
      "0.9316381292257921\n"
     ]
    }
   ],
   "source": [
    "# must specify with module and with function in that module\n",
    "for x in range(10):\n",
    "    print(random.random())"
   ]
  },
  {
   "cell_type": "code",
   "execution_count": 80,
   "metadata": {},
   "outputs": [],
   "source": [
    "# rename module for use in script\n",
    "import random as rnd"
   ]
  },
  {
   "cell_type": "code",
   "execution_count": 82,
   "metadata": {},
   "outputs": [
    {
     "name": "stdout",
     "output_type": "stream",
     "text": [
      "0.9935739306375643\n",
      "0.8868490954351558\n",
      "0.8063523041363484\n",
      "0.711357423582181\n",
      "0.6498865935758834\n",
      "0.7409025760627792\n",
      "0.09745468799682766\n",
      "0.8904345774839609\n",
      "0.8833681534573122\n",
      "0.5846274347471112\n"
     ]
    }
   ],
   "source": [
    "for x in range(10):\n",
    "    print(rnd.random())"
   ]
  },
  {
   "cell_type": "code",
   "execution_count": 83,
   "metadata": {},
   "outputs": [],
   "source": [
    "#add a selected function from the module\n",
    "from random import random"
   ]
  },
  {
   "cell_type": "code",
   "execution_count": 85,
   "metadata": {},
   "outputs": [
    {
     "name": "stdout",
     "output_type": "stream",
     "text": [
      "0.9207743682162638\n",
      "0.12064022730912471\n",
      "0.6303660727087504\n",
      "0.7535902579471586\n",
      "0.11772944652117812\n",
      "0.8717114665075635\n",
      "0.28016367166697453\n",
      "0.9384016429169465\n",
      "0.8132223262843276\n",
      "0.08242286337765015\n"
     ]
    }
   ],
   "source": [
    "for x in range(10):\n",
    "    print(random())"
   ]
  },
  {
   "cell_type": "code",
   "execution_count": null,
   "metadata": {},
   "outputs": [],
   "source": []
  }
 ],
 "metadata": {
  "kernelspec": {
   "display_name": "Python 3",
   "language": "python",
   "name": "python3"
  },
  "language_info": {
   "codemirror_mode": {
    "name": "ipython",
    "version": 3
   },
   "file_extension": ".py",
   "mimetype": "text/x-python",
   "name": "python",
   "nbconvert_exporter": "python",
   "pygments_lexer": "ipython3",
   "version": "3.7.3"
  }
 },
 "nbformat": 4,
 "nbformat_minor": 2
}
