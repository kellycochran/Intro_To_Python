{
  "nbformat": 4,
  "nbformat_minor": 0,
  "metadata": {
    "kernelspec": {
      "display_name": "Python 3",
      "language": "python",
      "name": "python3"
    },
    "language_info": {
      "codemirror_mode": {
        "name": "ipython",
        "version": 3
      },
      "file_extension": ".py",
      "mimetype": "text/x-python",
      "name": "python",
      "nbconvert_exporter": "python",
      "pygments_lexer": "ipython3",
      "version": "3.7.3"
    },
    "colab": {
      "name": "2019-11-19 BIOS 274 - Data Types Practice - Veronica.ipynb",
      "provenance": [],
      "include_colab_link": true
    }
  },
  "cells": [
    {
      "cell_type": "markdown",
      "metadata": {
        "id": "view-in-github",
        "colab_type": "text"
      },
      "source": [
        "<a href=\"https://colab.research.google.com/github/kellycochran/Intro_To_Python/blob/main/class01/2019-11-19%20BIOS%20274%20-%20Data%20Types%20Practice%20-%20Veronica.ipynb\" target=\"_parent\"><img src=\"https://colab.research.google.com/assets/colab-badge.svg\" alt=\"Open In Colab\"/></a>"
      ]
    },
    {
      "cell_type": "markdown",
      "metadata": {
        "id": "FQeCRViEqaM_"
      },
      "source": [
        "# Data Types"
      ]
    },
    {
      "cell_type": "markdown",
      "metadata": {
        "id": "_Cj8RSj8qaM_"
      },
      "source": [
        "**12-07-2020** <br>\n",
        "**BIOS 274: Introductory Python Programming for Genomics** <br>"
      ]
    },
    {
      "cell_type": "markdown",
      "metadata": {
        "id": "pzoxe7o-qaM_"
      },
      "source": [
        "## Table of Contents"
      ]
    },
    {
      "cell_type": "markdown",
      "metadata": {
        "id": "IWPkhN0NqaM_"
      },
      "source": [
        "1. [Python data types](#data types)<br>\n",
        ">- [Integers and Floats](#int)<br>\n",
        ">- [Strings](#str)<br>\n",
        ">- [Lists and Tuples](#list)<br>\n",
        ">- [Booleans](#bool)<br>\n",
        "\n",
        "2. [Converting between data types](#convert)<br>\n",
        "3. [Let's practice!](#practice)"
      ]
    },
    {
      "cell_type": "markdown",
      "metadata": {
        "id": "v3wK8Bz9qaM_"
      },
      "source": [
        "<a id=\"data types\"></a>\n",
        "# Python data types"
      ]
    },
    {
      "cell_type": "markdown",
      "metadata": {
        "id": "0jvbKFY7qaM_"
      },
      "source": [
        "#### **IMMUTABLE**\n",
        "- <code>integer</code>&emsp;&emsp;&emsp;&emsp;      <code>a = 2</code><br>\n",
        "- <code>float</code>&emsp;&emsp;&emsp;&emsp;&emsp;&ensp;        <code>b = 2.0</code><br>\n",
        "- <code>string</code>&emsp;&emsp;&emsp;&emsp;&ensp;&ensp;       <code>c = 'this is my string'</code><br>\n",
        "- <code>tuple</code>&emsp;&emsp;&emsp;&emsp;&emsp;&ensp;       <code>d = (1, 2, 3, 4)</code><br>\n",
        "- <code>boolean</code>&emsp;&emsp;&emsp;&emsp;      <code>e = True</code><br>\n",
        "\n",
        "#### **MUTABLE**\n",
        "- <code>list</code>&emsp;&emsp;&emsp;&emsp;&emsp;&emsp;&ensp;         <code>f = [1, 2, 3, 4]</code><br>\n",
        "- <code>dictionary</code>&emsp;&emsp;   <code>g = {'one': 1, 'two', 2}</code> &emsp;&emsp;&emsp;&emsp;&emsp;&emsp;&emsp;&emsp;&ensp;&ensp;(didn't cover today)<br>\n",
        "- <code>set</code>&emsp;&emsp;&emsp;&emsp;&emsp;&emsp;&emsp;         <code>h = set([1, 1, 1, 1, 2, 2, 3, 3, 4])</code> (didn't cover today)"
      ]
    },
    {
      "cell_type": "markdown",
      "metadata": {
        "id": "8CKV9iINqaM_"
      },
      "source": [
        "<a id=\"int\"></a>\n",
        "### Integers (int) and Floats (IMMUTABLE)"
      ]
    },
    {
      "cell_type": "code",
      "metadata": {
        "id": "DzQx0gHfqaNA",
        "outputId": "e6215d81-d739-4a02-9534-9a8e032442b7"
      },
      "source": [
        "x = 2   # this is an integer\n",
        "y = 2.0 # this is a float\n",
        "\n",
        "# Add +\n",
        "# Subract -\n",
        "# Multipy *\n",
        "# Divide / or //\n",
        "# Power **, pow(9, .5)\n",
        "\n",
        "# Modulo (remainder) %\n",
        "print(20 % 3) # 20 / 3 = 6 with remainder 2, so this returns 2\n",
        "\n",
        "# Absolute value\n",
        "print(abs(-5))\n",
        "\n",
        "# Square root\n",
        "import math\n",
        "print(math.sqrt(9))"
      ],
      "execution_count": null,
      "outputs": [
        {
          "output_type": "stream",
          "text": [
            "2\n",
            "5\n",
            "3.0\n"
          ],
          "name": "stdout"
        }
      ]
    },
    {
      "cell_type": "markdown",
      "metadata": {
        "id": "AwNp_GC4qaNB"
      },
      "source": [
        "BEFORE RUNNING THIS CELL, TRY TO PREDICT THE OUTPUT!"
      ]
    },
    {
      "cell_type": "code",
      "metadata": {
        "id": "l_6DcP_DqaNB",
        "outputId": "c1b4bb08-a995-4836-d875-cb27c3f90163"
      },
      "source": [
        "# += -+ *= /= **=\n",
        "\n",
        "# i += 1 is equivalent to i = i + 1\n",
        "# i *= 5 is equivalent to i = i * 5\n",
        "\n",
        "i = 5\n",
        "print(i)\n",
        "\n",
        "i += 1\n",
        "print(i)\n",
        "\n",
        "i += 1\n",
        "print(i)\n",
        "\n",
        "i *= 2\n",
        "print(i)"
      ],
      "execution_count": null,
      "outputs": [
        {
          "output_type": "stream",
          "text": [
            "5\n",
            "6\n",
            "7\n",
            "14\n"
          ],
          "name": "stdout"
        }
      ]
    },
    {
      "cell_type": "markdown",
      "metadata": {
        "id": "VhWVLKiXqaNC"
      },
      "source": [
        "<a id=\"str\"></a>\n",
        "### Strings (str) (IMMUTABLE)"
      ]
    },
    {
      "cell_type": "code",
      "metadata": {
        "id": "0VOMM4kuqaNC"
      },
      "source": [
        "z = 'abcddd' # this is a string"
      ],
      "execution_count": null,
      "outputs": []
    },
    {
      "cell_type": "code",
      "metadata": {
        "id": "TgoFEU23qaNC",
        "outputId": "64ce91d7-08fc-4020-b0d0-e9529cfd4405"
      },
      "source": [
        "# Concatonate and multipy\n",
        "print(z+z)\n",
        "print(z*3)"
      ],
      "execution_count": null,
      "outputs": [
        {
          "output_type": "stream",
          "text": [
            "abcdddabcddd\n",
            "abcdddabcdddabcddd\n"
          ],
          "name": "stdout"
        }
      ]
    },
    {
      "cell_type": "code",
      "metadata": {
        "id": "RCz-WvddqaNC",
        "outputId": "ad9b3df4-0599-4069-cf20-e0f1715794b5"
      },
      "source": [
        "# Index\n",
        "print(z[0])\n",
        "print(z[2])"
      ],
      "execution_count": null,
      "outputs": [
        {
          "output_type": "stream",
          "text": [
            "a\n",
            "c\n"
          ],
          "name": "stdout"
        }
      ]
    },
    {
      "cell_type": "code",
      "metadata": {
        "id": "s52L8cD8qaNC",
        "outputId": "34ea0e81-0f4c-4f3d-e55e-7e8ea0ce47c8"
      },
      "source": [
        "# Slice\n",
        "print(z[1:3])\n",
        "print(z[:3])\n",
        "print(z[::-1]) # reverses a string"
      ],
      "execution_count": null,
      "outputs": [
        {
          "output_type": "stream",
          "text": [
            "bc\n",
            "abc\n",
            "dddcba\n"
          ],
          "name": "stdout"
        }
      ]
    },
    {
      "cell_type": "code",
      "metadata": {
        "id": "qnnMt8MnqaNC",
        "outputId": "d3ea51e9-cb85-4a5b-e00f-c687060c7f8b"
      },
      "source": [
        "# Upper case or lower case\n",
        "print(z.upper()) # z.lower()"
      ],
      "execution_count": null,
      "outputs": [
        {
          "output_type": "stream",
          "text": [
            "ABCDDD\n"
          ],
          "name": "stdout"
        }
      ]
    },
    {
      "cell_type": "code",
      "metadata": {
        "id": "J8VdnXaBqaNC",
        "outputId": "7441d17e-dc57-490a-cfd1-adef5ddbfaf3"
      },
      "source": [
        "# Ask if a string starts with or ends with another string\n",
        "\n",
        "print(z.startswith('abc')) # True\n",
        "print(z.startswith('x')) # False\n",
        "print()\n",
        "\n",
        "print(z.endswith('dd')) # True\n",
        "print(z.endswith('xyz')) # False"
      ],
      "execution_count": null,
      "outputs": [
        {
          "output_type": "stream",
          "text": [
            "True\n",
            "False\n",
            "\n",
            "True\n",
            "False\n"
          ],
          "name": "stdout"
        }
      ]
    },
    {
      "cell_type": "code",
      "metadata": {
        "id": "GTe5lQluqaND",
        "outputId": "f6ac5205-be69-4bfc-f8d8-c742cd4775ab"
      },
      "source": [
        "# Find index\n",
        "print(z.find('z'))\n",
        "print(z.index('z'))"
      ],
      "execution_count": null,
      "outputs": [
        {
          "output_type": "stream",
          "text": [
            "-1\n"
          ],
          "name": "stdout"
        },
        {
          "output_type": "error",
          "ename": "ValueError",
          "evalue": "substring not found",
          "traceback": [
            "\u001b[0;31m---------------------------------------------------------------------------\u001b[0m",
            "\u001b[0;31mValueError\u001b[0m                                Traceback (most recent call last)",
            "\u001b[0;32m<ipython-input-12-a29dd234b218>\u001b[0m in \u001b[0;36m<module>\u001b[0;34m\u001b[0m\n\u001b[1;32m      1\u001b[0m \u001b[0;31m# Find index\u001b[0m\u001b[0;34m\u001b[0m\u001b[0;34m\u001b[0m\u001b[0;34m\u001b[0m\u001b[0m\n\u001b[1;32m      2\u001b[0m \u001b[0mprint\u001b[0m\u001b[0;34m(\u001b[0m\u001b[0mz\u001b[0m\u001b[0;34m.\u001b[0m\u001b[0mfind\u001b[0m\u001b[0;34m(\u001b[0m\u001b[0;34m'z'\u001b[0m\u001b[0;34m)\u001b[0m\u001b[0;34m)\u001b[0m\u001b[0;34m\u001b[0m\u001b[0;34m\u001b[0m\u001b[0m\n\u001b[0;32m----> 3\u001b[0;31m \u001b[0mprint\u001b[0m\u001b[0;34m(\u001b[0m\u001b[0mz\u001b[0m\u001b[0;34m.\u001b[0m\u001b[0mindex\u001b[0m\u001b[0;34m(\u001b[0m\u001b[0;34m'z'\u001b[0m\u001b[0;34m)\u001b[0m\u001b[0;34m)\u001b[0m\u001b[0;34m\u001b[0m\u001b[0;34m\u001b[0m\u001b[0m\n\u001b[0m",
            "\u001b[0;31mValueError\u001b[0m: substring not found"
          ]
        }
      ]
    },
    {
      "cell_type": "code",
      "metadata": {
        "id": "DOW_jkAPqaNE",
        "outputId": "dbfae8e5-554e-4c19-f307-760f3f9cc20f"
      },
      "source": [
        "# Count number of occurances\n",
        "print(z.count('b'))\n",
        "print(z.count('f'))"
      ],
      "execution_count": null,
      "outputs": [
        {
          "output_type": "stream",
          "text": [
            "1\n",
            "0\n"
          ],
          "name": "stdout"
        }
      ]
    },
    {
      "cell_type": "code",
      "metadata": {
        "id": "IoDln_w8qaNE",
        "outputId": "4a12d7e8-b87a-477b-e0eb-38ecb1d8e11e"
      },
      "source": [
        "# Find length\n",
        "print(len(z))"
      ],
      "execution_count": null,
      "outputs": [
        {
          "output_type": "stream",
          "text": [
            "6\n"
          ],
          "name": "stdout"
        }
      ]
    },
    {
      "cell_type": "markdown",
      "metadata": {
        "id": "3OxBqFr-qaNE"
      },
      "source": [
        "<a id=\"list\"></a>\n",
        "### Lists (MUTABLE) and Tuples (IMMUTABLE)"
      ]
    },
    {
      "cell_type": "code",
      "metadata": {
        "id": "EdwWzDznqaNE"
      },
      "source": [
        "y = (1,2,3,4) # this is a tuple (immutable)\n",
        "z = [1,2,3,4] # this is a list (mutable)"
      ],
      "execution_count": null,
      "outputs": []
    },
    {
      "cell_type": "code",
      "metadata": {
        "id": "Y-9yY3msqaNE",
        "outputId": "aa431906-3af7-49d5-c66f-be9b689a4edb"
      },
      "source": [
        "# Concatonate and multiply\n",
        "print(z+z)\n",
        "print(z*3)"
      ],
      "execution_count": null,
      "outputs": [
        {
          "output_type": "stream",
          "text": [
            "[1, 2, 3, 4, 1, 2, 3, 4]\n",
            "[1, 2, 3, 4, 1, 2, 3, 4, 1, 2, 3, 4]\n"
          ],
          "name": "stdout"
        }
      ]
    },
    {
      "cell_type": "code",
      "metadata": {
        "id": "Ex5kZUWSqaNE",
        "outputId": "29d466b1-e59f-49c4-f6c7-1d061642b029"
      },
      "source": [
        "# Index\n",
        "print(z[2])"
      ],
      "execution_count": null,
      "outputs": [
        {
          "output_type": "stream",
          "text": [
            "3\n"
          ],
          "name": "stdout"
        }
      ]
    },
    {
      "cell_type": "code",
      "metadata": {
        "id": "CR5junLDqaNE",
        "outputId": "e327eb26-2feb-422b-9022-844f5452c70a"
      },
      "source": [
        "# Find index\n",
        "print(z.index(2))"
      ],
      "execution_count": null,
      "outputs": [
        {
          "output_type": "stream",
          "text": [
            "1\n"
          ],
          "name": "stdout"
        }
      ]
    },
    {
      "cell_type": "code",
      "metadata": {
        "id": "YgbKk4e0qaNE",
        "outputId": "c771cd67-8529-4d7a-ed2c-b75df18c56d7"
      },
      "source": [
        "# Slice\n",
        "print(z[1:3])\n",
        "print(z[::-1]) # reverses list"
      ],
      "execution_count": null,
      "outputs": [
        {
          "output_type": "stream",
          "text": [
            "[2, 3]\n",
            "[4, 3, 2, 1]\n"
          ],
          "name": "stdout"
        }
      ]
    },
    {
      "cell_type": "code",
      "metadata": {
        "id": "60X-YUzlqaNE",
        "outputId": "888ded67-d5a3-4282-d820-b706eac0a7d3"
      },
      "source": [
        "# Lists are mutable, so items can be added (tuples are immutable so items cannot be added)\n",
        "\n",
        "z.append(5) # add one item at a time with append()\n",
        "print(z)\n",
        "\n",
        "z.extend([6, 7]) # add many items at a time with extend()\n",
        "print(z)"
      ],
      "execution_count": null,
      "outputs": [
        {
          "output_type": "stream",
          "text": [
            "[1, 2, 3, 4, 5]\n",
            "[1, 2, 3, 4, 5, 6, 7]\n"
          ],
          "name": "stdout"
        }
      ]
    },
    {
      "cell_type": "code",
      "metadata": {
        "id": "wkJlYkErqaNE",
        "outputId": "b54d6ba8-81ee-4949-becd-aa6d945ae300"
      },
      "source": [
        "# Lists are mutable and can be edited (tuples are immutable and can't be edited)\n",
        "z[2] = 9\n",
        "print(z)"
      ],
      "execution_count": null,
      "outputs": [
        {
          "output_type": "stream",
          "text": [
            "[1, 2, 9, 4, 5, 6, 7]\n"
          ],
          "name": "stdout"
        }
      ]
    },
    {
      "cell_type": "code",
      "metadata": {
        "id": "-WX6RQrCqaNE",
        "outputId": "dc2c89c8-22ee-4e7a-b874-dd20afb9da01"
      },
      "source": [
        "# Count number of occurances\n",
        "print(z.count(2))"
      ],
      "execution_count": null,
      "outputs": [
        {
          "output_type": "stream",
          "text": [
            "1\n"
          ],
          "name": "stdout"
        }
      ]
    },
    {
      "cell_type": "code",
      "metadata": {
        "id": "lXTk7jsJqaNE",
        "outputId": "12c7b19b-2a2a-4d5d-eb7f-88c99bf99500"
      },
      "source": [
        "# Find length\n",
        "print(len(z))"
      ],
      "execution_count": null,
      "outputs": [
        {
          "output_type": "stream",
          "text": [
            "7\n"
          ],
          "name": "stdout"
        }
      ]
    },
    {
      "cell_type": "code",
      "metadata": {
        "id": "RCGmeCsgqaNF",
        "outputId": "30fef465-3616-41b1-d66b-0ad80f0d4c34"
      },
      "source": [
        "# Find maximum and minimum\n",
        "print(max(z))\n",
        "print(min(z))"
      ],
      "execution_count": null,
      "outputs": [
        {
          "output_type": "stream",
          "text": [
            "9\n",
            "1\n"
          ],
          "name": "stdout"
        }
      ]
    },
    {
      "cell_type": "code",
      "metadata": {
        "id": "n_IBSWYuqaNF",
        "outputId": "b0419423-fdaa-4812-c35c-57f2069386e0"
      },
      "source": [
        "# Find the sum of all integers and floats in a list or tuple\n",
        "print(sum(z))"
      ],
      "execution_count": null,
      "outputs": [
        {
          "output_type": "stream",
          "text": [
            "34\n"
          ],
          "name": "stdout"
        }
      ]
    },
    {
      "cell_type": "code",
      "metadata": {
        "id": "1f9U9T7EqaNG",
        "outputId": "537e6ace-1448-4231-d720-2517f1d31c6a"
      },
      "source": [
        "# Index lists/tuples within lists/tuples\n",
        "a = ['a', 'b', 'c', ('x', 'y')]\n",
        "print(a[3][1])"
      ],
      "execution_count": null,
      "outputs": [
        {
          "output_type": "stream",
          "text": [
            "y\n"
          ],
          "name": "stdout"
        }
      ]
    },
    {
      "cell_type": "markdown",
      "metadata": {
        "id": "GARSDe7nqaNH"
      },
      "source": [
        "<a id=\"bool\"></a>\n",
        "### Booleans (bool) (IMMUTABLE)"
      ]
    },
    {
      "cell_type": "code",
      "metadata": {
        "id": "u8MVn1nZqaNH"
      },
      "source": [
        "# True and False\n",
        "# \"Everything that isn't False is True\"\n",
        "# The False things:  0, 0.0, '', [], () ,{}, False , None"
      ],
      "execution_count": null,
      "outputs": []
    },
    {
      "cell_type": "code",
      "metadata": {
        "id": "ccNqO1VLqaNH"
      },
      "source": [
        "# >\n",
        "# <\n",
        "# >=\n",
        "# <=\n",
        "# ==     # because the single equals sign is taken already!\n",
        "# !=     # not equal to\n",
        "# and\n",
        "# or\n",
        "# in\n",
        "# not in"
      ],
      "execution_count": null,
      "outputs": []
    },
    {
      "cell_type": "code",
      "metadata": {
        "id": "i2b_gs0KqaNH",
        "outputId": "e69476a8-20fc-406b-d0d3-eb611c388cd6"
      },
      "source": [
        "print(4 == 4) # True\n",
        "print(4 != 4) # False\n",
        "print(5 > 7) # False\n",
        "print(9 <= 9) # True\n",
        "print()\n",
        "\n",
        "print(4 == 4 and 3 == 3) # True\n",
        "print(4 == 4 and 3 != 3) # False\n",
        "print(4 == 4 or 3 != 3) # True\n",
        "print(0 > 4 or 8 >= 7) # True\n",
        "print()\n",
        "\n",
        "print(5 in [1, 2, 3, 4, 5]) # True\n",
        "print(5 in [1, 2, 3, 4]) # False\n",
        "print(5 not in [1, 2, 3, 4, 5]) # False\n",
        "print(5 not in [1, 2, 3, 4]) # True\n",
        "print()\n",
        "\n",
        "if 0.0 == False:\n",
        "    print('0.0 is False')\n",
        "    \n",
        "# better but maybe confusing\n",
        "if not 0.0:\n",
        "    print('0.0 is False')"
      ],
      "execution_count": null,
      "outputs": [
        {
          "output_type": "stream",
          "text": [
            "True\n",
            "False\n",
            "False\n",
            "True\n",
            "\n",
            "True\n",
            "False\n",
            "True\n",
            "True\n",
            "\n",
            "True\n",
            "False\n",
            "False\n",
            "True\n",
            "\n",
            "0.0 is False\n",
            "0.0 is False\n"
          ],
          "name": "stdout"
        }
      ]
    },
    {
      "cell_type": "markdown",
      "metadata": {
        "id": "TNNqGYOoqaNH"
      },
      "source": [
        "<a id=\"convert\"></a>\n",
        "## Converting between data types"
      ]
    },
    {
      "cell_type": "code",
      "metadata": {
        "id": "KdnkOifVqaNH"
      },
      "source": [
        "myInt = 4\n",
        "myFloat = 4.368\n",
        "myString = 'abcd'\n",
        "myList = ['1', '2', '3']"
      ],
      "execution_count": null,
      "outputs": []
    },
    {
      "cell_type": "code",
      "metadata": {
        "id": "DNI-7vPrqaNH",
        "outputId": "3fde23e0-4b9e-430c-f229-001a8c8eb62a"
      },
      "source": [
        "# Check the type of the variable using type()\n",
        "print(type(myInt))\n",
        "print(type(myFloat))\n",
        "print(type(myString))\n",
        "print(type(myList))"
      ],
      "execution_count": null,
      "outputs": [
        {
          "output_type": "stream",
          "text": [
            "<class 'int'>\n",
            "<class 'float'>\n",
            "<class 'str'>\n",
            "<class 'list'>\n"
          ],
          "name": "stdout"
        }
      ]
    },
    {
      "cell_type": "code",
      "metadata": {
        "id": "YbobqZaeqaNI",
        "outputId": "ac4b275e-90d3-4f93-a6ab-cc56f4400b50"
      },
      "source": [
        "# Simple ways to convert ints and floats using float(), int(), str()\n",
        "print(float(myInt))\n",
        "print(int(myFloat))\n",
        "print(str(myFloat))"
      ],
      "execution_count": null,
      "outputs": [
        {
          "output_type": "stream",
          "text": [
            "4.0\n",
            "4\n",
            "4.368\n"
          ],
          "name": "stdout"
        }
      ]
    },
    {
      "cell_type": "code",
      "metadata": {
        "id": "4mZayxH4qaNI",
        "outputId": "261220f3-5ac8-4e3e-b587-af521109810a"
      },
      "source": [
        "# Convert from a list to a string using .join()\n",
        "print(''.join(myList))\n",
        "print(' '.join(myList))\n",
        "print('\\t'.join(myList)) # \\t is how you indicate tabs\n",
        "print('\\n'.join(myList)) # \\n is how you indicate new lines (enters)"
      ],
      "execution_count": null,
      "outputs": [
        {
          "output_type": "stream",
          "text": [
            "123\n",
            "1 2 3\n",
            "1\t2\t3\n",
            "1\n",
            "2\n",
            "3\n"
          ],
          "name": "stdout"
        }
      ]
    },
    {
      "cell_type": "code",
      "metadata": {
        "id": "aBuT8uQRqaNI",
        "outputId": "3eb046a5-63f3-4ccc-af13-ba33a9f3316b"
      },
      "source": [
        "# Convert a string to a list using list() or .split()\n",
        "print(list(myString))\n",
        "\n",
        "myNewString = '1-2-3' # ['1', '2', '3']\n",
        "print(myNewString.split('-'))\n",
        "\n",
        "myNewString2 = '1 2 3'\n",
        "print(myNewString2.split(' '))"
      ],
      "execution_count": null,
      "outputs": [
        {
          "output_type": "stream",
          "text": [
            "['a', 'b', 'c', 'd']\n",
            "['1', '2', '3']\n",
            "['1', '2', '3']\n"
          ],
          "name": "stdout"
        }
      ]
    },
    {
      "cell_type": "markdown",
      "metadata": {
        "id": "BRiqtJv7qaNI"
      },
      "source": [
        "<a id=\"practice\"></a>\n",
        "## Let's practice!"
      ]
    },
    {
      "cell_type": "markdown",
      "metadata": {
        "id": "W2XX3p_UqaNI"
      },
      "source": [
        "### Exercise 1"
      ]
    },
    {
      "cell_type": "code",
      "metadata": {
        "id": "GLtmSJjTqaNI"
      },
      "source": [
        "myList1 = [1, 2, 3, 4, 5, 6]"
      ],
      "execution_count": null,
      "outputs": []
    },
    {
      "cell_type": "markdown",
      "metadata": {
        "id": "REYGRT7sqaNI"
      },
      "source": [
        "**1.a.** Without initializing any new variables and only using <code>myList1</code>, print out <code>[4, 5, 6, 1, 2, 3]</code>"
      ]
    },
    {
      "cell_type": "code",
      "metadata": {
        "id": "5Q6drRwlqaNI",
        "outputId": "a0f24b11-1d4e-4a2a-cc9b-3cccdb350b0e"
      },
      "source": [
        "print(myList1[3:] + myList1[:3])\n"
      ],
      "execution_count": null,
      "outputs": [
        {
          "output_type": "stream",
          "text": [
            "[4, 5, 6, 1, 2, 3]\n"
          ],
          "name": "stdout"
        }
      ]
    },
    {
      "cell_type": "markdown",
      "metadata": {
        "id": "ktymQZ2zqaNI"
      },
      "source": [
        "**1.b.** Without initializing any new variables and only using <code>myList1</code>, print out <code>[4, 5, 6, 3, 2, 1]</code>"
      ]
    },
    {
      "cell_type": "code",
      "metadata": {
        "id": "cAHizYD6qaNI",
        "outputId": "2e7fe2e3-0ecd-4b02-b098-ec6e123c2659"
      },
      "source": [
        "print(myList1[3:] + myList1[2::-1])"
      ],
      "execution_count": null,
      "outputs": [
        {
          "output_type": "stream",
          "text": [
            "[4, 5, 6, 3, 2, 1]\n"
          ],
          "name": "stdout"
        }
      ]
    },
    {
      "cell_type": "markdown",
      "metadata": {
        "id": "nW0j7mDWqaNI"
      },
      "source": [
        "### Exercise 2"
      ]
    },
    {
      "cell_type": "code",
      "metadata": {
        "id": "ZIjIw12EqaNI"
      },
      "source": [
        "myList2 = ['This', 'is', 'BIOS274.', ['It is a', 'fun class!']]"
      ],
      "execution_count": null,
      "outputs": []
    },
    {
      "cell_type": "markdown",
      "metadata": {
        "id": "RtuhJNMxqaNI"
      },
      "source": [
        "**2.a.** Without initializing any new variables and only using <code>myList2</code>, print out <code>'2'</code>."
      ]
    },
    {
      "cell_type": "code",
      "metadata": {
        "id": "5MNdZyT-qaNI",
        "outputId": "0e2e12a2-2e8c-4600-bdba-d873dd9eff86"
      },
      "source": [
        "# YOUR SOLUTION HERE\n",
        "print(myList2.index('BIOS274.'))"
      ],
      "execution_count": null,
      "outputs": [
        {
          "output_type": "stream",
          "text": [
            "2\n"
          ],
          "name": "stdout"
        }
      ]
    },
    {
      "cell_type": "markdown",
      "metadata": {
        "id": "poOeMsyoqaNI"
      },
      "source": [
        "**2.b.** Print out only <code>'fun class!'</code>."
      ]
    },
    {
      "cell_type": "code",
      "metadata": {
        "id": "QRMlr11yqaNI"
      },
      "source": [
        "# YOUR SOLUTION HERE\n"
      ],
      "execution_count": null,
      "outputs": []
    },
    {
      "cell_type": "markdown",
      "metadata": {
        "id": "Lr6xTZ7vqaNI"
      },
      "source": [
        "**2.c.** Print out <code>'This is BIOS274. It is a fun class!'</code>"
      ]
    },
    {
      "cell_type": "code",
      "metadata": {
        "id": "jEvJs0cTqaNI"
      },
      "source": [
        "# YOUR SOLUTION HERE\n"
      ],
      "execution_count": null,
      "outputs": []
    },
    {
      "cell_type": "markdown",
      "metadata": {
        "id": "sKG7-TfoqaNI"
      },
      "source": [
        "### Exercise 3"
      ]
    },
    {
      "cell_type": "markdown",
      "metadata": {
        "id": "GtXp3WoJqaNI"
      },
      "source": [
        "Calulate the sum of the 3rd and the 5th numbers in the list below and append the result to the end of the <code>myList3</code>."
      ]
    },
    {
      "cell_type": "code",
      "metadata": {
        "id": "N_Oyk-CUqaNI"
      },
      "source": [
        "myList3 = ['4', '6', '2', '1', '8', '7', '3']"
      ],
      "execution_count": null,
      "outputs": []
    },
    {
      "cell_type": "code",
      "metadata": {
        "id": "F2qzmOMWqaNI"
      },
      "source": [
        "# YOUR SOLUTION HERE\n"
      ],
      "execution_count": null,
      "outputs": []
    },
    {
      "cell_type": "markdown",
      "metadata": {
        "id": "eSCXxk13qaNJ"
      },
      "source": [
        "### Exercise 4"
      ]
    },
    {
      "cell_type": "markdown",
      "metadata": {
        "id": "dqBvJxuFqaNJ"
      },
      "source": [
        "**4.a.** What percentage of the items in <code>myList4</code> is equal to <code>3</code>?<br>\n",
        "**4.b.** What percentage of the items in <code>myList4</code> is equal to <code>4</code>?<br>\n",
        "**4.c.** What percentage of the items in <code>myList4</code> is equal to <code>5</code>?<br>"
      ]
    },
    {
      "cell_type": "code",
      "metadata": {
        "id": "WhzXW3azqaNJ"
      },
      "source": [
        "myList4 = [3, 3, 4, 4, 4, 3, 5, 4, 4, 4, 5, 5, 5, 4, 5, 3, 5, 4, 3, 3, 4, 3, 5, 4, 3, 3, 5, 3, 4, 4, 4, 4, 3, 5]"
      ],
      "execution_count": null,
      "outputs": []
    },
    {
      "cell_type": "code",
      "metadata": {
        "id": "uNpUbG28qaNJ"
      },
      "source": [
        "# YOUR SOLUTION HERE\n"
      ],
      "execution_count": null,
      "outputs": []
    },
    {
      "cell_type": "markdown",
      "metadata": {
        "id": "CIpO1e2mqaNJ"
      },
      "source": [
        "### Exercise 5"
      ]
    },
    {
      "cell_type": "markdown",
      "metadata": {
        "id": "JqVSwCSDqaNJ"
      },
      "source": [
        "**5.a.** Using only <code>myString1</code> and without initializing any new variables, print out: <code>['ab', 'ab', 'ab', 'ab', 'ab', 'ab']</code><br> \n",
        "**5.b.** Using only <code>myString1</code> and without initializing any new variables, print out: <code>'bCbC'</code><br>\n",
        "<br>\n",
        "Try to solve **5.a** and **5.b.** in multiple ways."
      ]
    },
    {
      "cell_type": "code",
      "metadata": {
        "id": "nNnfD2jGqaNJ"
      },
      "source": [
        "myString1 = 'abCabCab'"
      ],
      "execution_count": null,
      "outputs": []
    },
    {
      "cell_type": "code",
      "metadata": {
        "id": "pq19GXA4qaNJ"
      },
      "source": [
        "# YOUR SOLUTION HERE\n"
      ],
      "execution_count": null,
      "outputs": []
    },
    {
      "cell_type": "markdown",
      "metadata": {
        "id": "1DrZYgbmqaNJ"
      },
      "source": [
        "### Exercise 6"
      ]
    },
    {
      "cell_type": "markdown",
      "metadata": {
        "id": "goFJWpfVqaNJ"
      },
      "source": [
        "Find the index of the second <code>'a'</code> in <code>myString2</code>.\n",
        "> Try using <code>s.index()</code>!<br>\n",
        "> Try using <code>s.replace()</code>!<br>\n",
        "> Try using slicing!"
      ]
    },
    {
      "cell_type": "code",
      "metadata": {
        "id": "gW06lwD6qaNK"
      },
      "source": [
        "myString2 = 'BBnBBBBBaCCCCCaDDDDDDDnDDDDDaEnEE'"
      ],
      "execution_count": null,
      "outputs": []
    },
    {
      "cell_type": "code",
      "metadata": {
        "id": "JSfrQbnMqaNK"
      },
      "source": [
        "# YOUR SOLUTION HERE\n"
      ],
      "execution_count": null,
      "outputs": []
    },
    {
      "cell_type": "markdown",
      "metadata": {
        "id": "_DFKxHCbqaNK"
      },
      "source": [
        "### Exercise 7"
      ]
    },
    {
      "cell_type": "markdown",
      "metadata": {
        "id": "Sr-8GIinqaNK"
      },
      "source": [
        "**7.a.** Which of these three homeobox transcription factors will bind to the sequence defined in <code>seq1</code>?\n",
        "\n",
        ">- <code>CRX</code> recognizes <code>TAATCC</code><br>\n",
        ">- <code>DBX1</code> recognizes <code>ATTAATTA</code> or <code>TTTAATTA</code><br>\n",
        ">- <code>PKNOX2</code> recognizes <code>TGACAGCTGTCA</code> or <code>TGACAGGTGTCA</code><br>"
      ]
    },
    {
      "cell_type": "markdown",
      "metadata": {
        "id": "I57gChw6qaNK"
      },
      "source": [
        "Please print the name of the transcription factor followed by <code>True</code> if it will bind or <code>False</code> if it will not bind as shown below.<br>\n",
        "\n",
        "\n",
        "<code>CRX:     True\n",
        " DBX1:\tFalse\n",
        " PKNOX2:  True\n",
        "</code>"
      ]
    },
    {
      "cell_type": "code",
      "metadata": {
        "id": "aqEqgWnXqaNK"
      },
      "source": [
        "seq1 = 'gGgctAatCcaccCCccagtacCcAcatgacaGgtGtcaccctagcTtaAtcccCgccatcgatcaaccttTagC'"
      ],
      "execution_count": null,
      "outputs": []
    },
    {
      "cell_type": "code",
      "metadata": {
        "id": "QOTdrNoDqaNK"
      },
      "source": [
        "# YOUR SOLUTION HERE\n"
      ],
      "execution_count": null,
      "outputs": []
    },
    {
      "cell_type": "markdown",
      "metadata": {
        "id": "Kw-FEwE2qaNK"
      },
      "source": [
        "**7.b** Do all three of these transcription factors bind <code>seq2</code>?  Print <code>True</code> if they all do and <code>False</code> if not.<br>\n",
        "**7.c** Do all three bind <code>seq3</code>?"
      ]
    },
    {
      "cell_type": "code",
      "metadata": {
        "id": "Ayq4ua7VqaNK"
      },
      "source": [
        "seq2 = 'gGgctTaaTCccCccagtacCcAcaTttAaTtatGtcaCcctagcTgacagCTgtcacgCCatcgatcaaccttTagC'\n",
        "seq3 = 'ggtatatccggccgataATtatatAagcgcgccccTgaCAgcTgtCAtaatatcgatcgatcaGGagcggctatAtagcgcgcGatcagcagcctcga'"
      ],
      "execution_count": null,
      "outputs": []
    },
    {
      "cell_type": "code",
      "metadata": {
        "id": "KPVghxmgqaNK"
      },
      "source": [
        "# YOUR SOLUTION HERE\n"
      ],
      "execution_count": null,
      "outputs": []
    },
    {
      "cell_type": "markdown",
      "metadata": {
        "id": "rZ-wLnA4qaNK"
      },
      "source": [
        "### Exercise 8"
      ]
    },
    {
      "cell_type": "markdown",
      "metadata": {
        "id": "T7-GnOU7qaNK"
      },
      "source": [
        "**8.a.** How many integers appear in <code>myList5</code>?<br>\n",
        "**8.b.** How many floats appear in <code>myList5</code>?<br>\n",
        "**8.c.** How many integers appear in <code>myList5</code>?"
      ]
    },
    {
      "cell_type": "code",
      "metadata": {
        "id": "vq20VE_LqaNK"
      },
      "source": [
        "myList5 = ['apple', 'a', 1, 5, 'o', 3.4, 7.8, 5, 2, 7, 8, 1, 3.5, 6, 'a', 'hello', True, 7, 9, 3.0, 1, 5, False]"
      ],
      "execution_count": null,
      "outputs": []
    },
    {
      "cell_type": "code",
      "metadata": {
        "id": "91JjY9NSqaNK"
      },
      "source": [
        "# YOUR SOLUTION HERE\n",
        "\n",
        "# Start with this code.\n",
        "\n",
        "# You won't actually need to print each item in the list, \n",
        "#     so comment out the print statement once you understand the code.\n",
        "\n",
        "for item in myList5:\n",
        "    print(item)"
      ],
      "execution_count": null,
      "outputs": []
    }
  ]
}