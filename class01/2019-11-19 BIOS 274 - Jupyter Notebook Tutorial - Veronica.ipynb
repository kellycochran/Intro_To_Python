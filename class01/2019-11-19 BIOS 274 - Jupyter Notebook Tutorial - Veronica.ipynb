{
  "nbformat": 4,
  "nbformat_minor": 0,
  "metadata": {
    "kernelspec": {
      "display_name": "Python 3",
      "language": "python",
      "name": "python3"
    },
    "language_info": {
      "codemirror_mode": {
        "name": "ipython",
        "version": 3
      },
      "file_extension": ".py",
      "mimetype": "text/x-python",
      "name": "python",
      "nbconvert_exporter": "python",
      "pygments_lexer": "ipython3",
      "version": "3.7.3"
    },
    "colab": {
      "name": "2019-11-19 BIOS 274 - Jupyter Notebook Tutorial - Veronica.ipynb",
      "provenance": [],
      "include_colab_link": true
    }
  },
  "cells": [
    {
      "cell_type": "markdown",
      "metadata": {
        "id": "view-in-github",
        "colab_type": "text"
      },
      "source": [
        "<a href=\"https://colab.research.google.com/github/kellycochran/Intro_To_Python/blob/main/class01/2019-11-19%20BIOS%20274%20-%20Jupyter%20Notebook%20Tutorial%20-%20Veronica.ipynb\" target=\"_parent\"><img src=\"https://colab.research.google.com/assets/colab-badge.svg\" alt=\"Open In Colab\"/></a>"
      ]
    },
    {
      "cell_type": "markdown",
      "metadata": {
        "id": "XefFRHULrTG_"
      },
      "source": [
        "# Jupyter Notebook Tutorial"
      ]
    },
    {
      "cell_type": "markdown",
      "metadata": {
        "id": "ZbE9yunurTG_"
      },
      "source": [
        "**11/19/2019<br>\n",
        "BIOS 274: Introductory Python Programming for Genomics**<br>"
      ]
    },
    {
      "cell_type": "markdown",
      "metadata": {
        "id": "_B3H0oKyrTG_"
      },
      "source": [
        "## Opening a Jupyter Notebook"
      ]
    },
    {
      "cell_type": "markdown",
      "metadata": {
        "id": "ppEL9hXbrTG_"
      },
      "source": [
        "#1. Type <code>jupyter notebook</code> into the terminal. (Mac)<br><br>\n",
        "&emsp;&ensp;&ensp;&ensp;&ensp;&ensp;&ensp;&ensp;&ensp;&ensp;&ensp;OR<br>\n",
        "#1. Open the \"Anaconda Navigator\" app and \"Launch\" a Jupyter Notebook. (Windows or Mac)<br>\n",
        "\n",
        "#2. Your internet browser will open, and you'll see the folders/files on your computer:\n",
        "![Screen%20Shot%202019-11-12%20at%206.47.32%20PM.png](attachment:Screen%20Shot%202019-11-12%20at%206.47.32%20PM.png)<br>\n",
        "\n",
        "#3. In the upper right corner, \"New\" --> \"Python 3\""
      ]
    },
    {
      "cell_type": "markdown",
      "metadata": {
        "id": "vyNy3OJjrTG_"
      },
      "source": [
        "## The Basics of Jupyter Notebooks"
      ]
    },
    {
      "cell_type": "markdown",
      "metadata": {
        "id": "qlw_llW4rTG_"
      },
      "source": [
        "#1. Jupyter Notebooks are made up of cells.  You run each cell of code separately.<br><br>\n",
        "&emsp;&emsp;To **run the code in a cell**:<br>\n",
        "&emsp;&emsp;&emsp;&emsp;a. Click anywhere within the cell<br>\n",
        "    &emsp;&emsp;&emsp;&emsp;b. Hold down \"shift\" and hit \"enter\""
      ]
    },
    {
      "cell_type": "code",
      "metadata": {
        "id": "ZuxRJCqErTHA"
      },
      "source": [
        "# Run this cell!\n",
        "print('hello')"
      ],
      "execution_count": null,
      "outputs": []
    },
    {
      "cell_type": "markdown",
      "metadata": {
        "id": "7_jfbIyjrTHA"
      },
      "source": [
        "#2. To **rename** your notebook, click on the current title and type a new name.<br>\n",
        "![Screen%20Shot%202019-11-12%20at%206.09.46%20PM.png](attachment:Screen%20Shot%202019-11-12%20at%206.09.46%20PM.png)<br>\n",
        "#3. To **save** your notebook, hit the \"Floppy disk\"<br>\n",
        "#4. To **add a cell** to your notebook, hit the \"Plus\"<br>\n",
        "#5. To **remove a cell** from your notebook, hit the \"Scissors\"<br>\n",
        "![Screen%20Shot%202019-11-12%20at%204.37.26%20PM.png](attachment:Screen%20Shot%202019-11-12%20at%204.37.26%20PM.png)\n",
        "#6 To **move a cell** up or down, use the \"Arrows\"<br>\n",
        "![Screen%20Shot%202019-11-13%20at%202.53.19%20PM.png](attachment:Screen%20Shot%202019-11-13%20at%202.53.19%20PM.png)"
      ]
    },
    {
      "cell_type": "code",
      "metadata": {
        "id": "YMiYndNNrTHA"
      },
      "source": [
        "# Add two cells below.\n",
        "# Delete one of the them.\n",
        "# In the remaining cell, print out the phrase \"hi there\""
      ],
      "execution_count": null,
      "outputs": []
    },
    {
      "cell_type": "markdown",
      "metadata": {
        "id": "XOHYCuBsrTHB"
      },
      "source": [
        "#7. To **interrupt a cell** while it's executing:  Hit the \"Square\"<br>\n",
        "![Screen%20Shot%202019-11-12%20at%204.30.32%20PM.png](attachment:Screen%20Shot%202019-11-12%20at%204.30.32%20PM.png)<br>\n",
        "\n",
        "#8. To **clear the output of all cells** in the entire notebook: \"Kernel\" --> \"Restart & Clear Output\"<br>\n",
        "#9. To **run all cells** in the entire notebook:  \"Kernel\" --> \"Restart & Run All\" or \"Cell\" --> \"Run All\"<br>\n",
        "#10. To **see all the keyboard shortcuts**:  \"Help\" --> \"Keyboard Shortcuts\""
      ]
    },
    {
      "cell_type": "code",
      "metadata": {
        "id": "wtHfT3d7rTHB"
      },
      "source": [
        "# Run this cell and then interrupt it before it's done executing\n",
        "\n",
        "for number in range(100000000):\n",
        "    print(number)"
      ],
      "execution_count": null,
      "outputs": []
    },
    {
      "cell_type": "markdown",
      "metadata": {
        "id": "-VsJsS-SrTHB"
      },
      "source": [
        "## Helpful features within Jupyter Notebooks"
      ]
    },
    {
      "cell_type": "markdown",
      "metadata": {
        "id": "-8qqQP6urTHB"
      },
      "source": [
        "**How to get help:**\n",
        "\n",
        "&emsp;&emsp;*1. Reference the official documentation:  https://docs.python.org/3.7/contents.html*<br>\n",
        "&emsp;&emsp;&emsp;&emsp;For example, the \"Data Structures\" chapter (https://docs.python.org/3.7/tutorial/datastructures.html) may be helpful for material in the first week!\n",
        "\n",
        "\n",
        "&emsp;&emsp;*2. Use Jupyter Notebooks to your advantage!*<br>\n",
        "   &emsp;&emsp;&emsp;&emsp;a. Use <code>help()</code> or \"shift\" \"tab\" to view documentation<br>\n",
        "   &emsp;&emsp;&emsp;&emsp;b. See all the available methods by hitting \"tab\" after a <code>.</code><br>\n",
        "   &emsp;&emsp;&emsp;&emsp;c. Use \"tab\" to autocomplete<br>"
      ]
    },
    {
      "cell_type": "code",
      "metadata": {
        "id": "u-a0JpE1rTHB"
      },
      "source": [
        "myList = [1, 2, 3, 4, 5, 6]\n",
        "print(myList)\n",
        "\n",
        "myList.append(7)\n",
        "print(myList)"
      ],
      "execution_count": null,
      "outputs": []
    },
    {
      "cell_type": "code",
      "metadata": {
        "id": "EGRF-OnkrTHB"
      },
      "source": [
        "# How to use help()\n",
        "help(myList.append)"
      ],
      "execution_count": null,
      "outputs": []
    },
    {
      "cell_type": "code",
      "metadata": {
        "id": "uITzmeyDrTHB"
      },
      "source": [
        "# How to get the info from help() another way\n",
        "\n",
        "# Put your cursor within the parentheses and hit \"shift\" \"tab\".  Hit the \"plus\" sign to see more!\n",
        "myList.append()"
      ],
      "execution_count": null,
      "outputs": []
    },
    {
      "cell_type": "code",
      "metadata": {
        "id": "aXEwXHGcrTHB"
      },
      "source": [
        "#Put your cursor after myList. and hit \"tab\". Look at all the options (including .append)!\n",
        "myList.\n",
        "\n",
        "#Put your cursor after myL and hit \"tab\".  Autocomplete is really useful!\n",
        "myL"
      ],
      "execution_count": null,
      "outputs": []
    },
    {
      "cell_type": "markdown",
      "metadata": {
        "id": "schkmaUVrTHB"
      },
      "source": [
        "**Exercise:**\n",
        "1. Change the size of the points in the scatter plot!<br>\n",
        "2. Change the color of the points to red!<br>\n",
        "3. How would you make a histogram?"
      ]
    },
    {
      "cell_type": "code",
      "metadata": {
        "id": "DoNjbFIcrTHB"
      },
      "source": [
        "#This should allow you to see plots within the Jupyter Notebook\n",
        "%pylab inline\n",
        "\n",
        "# If the above doesn't work, uncomment the next two lines\n",
        "#import pylab as plt\n",
        "#import matplotlib"
      ],
      "execution_count": null,
      "outputs": []
    },
    {
      "cell_type": "code",
      "metadata": {
        "id": "lYB3O9bbrTHB"
      },
      "source": [
        "# This will make a scatter plot!\n",
        "\n",
        "# Change the size of the points\n",
        "# Change the color of the points to red\n",
        "\n",
        "plt.scatter([1, 2, 3, 4, 5, 6], [3, 5, 4, 7, 2, 3])"
      ],
      "execution_count": null,
      "outputs": []
    },
    {
      "cell_type": "code",
      "metadata": {
        "id": "TEXVgVOWrTHB"
      },
      "source": [
        "# Make a histogram of the data in myData!\n",
        "# Explore the various options.  How would you reduce the number of bins?\n",
        "\n",
        "myData = [5, 3, 4, 2, 8, 3, 2, 2, 6, 9, 3, 7, 7, 10, 2, 10, 5, 5, 5, 7, 3, 9, 10, 2, 3, 4, 3, 1, 7, 9, 3, 3, 10, 7, 10, 6, 9, 9, 9, 3, 3, 5, 9, 1, 7, 2, 9, 4, 10, 7, 6, 3, 10, 5, 5, 8, 4, 8, 3, 3, 8, 3, 4, 9, 9, 2, 1, 4, 9, 10, 3, 1, 7, 10, 3, 10, 6, 1, 3, 1, 4, 3, 10, 9, 4, 1, 10, 8, 3, 10, 1, 1, 8, 3, 7, 4, 9, 2, 1, 6, 8, 9, 6, 5, 1, 4, 4, 4, 10, 1, 2, 10, 3, 2, 6, 10, 3, 4, 6, 8, 6, 3, 2, 8, 7, 5, 10, 9, 2, 10, 9, 5, 9, 5, 2, 8, 7, 4, 6, 7, 4, 3, 7, 5, 2, 1, 9, 10, 7, 8]\n",
        "plt.      # finish this line of code to make a histogram!"
      ],
      "execution_count": null,
      "outputs": []
    },
    {
      "cell_type": "markdown",
      "metadata": {
        "id": "8S5GIXTcrTHB"
      },
      "source": [
        "## Exporting your Jupyter Notebooks as another type of document"
      ]
    },
    {
      "cell_type": "markdown",
      "metadata": {
        "id": "yyt3bV4TrTHB"
      },
      "source": [
        "Please submit your problem sets and project as both <code>.ipynb</code> and <code>.html</code> files!<br>\n",
        "\n",
        "\"File\" --> \"Download as\" --> \"HTML\""
      ]
    },
    {
      "cell_type": "markdown",
      "metadata": {
        "id": "x6wEeZK7rTHB"
      },
      "source": [
        "## Other less important (but potentially useful) features"
      ]
    },
    {
      "cell_type": "markdown",
      "metadata": {
        "id": "iHMg96omrTHB"
      },
      "source": [
        "#1. Add or remove line numbers:  \"View\" --> \"Toggle Line Numbers\"<br>\n",
        "#2. Add text (Markdown) or headers (Heading) by toggling the box pictured below<br>\n",
        "![Screen%20Shot%202019-11-12%20at%206.35.02%20PM.png](attachment:Screen%20Shot%202019-11-12%20at%206.35.02%20PM.png)<br>\n",
        "#3. Select multiple cells by holding \"Shift\" and pressing the \"up\" or \"down\" arrow<br>\n",
        "#4. Comment or uncomment multiple lines of code with \"Control\" + \"/\" or \"Command\" + \"/\""
      ]
    },
    {
      "cell_type": "code",
      "metadata": {
        "id": "2Z--dwmzrTHB"
      },
      "source": [
        "Change this cell to Markdown"
      ],
      "execution_count": null,
      "outputs": []
    },
    {
      "cell_type": "code",
      "metadata": {
        "id": "EcJ2dRvdrTHB"
      },
      "source": [
        "Make this cell a header"
      ],
      "execution_count": null,
      "outputs": []
    }
  ]
}