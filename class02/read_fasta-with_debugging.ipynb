{
 "cells": [
  {
   "cell_type": "code",
   "execution_count": null,
   "metadata": {},
   "outputs": [],
   "source": [
    "def read_fasta(fasta_filename):\n",
    "    '''\n",
    "    Go through file, reading one line at a time, using a\n",
    "    dictionary to store the DNA sequence for each of the FASTA\n",
    "    entries (Gavin Sherlock, November 28, 2019)\n",
    "    \n",
    "    Remove all lines that end with '# just for testing' after \n",
    "    you understand what this function is doing\n",
    "    '''    \n",
    "    with open(fasta_filename, mode='r') as fasta_file:\n",
    "\n",
    "        sequences = {}\n",
    "        currSeqName = '' # just for testing\n",
    "        linecount = 0 # just for testing\n",
    "        \n",
    "        for line in fasta_file:\n",
    "            line = line.rstrip()\n",
    "            linecount += 1 # just for testing\n",
    "            #if linecount < 22 or linecount > 100: # just for testing\n",
    "            #    print(line, '*' + str(currSeqName) + '*') # just for testing\n",
    "            #if linecount == 22: # just for testing\n",
    "            #    print('*********************') # just for testing\n",
    "            print(line, '|', currSeqName, '|', linecount) # just for testing 2\n",
    "            input('next:') # just for testing 2\n",
    "            if line.startswith('>'): # it's a new fasta record\n",
    "                line = line.lstrip('>') #line = line[1:]\n",
    "                sequences[line] = '' # intialize dictionary for this entry\n",
    "                currSeqName = line\n",
    "            else:\n",
    "                sequences[currSeqName] += line\n",
    "\n",
    "    return(sequences)"
   ]
  },
  {
   "cell_type": "code",
   "execution_count": null,
   "metadata": {},
   "outputs": [],
   "source": [
    "read_seqs = read_fasta('rosalind_dna.fsa')\n",
    "print('Read', len(read_seqs), 'sequences')"
   ]
  },
  {
   "cell_type": "code",
   "execution_count": null,
   "metadata": {},
   "outputs": [],
   "source": []
  }
 ],
 "metadata": {
  "kernelspec": {
   "display_name": "Python 3",
   "language": "python",
   "name": "python3"
  },
  "language_info": {
   "codemirror_mode": {
    "name": "ipython",
    "version": 3
   },
   "file_extension": ".py",
   "mimetype": "text/x-python",
   "name": "python",
   "nbconvert_exporter": "python",
   "pygments_lexer": "ipython3",
   "version": "3.7.3"
  }
 },
 "nbformat": 4,
 "nbformat_minor": 2
}
