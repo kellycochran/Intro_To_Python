{
 "cells": [
  {
   "cell_type": "markdown",
   "metadata": {},
   "source": [
    "# BIOS-274 : November 20 : Class 3\n",
    "Data types and manipulations: dictionary, set\n",
    "\n",
    "Conditional statements:  if, elif, else\n",
    "\n",
    "Comments and style: [https://realpython.com/python-pep8/]\n"
   ]
  },
  {
   "cell_type": "code",
   "execution_count": 1,
   "metadata": {},
   "outputs": [],
   "source": [
    "# Python style\n",
    "#\n",
    "# PEP8\n",
    "# https://realpython.com/python-pep8/\n",
    "# https://www.python.org/dev/peps/pep-0008/\n",
    "#\n",
    "# Python history\n",
    "#\n",
    "# Guido van Rossum, creator in 1989. He retired last month. Final job was with Dropbox.\n",
    "# https://en.wikipedia.org/wiki/Python_(programming_language)"
   ]
  },
  {
   "cell_type": "code",
   "execution_count": 2,
   "metadata": {},
   "outputs": [],
   "source": [
    "# review"
   ]
  },
  {
   "cell_type": "code",
   "execution_count": 3,
   "metadata": {},
   "outputs": [],
   "source": [
    "a = 1\n",
    "b = 1.0\n",
    "c = '1'\n",
    "d = [1, 2]\n",
    "e = (1, 2)\n",
    "f = { 'x': 1, 'y': 2}\n",
    "g = {1, 2}"
   ]
  },
  {
   "cell_type": "code",
   "execution_count": 4,
   "metadata": {},
   "outputs": [
    {
     "name": "stdout",
     "output_type": "stream",
     "text": [
      "a = <class 'int'>\n",
      "b = <class 'float'>\n",
      "c = <class 'str'>\n",
      "d = <class 'list'>\n",
      "e = <class 'tuple'>\n",
      "f = <class 'dict'>\n",
      "g = <class 'set'>\n"
     ]
    }
   ],
   "source": [
    "print('a =', type(a))\n",
    "print('b =', type(b))\n",
    "print('c =', type(c))\n",
    "print('d =', type(d))\n",
    "print('e =', type(e))\n",
    "print('f =', type(f))\n",
    "print('g =', type(g))"
   ]
  },
  {
   "cell_type": "code",
   "execution_count": null,
   "metadata": {},
   "outputs": [],
   "source": []
  },
  {
   "cell_type": "markdown",
   "metadata": {},
   "source": [
    "<h3>Dictionary (aka dict)</h3>"
   ]
  },
  {
   "cell_type": "code",
   "execution_count": 5,
   "metadata": {},
   "outputs": [],
   "source": [
    "# key:value pair"
   ]
  },
  {
   "cell_type": "code",
   "execution_count": 6,
   "metadata": {},
   "outputs": [],
   "source": [
    "#initializing an empty dictionary\n",
    "dog_d = {}\n",
    "cat_d = dict()"
   ]
  },
  {
   "cell_type": "code",
   "execution_count": 7,
   "metadata": {},
   "outputs": [],
   "source": [
    "# initializing with key:values pairs\n",
    "dog_d = {'big': 3, 'small': 2, 'golden': 1, 'spotted': 1}\n",
    "clothes_d = {'shirt': 'red', 'pants': 'bluejean', 'hat': 'white'}"
   ]
  },
  {
   "cell_type": "code",
   "execution_count": 8,
   "metadata": {},
   "outputs": [
    {
     "data": {
      "text/plain": [
       "{'big': 3, 'small': 2, 'golden': 1, 'spotted': 1}"
      ]
     },
     "execution_count": 8,
     "metadata": {},
     "output_type": "execute_result"
    }
   ],
   "source": [
    "dog_d"
   ]
  },
  {
   "cell_type": "code",
   "execution_count": 9,
   "metadata": {},
   "outputs": [
    {
     "name": "stdout",
     "output_type": "stream",
     "text": [
      "number of dog_d keys: 4\n",
      "number of clothes_d keys: 3\n"
     ]
    }
   ],
   "source": [
    "# how many keys\n",
    "print('number of dog_d keys:', len(dog_d))\n",
    "print('number of clothes_d keys:', len(clothes_d))"
   ]
  },
  {
   "cell_type": "code",
   "execution_count": 10,
   "metadata": {},
   "outputs": [
    {
     "data": {
      "text/plain": [
       "3"
      ]
     },
     "execution_count": 10,
     "metadata": {},
     "output_type": "execute_result"
    }
   ],
   "source": [
    "# access components of a dictionary with keys\n",
    "dog_d['big']"
   ]
  },
  {
   "cell_type": "code",
   "execution_count": 11,
   "metadata": {},
   "outputs": [
    {
     "data": {
      "text/plain": [
       "2"
      ]
     },
     "execution_count": 11,
     "metadata": {},
     "output_type": "execute_result"
    }
   ],
   "source": [
    "dog_d['small']"
   ]
  },
  {
   "cell_type": "code",
   "execution_count": 12,
   "metadata": {},
   "outputs": [],
   "source": [
    "# dictionaries are mutable\n",
    "dog_d['small'] = 4"
   ]
  },
  {
   "cell_type": "code",
   "execution_count": 13,
   "metadata": {},
   "outputs": [
    {
     "data": {
      "text/plain": [
       "{'big': 3, 'small': 4, 'golden': 1, 'spotted': 1}"
      ]
     },
     "execution_count": 13,
     "metadata": {},
     "output_type": "execute_result"
    }
   ],
   "source": [
    "dog_d"
   ]
  },
  {
   "cell_type": "code",
   "execution_count": 14,
   "metadata": {},
   "outputs": [
    {
     "data": {
      "text/plain": [
       "81"
      ]
     },
     "execution_count": 14,
     "metadata": {},
     "output_type": "execute_result"
    }
   ],
   "source": [
    "# using dictionary key:value\n",
    "pow(3, dog_d['small'])"
   ]
  },
  {
   "cell_type": "code",
   "execution_count": 15,
   "metadata": {},
   "outputs": [
    {
     "data": {
      "text/plain": [
       "dict_items([('big', 3), ('small', 4), ('golden', 1), ('spotted', 1)])"
      ]
     },
     "execution_count": 15,
     "metadata": {},
     "output_type": "execute_result"
    }
   ],
   "source": [
    "# return the contents of the dictionary as a list of tuples\n",
    "dog_d.items()"
   ]
  },
  {
   "cell_type": "code",
   "execution_count": 16,
   "metadata": {},
   "outputs": [
    {
     "name": "stdout",
     "output_type": "stream",
     "text": [
      "dict_keys(['big', 'small', 'golden', 'spotted'])\n"
     ]
    }
   ],
   "source": [
    "print(dog_d.keys())"
   ]
  },
  {
   "cell_type": "code",
   "execution_count": 17,
   "metadata": {},
   "outputs": [
    {
     "name": "stdout",
     "output_type": "stream",
     "text": [
      "big <class 'str'>\n"
     ]
    }
   ],
   "source": [
    "print(list(dog_d.keys())[0], type(list(dog_d.keys())[0]))"
   ]
  },
  {
   "cell_type": "code",
   "execution_count": 18,
   "metadata": {},
   "outputs": [
    {
     "name": "stdout",
     "output_type": "stream",
     "text": [
      "dict_values([3, 4, 1, 1])\n"
     ]
    }
   ],
   "source": [
    "print(dog_d.values())"
   ]
  },
  {
   "cell_type": "code",
   "execution_count": 19,
   "metadata": {},
   "outputs": [
    {
     "name": "stdout",
     "output_type": "stream",
     "text": [
      "[3, 4, 1, 1]\n"
     ]
    }
   ],
   "source": [
    "print(list(dog_d.values()))"
   ]
  },
  {
   "cell_type": "code",
   "execution_count": 20,
   "metadata": {},
   "outputs": [
    {
     "data": {
      "text/plain": [
       "('small', 4)"
      ]
     },
     "execution_count": 20,
     "metadata": {},
     "output_type": "execute_result"
    }
   ],
   "source": [
    "list(dog_d.items())[1]"
   ]
  },
  {
   "cell_type": "code",
   "execution_count": 21,
   "metadata": {},
   "outputs": [],
   "source": [
    "# return the items of a dictionary and case to type list\n",
    "dog_list = list(dog_d.items())"
   ]
  },
  {
   "cell_type": "code",
   "execution_count": 26,
   "metadata": {},
   "outputs": [
    {
     "data": {
      "text/plain": [
       "('small', 4)"
      ]
     },
     "execution_count": 26,
     "metadata": {},
     "output_type": "execute_result"
    }
   ],
   "source": [
    "dog_list[1]"
   ]
  },
  {
   "cell_type": "code",
   "execution_count": 27,
   "metadata": {},
   "outputs": [
    {
     "data": {
      "text/plain": [
       "[('big', 3), ('small', 4), ('golden', 1), ('spotted', 1)]"
      ]
     },
     "execution_count": 27,
     "metadata": {},
     "output_type": "execute_result"
    }
   ],
   "source": [
    "dog_list"
   ]
  },
  {
   "cell_type": "code",
   "execution_count": 28,
   "metadata": {},
   "outputs": [
    {
     "data": {
      "text/plain": [
       "tuple"
      ]
     },
     "execution_count": 28,
     "metadata": {},
     "output_type": "execute_result"
    }
   ],
   "source": [
    "type(dog_list[0])"
   ]
  },
  {
   "cell_type": "code",
   "execution_count": 30,
   "metadata": {},
   "outputs": [
    {
     "name": "stdout",
     "output_type": "stream",
     "text": [
      "Dog list dog_list[0][1] = 3 , <class 'int'>\n"
     ]
    }
   ],
   "source": [
    "print('Dog list dog_list[0][1] =', dog_list[0][1], ',', type(dog_list[0][1]))"
   ]
  },
  {
   "cell_type": "code",
   "execution_count": 31,
   "metadata": {},
   "outputs": [
    {
     "data": {
      "text/plain": [
       "{'big': 3, 'small': 4, 'golden': 1, 'spotted': 1, 'short hair': 5}"
      ]
     },
     "execution_count": 31,
     "metadata": {},
     "output_type": "execute_result"
    }
   ],
   "source": [
    "# add a new key:value\n",
    "dog_d['short hair'] = 5\n",
    "dog_d"
   ]
  },
  {
   "cell_type": "code",
   "execution_count": 32,
   "metadata": {},
   "outputs": [],
   "source": [
    "# update dictionary method to add or update\n",
    "dog_d.update({'long hair': 2})"
   ]
  },
  {
   "cell_type": "code",
   "execution_count": 33,
   "metadata": {
    "scrolled": false
   },
   "outputs": [
    {
     "data": {
      "text/plain": [
       "{'big': 3,\n",
       " 'small': 4,\n",
       " 'golden': 1,\n",
       " 'spotted': 1,\n",
       " 'short hair': 5,\n",
       " 'long hair': 2}"
      ]
     },
     "execution_count": 33,
     "metadata": {},
     "output_type": "execute_result"
    }
   ],
   "source": [
    "dog_d"
   ]
  },
  {
   "cell_type": "code",
   "execution_count": 34,
   "metadata": {},
   "outputs": [],
   "source": [
    "# More complex data structures\n",
    "# lists as values to keys"
   ]
  },
  {
   "cell_type": "code",
   "execution_count": 43,
   "metadata": {},
   "outputs": [],
   "source": [
    "pig_d = {'starts': [3, 15, 21], 'ends': [13, 20, 35]}"
   ]
  },
  {
   "cell_type": "code",
   "execution_count": 44,
   "metadata": {},
   "outputs": [
    {
     "data": {
      "text/plain": [
       "{'starts': [3, 15, 21], 'ends': [13, 20, 35]}"
      ]
     },
     "execution_count": 44,
     "metadata": {},
     "output_type": "execute_result"
    }
   ],
   "source": [
    "pig_d"
   ]
  },
  {
   "cell_type": "code",
   "execution_count": 45,
   "metadata": {},
   "outputs": [
    {
     "data": {
      "text/plain": [
       "[13, 20, 35]"
      ]
     },
     "execution_count": 45,
     "metadata": {},
     "output_type": "execute_result"
    }
   ],
   "source": [
    "# datatype for the value associated with key = 'ends'\n",
    "pig_d['ends']"
   ]
  },
  {
   "cell_type": "code",
   "execution_count": 46,
   "metadata": {},
   "outputs": [
    {
     "data": {
      "text/plain": [
       "list"
      ]
     },
     "execution_count": 46,
     "metadata": {},
     "output_type": "execute_result"
    }
   ],
   "source": [
    "type(pig_d['ends'])"
   ]
  },
  {
   "cell_type": "code",
   "execution_count": 47,
   "metadata": {},
   "outputs": [
    {
     "data": {
      "text/plain": [
       "2"
      ]
     },
     "execution_count": 47,
     "metadata": {},
     "output_type": "execute_result"
    }
   ],
   "source": [
    "# len() returns the number of keys in the dictionary\n",
    "len(pig_d)"
   ]
  },
  {
   "cell_type": "code",
   "execution_count": 48,
   "metadata": {},
   "outputs": [],
   "source": [
    "# dictionary has dictionary as values\n",
    "\n",
    "# genes_d = {'genename':{'accession ID': 'abc', 'chromosome': XX, 'coordinate': [start, end]}}\n",
    "genes_d = {'RFX1':{'accession ID': 'ENSG00000132005', \n",
    "                   'chromosome': 19, \n",
    "                   'coordinate': [13961530, 14007039]\n",
    "                  }\n",
    "          }"
   ]
  },
  {
   "cell_type": "code",
   "execution_count": 50,
   "metadata": {},
   "outputs": [
    {
     "data": {
      "text/plain": [
       "{'RFX1': {'accession ID': 'ENSG00000132005',\n",
       "  'chromosome': 19,\n",
       "  'coordinate': [13961530, 14007039]}}"
      ]
     },
     "execution_count": 50,
     "metadata": {},
     "output_type": "execute_result"
    }
   ],
   "source": [
    "genes_d"
   ]
  },
  {
   "cell_type": "code",
   "execution_count": 51,
   "metadata": {},
   "outputs": [
    {
     "data": {
      "text/plain": [
       "{'accession ID': 'ENSG00000132005',\n",
       " 'chromosome': 19,\n",
       " 'coordinate': [13961530, 14007039]}"
      ]
     },
     "execution_count": 51,
     "metadata": {},
     "output_type": "execute_result"
    }
   ],
   "source": [
    "genes_d['RFX1']"
   ]
  },
  {
   "cell_type": "code",
   "execution_count": 52,
   "metadata": {},
   "outputs": [
    {
     "data": {
      "text/plain": [
       "[13961530, 14007039]"
      ]
     },
     "execution_count": 52,
     "metadata": {},
     "output_type": "execute_result"
    }
   ],
   "source": [
    "genes_d['RFX1']['coordinate']"
   ]
  },
  {
   "cell_type": "code",
   "execution_count": 53,
   "metadata": {},
   "outputs": [
    {
     "name": "stdout",
     "output_type": "stream",
     "text": [
      "False\n"
     ]
    }
   ],
   "source": [
    "if 'RFX2' in genes_d:\n",
    "    print(True)\n",
    "else:\n",
    "    print(False)"
   ]
  },
  {
   "cell_type": "code",
   "execution_count": 56,
   "metadata": {},
   "outputs": [
    {
     "name": "stdout",
     "output_type": "stream",
     "text": [
      "RFX1 located on chromosome 19 at coordinate [13961530, 14007039]\n"
     ]
    }
   ],
   "source": [
    "if genes_d['RFX1']['chromosome'] == 19:\n",
    "    print('RFX1 located on chromosome', genes_d['RFX1']['chromosome'], \\\n",
    "          'at coordinate', genes_d['RFX1']['coordinate'])"
   ]
  },
  {
   "cell_type": "code",
   "execution_count": 57,
   "metadata": {},
   "outputs": [],
   "source": [
    "#\n",
    "# dictionary for translating DNA\n",
    "#\n",
    "dnatoaa = {\n",
    "'GCT' : 'A', 'GCC' : 'A', 'GCA' : 'A', 'GCG' : 'A', 'TGT' : 'C', 'TGC' : 'C',\n",
    "'GAT' : 'D', 'GAC' : 'D', 'GAA' : 'E', 'GAG' : 'E', 'TTT' : 'F', 'TTC' : 'F',\n",
    "'GGT' : 'G', 'GGC' : 'G', 'GGA' : 'G', 'GGG' : 'G', 'CAT' : 'H', 'CAC' : 'H',\n",
    "'ATT' : 'I', 'ATC' : 'I', 'ATA' : 'I', 'AAA' : 'K', 'AAG' : 'K', 'TTG' : 'L',\n",
    "'TTA' : 'L', 'CTT' : 'L', 'CTC' : 'L', 'CTA' : 'L', 'CTG' : 'L', 'ATG' : 'M',\n",
    "'AAT' : 'N', 'AAC' : 'N', 'CCT' : 'P', 'CCC' : 'P', 'CCA' : 'P', 'CCG' : 'P',\n",
    "'CAA' : 'Q', 'CAG' : 'Q', 'CGT' : 'R', 'CGC' : 'R', 'CGA' : 'R', 'CGG' : 'R',\n",
    "'AGA' : 'R', 'AGG' : 'R', 'TCT' : 'S', 'TCC' : 'S', 'TCA' : 'S', 'TCG' : 'S',\n",
    "'AGT' : 'S', 'AGC' : 'S', 'ACT' : 'T', 'ACC' : 'T', 'ACA' : 'T', 'ACG' : 'T',\n",
    "'GTT' : 'V', 'GTC' : 'V', 'GTA' : 'V', 'GTG' : 'V', 'TGG' : 'W', 'TAT' : 'Y',\n",
    "'TAC' : 'Y', 'TAA' : '*', 'TAG' : '*', 'TGA' : '*'\n",
    "} "
   ]
  },
  {
   "cell_type": "code",
   "execution_count": 58,
   "metadata": {},
   "outputs": [],
   "source": [
    "# Special print characters (backslash makes the t and n special)\n",
    "# TAB = \\t\n",
    "# newline = \\n"
   ]
  },
  {
   "cell_type": "code",
   "execution_count": 60,
   "metadata": {},
   "outputs": [
    {
     "name": "stdout",
     "output_type": "stream",
     "text": [
      "codon =  CCT \tencoding the amino acid = P\n",
      "\n",
      "codon = CCT\n",
      "encoding the amino acid = P\n"
     ]
    }
   ],
   "source": [
    "codon = 'CCT'\n",
    "if codon in dnatoaa:\n",
    "    print('codon = ', codon, '\\tencoding the amino acid = ' + str(dnatoaa[codon]))\n",
    "    print('\\ncodon = ' + str(codon) + '\\nencoding the amino acid = ' + str(dnatoaa[codon]))"
   ]
  },
  {
   "cell_type": "code",
   "execution_count": null,
   "metadata": {},
   "outputs": [],
   "source": []
  },
  {
   "cell_type": "code",
   "execution_count": null,
   "metadata": {},
   "outputs": [],
   "source": []
  },
  {
   "cell_type": "markdown",
   "metadata": {},
   "source": [
    "<h3>Conditional -- if, elif, else</h3>"
   ]
  },
  {
   "cell_type": "markdown",
   "metadata": {},
   "source": [
    "<code>\n",
    "if test_expression:\n",
    "    Body of if\n",
    "elif test_expression:\n",
    "    Body of elif\n",
    "else: \n",
    "    Body of else\n",
    "</code>"
   ]
  },
  {
   "cell_type": "code",
   "execution_count": 63,
   "metadata": {},
   "outputs": [
    {
     "name": "stdout",
     "output_type": "stream",
     "text": [
      "tomato color is yellow\n"
     ]
    }
   ],
   "source": [
    "#tomato_color = 'green'\n",
    "#tomato_color = 'red'\n",
    "tomato_color = 'yellow'\n",
    "\n",
    "if tomato_color == 'red':\n",
    "    print('The tomato is ready to harvest')\n",
    "elif tomato_color == 'green':\n",
    "    print('tomato is not ripe')\n",
    "else:\n",
    "    print('tomato color is', tomato_color)"
   ]
  },
  {
   "cell_type": "code",
   "execution_count": 65,
   "metadata": {},
   "outputs": [
    {
     "name": "stdout",
     "output_type": "stream",
     "text": [
      "There are 3 codons\n"
     ]
    }
   ],
   "source": [
    "DNA_string = 'AGCTTGAGT'\n",
    "\n",
    "if len(DNA_string) % 3 != 0:\n",
    "    print('DNA sequence is not multiple of three')\n",
    "else:\n",
    "    print('There are', int(len(DNA_string)/3), 'codons')\n",
    "    # make a change so the number of codons is an integer not a float"
   ]
  },
  {
   "cell_type": "code",
   "execution_count": 66,
   "metadata": {},
   "outputs": [],
   "source": [
    "# change the print statement to output # of codons as int"
   ]
  },
  {
   "cell_type": "code",
   "execution_count": 67,
   "metadata": {},
   "outputs": [
    {
     "name": "stdout",
     "output_type": "stream",
     "text": [
      "yes on first\n",
      "\n",
      "after if/elif/else\n"
     ]
    }
   ],
   "source": [
    "x = 9\n",
    "\n",
    "if x ** 2 == 81:\n",
    "    print('yes on first')\n",
    "elif x ** 3 == 729:\n",
    "    print('yes on second')\n",
    "else:\n",
    "    print('else')\n",
    "\n",
    "print('\\nafter if/elif/else')"
   ]
  },
  {
   "cell_type": "code",
   "execution_count": 68,
   "metadata": {},
   "outputs": [
    {
     "name": "stdout",
     "output_type": "stream",
     "text": [
      "yes\n"
     ]
    }
   ],
   "source": [
    "if 1 == 1 or 2 != 1:\n",
    "    print('yes')\n",
    "else:\n",
    "    print('no')"
   ]
  },
  {
   "cell_type": "code",
   "execution_count": null,
   "metadata": {},
   "outputs": [],
   "source": []
  },
  {
   "cell_type": "markdown",
   "metadata": {},
   "source": [
    "<h1>Sets</h1>"
   ]
  },
  {
   "cell_type": "code",
   "execution_count": 69,
   "metadata": {},
   "outputs": [],
   "source": [
    "# non-redundant ordered, mutable"
   ]
  },
  {
   "cell_type": "code",
   "execution_count": 71,
   "metadata": {},
   "outputs": [
    {
     "name": "stdout",
     "output_type": "stream",
     "text": [
      "<class 'set'> {1, 2, 4, 5, 6, 7, 9, 10.5, 'dog', 'cat'}\n"
     ]
    }
   ],
   "source": [
    "a_set = {1, 2, 4, 'cat', 'dog', 9, 5, 10.5, 4, 2, 7, 6, 9, 9}\n",
    "print(type(a_set), a_set)"
   ]
  },
  {
   "cell_type": "code",
   "execution_count": 72,
   "metadata": {},
   "outputs": [
    {
     "data": {
      "text/plain": [
       "{1, 10.5, 2, 4, 5, 6, 7, 9, 'cat', 'dog'}"
      ]
     },
     "execution_count": 72,
     "metadata": {},
     "output_type": "execute_result"
    }
   ],
   "source": [
    "a_set"
   ]
  },
  {
   "cell_type": "code",
   "execution_count": 73,
   "metadata": {},
   "outputs": [
    {
     "name": "stdout",
     "output_type": "stream",
     "text": [
      "<class 'tuple'> (10, 1, 2, 9, 3, 12, 12, 16, 20)\n",
      "<class 'set'> {1, 2, 3, 9, 10, 12, 16, 20}\n"
     ]
    }
   ],
   "source": [
    "a2_tuple = (10, 1, 2, 9, 3, 12, 12, 16, 20)\n",
    "print(type(a2_tuple), a2_tuple)\n",
    "a2_set = set(a2_tuple)\n",
    "print(type(a_set), a2_set)"
   ]
  },
  {
   "cell_type": "code",
   "execution_count": 74,
   "metadata": {},
   "outputs": [
    {
     "data": {
      "text/plain": [
       "set"
      ]
     },
     "execution_count": 74,
     "metadata": {},
     "output_type": "execute_result"
    }
   ],
   "source": [
    "type(a2_set)"
   ]
  },
  {
   "cell_type": "code",
   "execution_count": 75,
   "metadata": {},
   "outputs": [
    {
     "data": {
      "text/plain": [
       "{1, 2, 3, 9, 10, 12, 16, 20}"
      ]
     },
     "execution_count": 75,
     "metadata": {},
     "output_type": "execute_result"
    }
   ],
   "source": [
    "a2_set"
   ]
  },
  {
   "cell_type": "code",
   "execution_count": 76,
   "metadata": {},
   "outputs": [
    {
     "name": "stdout",
     "output_type": "stream",
     "text": [
      "a_set = {1, 2, 4, 5, 6, 7, 9, 10.5, 'dog', 'cat'}\n",
      "a2_set = {1, 2, 3, 9, 10, 12, 16, 20}\n",
      "a3_set = {1, 2, 3, 4, 5, 6, 7, 9, 10.5, 10, 12, 16, 'dog', 'cat', 20}\n"
     ]
    }
   ],
   "source": [
    "# Combination all elements. Union of sets.\n",
    "a3_set = a_set.union(a2_set)\n",
    "print('a_set =',a_set)\n",
    "print('a2_set =',a2_set)\n",
    "print('a3_set =',a3_set)"
   ]
  },
  {
   "cell_type": "code",
   "execution_count": 77,
   "metadata": {},
   "outputs": [
    {
     "name": "stdout",
     "output_type": "stream",
     "text": [
      "a_set = {1, 2, 4, 5, 6, 7, 9, 10.5, 'dog', 'cat'}\n",
      "a2_set = {1, 2, 3, 9, 10, 12, 16, 20}\n",
      "a4_set = {1, 2, 9}\n"
     ]
    }
   ],
   "source": [
    "# Whats in common. Intersection between sets. \n",
    "a4_set = a_set.intersection(a2_set)\n",
    "print('a_set =',a_set)\n",
    "print('a2_set =',a2_set)\n",
    "print('a4_set =',a4_set)"
   ]
  },
  {
   "cell_type": "code",
   "execution_count": 78,
   "metadata": {},
   "outputs": [
    {
     "name": "stdout",
     "output_type": "stream",
     "text": [
      "{1, 2, 4, 5, 6, 7, 9, 10.5, 11, 'dog', 'cat'}\n"
     ]
    }
   ],
   "source": [
    "# add to set\n",
    "a_set.add(11)\n",
    "print(a_set)"
   ]
  },
  {
   "cell_type": "code",
   "execution_count": 79,
   "metadata": {},
   "outputs": [
    {
     "name": "stdout",
     "output_type": "stream",
     "text": [
      "{1, 2, 4, 5, 6, 7, 9, 10.5, 11, 'cat'}\n"
     ]
    }
   ],
   "source": [
    "# remove from set\n",
    "a_set.remove('dog')\n",
    "print(a_set)"
   ]
  },
  {
   "cell_type": "code",
   "execution_count": null,
   "metadata": {},
   "outputs": [],
   "source": []
  },
  {
   "cell_type": "code",
   "execution_count": 80,
   "metadata": {},
   "outputs": [],
   "source": [
    "# using 'in'"
   ]
  },
  {
   "cell_type": "code",
   "execution_count": 81,
   "metadata": {},
   "outputs": [
    {
     "name": "stdout",
     "output_type": "stream",
     "text": [
      "I found a golden dog\n"
     ]
    }
   ],
   "source": [
    "# is key in dictionary?\n",
    "if 'golden' in dog_d:\n",
    "    print('I found a golden dog')"
   ]
  },
  {
   "cell_type": "code",
   "execution_count": 84,
   "metadata": {},
   "outputs": [
    {
     "name": "stdout",
     "output_type": "stream",
     "text": [
      "found small in {'big': 3, 'small': 4, 'golden': 1, 'spotted': 1, 'short hair': 5, 'long hair': 2}\n"
     ]
    }
   ],
   "source": [
    "# is key in dictionary?\n",
    "a_key = 'small'\n",
    "if a_key in dog_d:\n",
    "    print('found', a_key, 'in', dog_d)\n",
    "else:\n",
    "    print('didn\\'t find', a_key, 'in', dog_d )"
   ]
  },
  {
   "cell_type": "code",
   "execution_count": 88,
   "metadata": {
    "scrolled": true
   },
   "outputs": [
    {
     "name": "stdout",
     "output_type": "stream",
     "text": [
      "False:  False\n",
      "False:  None\n",
      "False:  0\n",
      "False:  0.0\n",
      "False:  \n",
      "False:  \n",
      "False:  []\n",
      "False:  {}\n",
      "False:  ()\n",
      "True :  True\n",
      "True :  str\n",
      "True :  0\n",
      "True :  -1\n",
      "True :  3\n",
      "True :  1000\n",
      "True :  ''\n",
      "True :  \"\"\n"
     ]
    }
   ],
   "source": [
    "# test which values are True and False\n",
    "# The rule: What is True? Anything that is not False!\n",
    "values = [False, None, 0, 0.0, \"\", '', [], {}, (), True, 'str', \"0\", -1, 3, 1000, '\\'\\'', '\"\"']\n",
    "\n",
    "for v in values:\n",
    "    if (v):\n",
    "        print(\"True : \", v)\n",
    "    else:\n",
    "        print(\"False: \", v)"
   ]
  },
  {
   "cell_type": "code",
   "execution_count": 89,
   "metadata": {},
   "outputs": [
    {
     "name": "stdout",
     "output_type": "stream",
     "text": [
      "big\n",
      "small\n",
      "golden\n",
      "spotted\n",
      "short hair\n",
      "long hair\n"
     ]
    }
   ],
   "source": [
    "# for loop over all keys in dictionary\n",
    "for key in dog_d:\n",
    "    print(key)"
   ]
  },
  {
   "cell_type": "code",
   "execution_count": 92,
   "metadata": {},
   "outputs": [
    {
     "name": "stdout",
     "output_type": "stream",
     "text": [
      "found Hi\n"
     ]
    }
   ],
   "source": [
    "# element in list\n",
    "an_element = 'Hi'\n",
    "some_list = [4, 5, 7, 8, 9, 'Hi']\n",
    "if an_element in some_list:\n",
    "    print('found', an_element)"
   ]
  },
  {
   "cell_type": "code",
   "execution_count": 97,
   "metadata": {
    "scrolled": true
   },
   "outputs": [
    {
     "name": "stdout",
     "output_type": "stream",
     "text": [
      "Index of z is -1 is in The Hat\n",
      "\n",
      "Didn't find 'z' in 'The Hat'\n"
     ]
    }
   ],
   "source": [
    "# finding character(s) in a string\n",
    "some_str = 'The Hat'\n",
    "a_char = 'z'\n",
    "print('Index of', a_char, 'is', some_str.find(a_char), 'is in', some_str)\n",
    "if some_str.find(a_char) > -1:\n",
    "    print('\\nFound \\'' + str(a_char) + '\\' in \\'' + str(some_str) + '\\'')\n",
    "else:\n",
    "    print('\\nDidn\\'t find \\'' + str(a_char) + '\\' in \\'' + str(some_str) + '\\'')"
   ]
  },
  {
   "cell_type": "code",
   "execution_count": null,
   "metadata": {},
   "outputs": [],
   "source": [
    "# use this function for PS1"
   ]
  },
  {
   "cell_type": "markdown",
   "metadata": {},
   "source": [
    "<h3>read_fasta() function</h3>\n",
    "\n",
    "fasta file format\n",
    "\n",
    "<code>\n",
    ">Example_Sequence-1\n",
    "TCGGGACAGCTTGTTGCCCCATCCATGGGGGTCTGCTCTAAGACCCTTTAATAATAGCGG\n",
    "TTATTTTCGCAGGCAGGCACTGATCCTTAATACGGAAGCTACAACCCACAATCTGCCTAG\n",
    "CCGTGATAAACCTTCGCCCCGTGCCTGGTCTACCATCTACTCAGGAAGTTGACCGGTCGG\n",
    "TTACCTACCTCATGGCGTATGATTGTCCCGGACAGTGCTCCTATGGCTTGGAACCTAACG\n",
    "CTCACGGGTTGCTAT\n",
    ">Example_Sequence-2\n",
    "CTACCGAGAGGTGCCGTCAAATTCTGCCTTTAACCCCCACATGTAGCTCAGTAACTGAGC\n",
    "GGCTTGACGGCCCAGGTGCAGAGACGTACGATGCGTGAGCCTGCACAATAACCCACCATT\n",
    "TAGACCATTCAAAAGCTTCCAGACAGTCTAGCTCGAAGAAATTT\n",
    "</code>"
   ]
  },
  {
   "cell_type": "code",
   "execution_count": null,
   "metadata": {},
   "outputs": [],
   "source": [
    "currSeqName = '' # just for testing\n",
    "linecount = 0 # just for testing\n",
    "\n",
    "#linecount += 1 # just for testing\n",
    "\n",
    "if linecount < 22 or linecount > 100: # just for testing\n",
    "    print(line, '*' + str(currSeqName) + '*') # just for testing\n",
    "if linecount == 22: # just for testing\n",
    "    print('*********************') # just for testing\n"
   ]
  },
  {
   "cell_type": "code",
   "execution_count": 103,
   "metadata": {},
   "outputs": [],
   "source": [
    "def read_fasta(fasta_filename):\n",
    "    '''\n",
    "    Go through file, reading one line at a time, using a\n",
    "    dictionary to store the DNA sequence for each of the FASTA\n",
    "    entries (Gavin Sherlock, November 28, 2019)\n",
    "    '''    \n",
    "    with open(fasta_filename, mode='r') as fasta_file:\n",
    "\n",
    "        sequences = {}\n",
    "        currSeqName = '' # just for testing\n",
    "        linecount = 0 # just for testing\n",
    "\n",
    "        \n",
    "        for line in fasta_file:\n",
    "            line = line.rstrip()\n",
    "            linecount += 1 # just for testing\n",
    "            if linecount < 22 or linecount > 100: # just for testing\n",
    "                print(line, '*' + str(currSeqName) + '*') # just for testing\n",
    "            if linecount == 22: # just for testing\n",
    "                print('*********************') # just for testing\n",
    "            if line.startswith('>'): # it's a new fasta record\n",
    "                line = line.lstrip('>') #line = line[1:]\n",
    "                sequences[line] = '' # intialize dictionary for this entry\n",
    "                currSeqName = line\n",
    "            else:\n",
    "                sequences[currSeqName] += line\n",
    "\n",
    "    return(sequences)"
   ]
  },
  {
   "cell_type": "code",
   "execution_count": 104,
   "metadata": {},
   "outputs": [
    {
     "name": "stdout",
     "output_type": "stream",
     "text": [
      ">Rosalind_6820 **\n",
      "CATTAGCTAGCTAGCTGGTAGAAGATACGCCCTTTAATTTTCGAGCAAGGTCTGAGCGAG *Rosalind_6820*\n",
      "GGGAGTCCACCGTCATGCGTAGATCCTACATCCCTTATAAGTCTGCTTATTATGCGTTAA *Rosalind_6820*\n",
      "CGATCACTATCTCCTGAGAAAGGCACTCGGTTTTGGCTCACTAGACATGCGCCCGCGTAG *Rosalind_6820*\n",
      "ACACCTGTCACCAAGCATCCGTCACGTGATGTTAGTAAGGACATCCGCTACCCAGAATTT *Rosalind_6820*\n",
      "GATCTTTCCGATTGGTACTTTACAGCATGCTACTGGTTTTAGCCGGCGGTCCGGCATCTA *Rosalind_6820*\n",
      "GTCAAACATTTCGCTAAAGGTACACCGCTGCCTACCGATGTGCTTATGCGATGTGATGCA *Rosalind_6820*\n",
      "AATATATTACTTTGGCGCAAGAGTAGGCAAAAAAACTACCGGACCACGAATTTTAAACTT *Rosalind_6820*\n",
      "GCTTTGACCTATGGACCAAACGACGATGACAAGGAAAGTAATCTGCCATGTGCAAGTGCC *Rosalind_6820*\n",
      "GTCAAACCCGTTTTTGATTTAGGTAGCGTCCGACAGCTTGAAGGTGAGAGTTTATGAGTG *Rosalind_6820*\n",
      "GTTCGGTGTCCTCCAGTGCGGGCGACTCAGTGCTCTAAGAAGCCTCGCCGTATTGGCCCA *Rosalind_6820*\n",
      "ACATGAAGTCGCTGGTCCTTATTAAAAGGGTGCATCGGTTTGATTGTGCGACAACCGCCG *Rosalind_6820*\n",
      "TTGATACGCGGAATAAAATGTCATTAGCTGACCGGTGTAGCTTGTCTCCGAATAGGTCAA *Rosalind_6820*\n",
      "TGCTGCGAACCGCGCCCATATTTCCAATAAAGGCTGTGGGTCTTGGTGACTTACCGCATG *Rosalind_6820*\n",
      "AATAGGCGATAAACGCCCCTCGCTAGCAACCATGTGTCTCAATCAATCAGCACTTGCTGA *Rosalind_6820*\n",
      "AAATGAACTGGACACGACGACTTCATGTGAGAGTGCGGTGAATATACTGACATTTCCCTC *Rosalind_6820*\n",
      "CCAGTAACGAATCCTTGTGGTAGTGAGCCAGTATCCGTGGGCTTAGACGCAGTACTAGAT *Rosalind_6820*\n",
      "GTCGAAATTTTATCAAGGTCATAGTTTAGCTGTGT *Rosalind_6820*\n",
      ">Rosalind_3684 *Rosalind_6820*\n",
      "CAACGGTCCGGCGGTTGTCCTCTAAAGGAGCGTCCTGAAAACACGTTTAAATAGCACGTT *Rosalind_3684*\n",
      "TCTCTCATATACGGACTTTTATGTCACTCTTCATCTACTGTCATGGCCAGGGAATTTGAG *Rosalind_3684*\n",
      "*********************\n",
      ">Rosalind_5746 *Rosalind_9546*\n",
      "CCGAGCAGGGTTTATAACACTATGACCACTCTGGCTAAGCTTTACATCGTAATTAGCCCT *Rosalind_5746*\n",
      "TCCGTGCTTCCTACGATATAGATACACCCAAGCCGAGACCATCCCGGTTTGCCTTAAGAA *Rosalind_5746*\n",
      "GCAGCCGCCGGACCAGGTAAATGAATTCTCTGCCTGTGCCCAAACTACGGCTTGCGGCCA *Rosalind_5746*\n",
      "AGTGGGCATCCGCTTTCCACGTAGGTGCGGCGTGGGTGGAGGAACCACGGAGCGTGTGAG *Rosalind_5746*\n",
      "ATTCGTTTGGCCCTACTGATAAGAGACATCGGCCATTCTCGTGTCACGAACTCGGCTTCA *Rosalind_5746*\n",
      "GTGAGGCTGCAGAGGCGTATAAGACCAGGCCATCTGTAGTCATGAACATCGTAGGTGTTC *Rosalind_5746*\n",
      "GTAAATTCGCTTACAGAGTTGGGAGGGGACGCGGCTAAGAAACCCGGGGCCAGTGCGCGT *Rosalind_5746*\n",
      "CCTAAAACAGATACAGGTGCACGATTTTCAACTTGCCTCGCTTATAACTAAGCAGTAACA *Rosalind_5746*\n",
      "CACTTCGAGATTCGTTAATGTATAAGCGCTTGGACGGGCGCTGCCATCGGTATCTTCGCT *Rosalind_5746*\n",
      "GGCACTCGGTTGGATCCATTTCGGCGCGAAGAACGACAAGTCCGATAGGTGTTGAAGAGA *Rosalind_5746*\n",
      "GGATTGCGGAGACAAATGCGACCCAGCTGGACCGGGGTGACCTTTTTTCTATGGGAGACG *Rosalind_5746*\n",
      "TCGGCGTCACCCGTTGCATTGATTGTCCTATGCATAGAACGGCGTGGGCCCTACCAGCTG *Rosalind_5746*\n",
      "TGGTCCGTGTATGACACTCCATCGTCGGGCTTTGCTGATTGACTACAGGGACTGTAATCA *Rosalind_5746*\n",
      "CAGGCAGCCTGGGAGAGCCGGGGTGCAACCGAGGAGCCCACGCGTTAACCAACTTTGACT *Rosalind_5746*\n",
      "CGCTC *Rosalind_5746*\n",
      "Read 7 sequences\n"
     ]
    }
   ],
   "source": [
    "read_seqs = read_fasta('rosalind_dna.fsa')\n",
    "print('Read', len(read_seqs), 'sequences')"
   ]
  },
  {
   "cell_type": "code",
   "execution_count": 105,
   "metadata": {},
   "outputs": [
    {
     "data": {
      "text/plain": [
       "dict_keys(['Rosalind_6820', 'Rosalind_3684', 'Rosalind_6908', 'Rosalind_2711', 'Rosalind_1559', 'Rosalind_9546', 'Rosalind_5746'])"
      ]
     },
     "execution_count": 105,
     "metadata": {},
     "output_type": "execute_result"
    }
   ],
   "source": [
    "read_seqs.keys()"
   ]
  },
  {
   "cell_type": "code",
   "execution_count": 108,
   "metadata": {},
   "outputs": [
    {
     "name": "stdout",
     "output_type": "stream",
     "text": [
      "Sequence Rosalind_6820 it has 995 nt\n",
      "Sequence Rosalind_3684 it has 964 nt\n",
      "Sequence Rosalind_6908 it has 855 nt\n",
      "Sequence Rosalind_2711 it has 808 nt\n",
      "Sequence Rosalind_1559 it has 891 nt\n",
      "Sequence Rosalind_9546 it has 919 nt\n",
      "Sequence Rosalind_5746 it has 845 nt\n"
     ]
    }
   ],
   "source": [
    "for key in read_seqs:\n",
    "    print('Sequence', key, 'it has', len(read_seqs[key]), 'nt')"
   ]
  },
  {
   "cell_type": "code",
   "execution_count": 109,
   "metadata": {},
   "outputs": [
    {
     "data": {
      "text/plain": [
       "'CATTAGCTAGCTAGCTGGTAGAAGATACGCCCTTTAATTTTCGAGCAAGGTCTGAGCGAGGGGAGTCCACCGTCATGCGTAGATCCTACATCCCTTATAAGTCTGCTTATTATGCGTTAACGATCACTATCTCCTGAGAAAGGCACTCGGTTTTGGCTCACTAGACATGCGCCCGCGTAGACACCTGTCACCAAGCATCCGTCACGTGATGTTAGTAAGGACATCCGCTACCCAGAATTTGATCTTTCCGATTGGTACTTTACAGCATGCTACTGGTTTTAGCCGGCGGTCCGGCATCTAGTCAAACATTTCGCTAAAGGTACACCGCTGCCTACCGATGTGCTTATGCGATGTGATGCAAATATATTACTTTGGCGCAAGAGTAGGCAAAAAAACTACCGGACCACGAATTTTAAACTTGCTTTGACCTATGGACCAAACGACGATGACAAGGAAAGTAATCTGCCATGTGCAAGTGCCGTCAAACCCGTTTTTGATTTAGGTAGCGTCCGACAGCTTGAAGGTGAGAGTTTATGAGTGGTTCGGTGTCCTCCAGTGCGGGCGACTCAGTGCTCTAAGAAGCCTCGCCGTATTGGCCCAACATGAAGTCGCTGGTCCTTATTAAAAGGGTGCATCGGTTTGATTGTGCGACAACCGCCGTTGATACGCGGAATAAAATGTCATTAGCTGACCGGTGTAGCTTGTCTCCGAATAGGTCAATGCTGCGAACCGCGCCCATATTTCCAATAAAGGCTGTGGGTCTTGGTGACTTACCGCATGAATAGGCGATAAACGCCCCTCGCTAGCAACCATGTGTCTCAATCAATCAGCACTTGCTGAAAATGAACTGGACACGACGACTTCATGTGAGAGTGCGGTGAATATACTGACATTTCCCTCCCAGTAACGAATCCTTGTGGTAGTGAGCCAGTATCCGTGGGCTTAGACGCAGTACTAGATGTCGAAATTTTATCAAGGTCATAGTTTAGCTGTGT'"
      ]
     },
     "execution_count": 109,
     "metadata": {},
     "output_type": "execute_result"
    }
   ],
   "source": [
    "read_seqs['Rosalind_6820']"
   ]
  },
  {
   "cell_type": "raw",
   "metadata": {},
   "source": []
  }
 ],
 "metadata": {
  "kernelspec": {
   "display_name": "Python 3",
   "language": "python",
   "name": "python3"
  },
  "language_info": {
   "codemirror_mode": {
    "name": "ipython",
    "version": 3
   },
   "file_extension": ".py",
   "mimetype": "text/x-python",
   "name": "python",
   "nbconvert_exporter": "python",
   "pygments_lexer": "ipython3",
   "version": "3.7.3"
  }
 },
 "nbformat": 4,
 "nbformat_minor": 2
}
